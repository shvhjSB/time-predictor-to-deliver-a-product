{
  "metadata": {
    "kernelspec": {
      "language": "python",
      "display_name": "Python 3",
      "name": "python3"
    },
    "language_info": {
      "name": "python",
      "version": "3.7.12",
      "mimetype": "text/x-python",
      "codemirror_mode": {
        "name": "ipython",
        "version": 3
      },
      "pygments_lexer": "ipython3",
      "nbconvert_exporter": "python",
      "file_extension": ".py"
    },
    "colab": {
      "provenance": []
    }
  },
  "nbformat_minor": 0,
  "nbformat": 4,
  "cells": [
    {
      "cell_type": "code",
      "source": [
        "# This Python 3 environment comes with many helpful analytics libraries installed\n",
        "# It is defined by the kaggle/python Docker image: https://github.com/kaggle/docker-python\n",
        "# For example, here's several helpful packages to load\n",
        "\n",
        "import numpy as np # linear algebra\n",
        "import pandas as pd # data processing, CSV file I/O (e.g. pd.read_csv)\n",
        "\n",
        "# Input data files are available in the read-only \"../input/\" directory\n",
        "# For example, running this (by clicking run or pressing Shift+Enter) will list all files under the input directory\n",
        "\n",
        "import os\n",
        "for dirname, _, filenames in os.walk('/kaggle/input'):\n",
        "    for filename in filenames:\n",
        "        print(os.path.join(dirname, filename))\n",
        "\n",
        "# You can write up to 20GB to the current directory (/kaggle/working/) that gets preserved as output when you create a version using \"Save & Run All\"\n",
        "# You can also write temporary files to /kaggle/temp/, but they won't be saved outside of the current session"
      ],
      "metadata": {
        "_cell_guid": "b1076dfc-b9ad-4769-8c92-a6c4dae69d19",
        "_uuid": "8f2839f25d086af736a60e9eeb907d3b93b6e0e5",
        "papermill": {
          "duration": 0.033758,
          "end_time": "2023-03-29T11:04:18.557922",
          "exception": false,
          "start_time": "2023-03-29T11:04:18.524164",
          "status": "completed"
        },
        "tags": [],
        "execution": {
          "iopub.status.busy": "2023-04-05T18:31:25.563277Z",
          "iopub.execute_input": "2023-04-05T18:31:25.564229Z",
          "iopub.status.idle": "2023-04-05T18:31:25.574722Z",
          "shell.execute_reply.started": "2023-04-05T18:31:25.564181Z",
          "shell.execute_reply": "2023-04-05T18:31:25.573199Z"
        },
        "trusted": true,
        "id": "tWNvsQ6VWRXb"
      },
      "execution_count": 1,
      "outputs": []
    },
    {
      "cell_type": "code",
      "source": [
        "import pandas as pd\n",
        "import numpy as np\n",
        "from datetime import datetime\n",
        "#plotting\n",
        "import matplotlib.pyplot as plt\n",
        "import seaborn as sns\n",
        "import matplotlib.gridspec as gridspec\n",
        "from matplotlib.ticker import MaxNLocator\n",
        "\n",
        "\n",
        "#sklearn\n",
        "from sklearn.model_selection import cross_val_score,train_test_split\n",
        "\n",
        "#stats\n",
        "from scipy import stats\n",
        "from scipy.stats import skew, boxcox_normmax, norm\n",
        "from scipy.special import boxcox1p\n",
        "from statsmodels.stats.outliers_influence import variance_inflation_factor\n",
        "\n",
        "\n",
        "from sklearn.preprocessing import StandardScaler\n",
        "pd.options.display.max_columns = 250\n",
        "pd.options.display.max_rows = 250\n",
        "plt.style.use('fivethirtyeight')\n",
        "%matplotlib inline"
      ],
      "metadata": {
        "papermill": {
          "duration": 1.310166,
          "end_time": "2023-03-29T11:04:19.877176",
          "exception": false,
          "start_time": "2023-03-29T11:04:18.567010",
          "status": "completed"
        },
        "tags": [],
        "execution": {
          "iopub.status.busy": "2023-04-05T18:31:25.576715Z",
          "iopub.execute_input": "2023-04-05T18:31:25.577034Z",
          "iopub.status.idle": "2023-04-05T18:31:25.590539Z",
          "shell.execute_reply.started": "2023-04-05T18:31:25.577004Z",
          "shell.execute_reply": "2023-04-05T18:31:25.588749Z"
        },
        "trusted": true,
        "id": "1rf019IpWRXf"
      },
      "execution_count": null,
      "outputs": []
    },
    {
      "cell_type": "code",
      "source": [
        "df=pd.read_csv('/kaggle/input/cassandra23-ps-2/dataset/train_data.csv')\n",
        "df1=pd.read_csv('/kaggle/input/cassandra23-ps-2/dataset/test_data.csv')"
      ],
      "metadata": {
        "papermill": {
          "duration": 2.248595,
          "end_time": "2023-03-29T11:04:22.134282",
          "exception": false,
          "start_time": "2023-03-29T11:04:19.885687",
          "status": "completed"
        },
        "tags": [],
        "execution": {
          "iopub.status.busy": "2023-04-05T18:31:25.593913Z",
          "iopub.execute_input": "2023-04-05T18:31:25.594367Z",
          "iopub.status.idle": "2023-04-05T18:31:26.508772Z",
          "shell.execute_reply.started": "2023-04-05T18:31:25.594295Z",
          "shell.execute_reply": "2023-04-05T18:31:26.507531Z"
        },
        "trusted": true,
        "id": "c_wytvd7WRXg"
      },
      "execution_count": null,
      "outputs": []
    },
    {
      "cell_type": "code",
      "source": [
        "# none_cols=['trip_creation_time','route_schedule_uuid','cutoff_timestamp','od_end_time','destination_center']\n",
        "# zero_cols=['osrm_distance','osrm_time','factor','segment_factor']\n",
        "# # for col in zero_cols:\n",
        "# #     df[col].replace(np.nan, 0, inplace=True)\n",
        "\n",
        "# for col in none_cols:\n",
        "#     df[col].replace(np.nan, 'None', inplace=True)"
      ],
      "metadata": {
        "execution": {
          "iopub.status.busy": "2023-04-05T18:31:26.511383Z",
          "iopub.execute_input": "2023-04-05T18:31:26.511989Z",
          "iopub.status.idle": "2023-04-05T18:31:26.516854Z",
          "shell.execute_reply.started": "2023-04-05T18:31:26.511939Z",
          "shell.execute_reply": "2023-04-05T18:31:26.515642Z"
        },
        "trusted": true,
        "id": "--x4APCUWRXg"
      },
      "execution_count": null,
      "outputs": []
    },
    {
      "cell_type": "code",
      "source": [
        "print(df.isna().sum())\n",
        "print(df1.isna().sum())"
      ],
      "metadata": {
        "papermill": {
          "duration": 0.124024,
          "end_time": "2023-03-29T11:04:24.421302",
          "exception": false,
          "start_time": "2023-03-29T11:04:24.297278",
          "status": "completed"
        },
        "tags": [],
        "execution": {
          "iopub.status.busy": "2023-04-05T18:31:26.518202Z",
          "iopub.execute_input": "2023-04-05T18:31:26.518550Z",
          "iopub.status.idle": "2023-04-05T18:31:26.623119Z",
          "shell.execute_reply.started": "2023-04-05T18:31:26.518506Z",
          "shell.execute_reply": "2023-04-05T18:31:26.621797Z"
        },
        "trusted": true,
        "id": "v3HyEtt3WRXh",
        "outputId": "6d7312e0-120c-4e50-86fd-044ddcf8d1f7"
      },
      "execution_count": null,
      "outputs": [
        {
          "name": "stdout",
          "text": "UID                                   0\ntrip_creation_time                 3515\nroute_schedule_uuid                2895\nroute_type                            0\ntrip_uuid                             0\nsource_center                         0\nsource_name                           0\ndestination_center                  803\ndestination_name                      0\nod_start_time                         0\nod_end_time                         720\nstart_scan_to_end_scan                0\nis_cutoff                             0\ncutoff_factor                         0\ncutoff_timestamp                    930\nactual_distance_to_destination        0\nosrm_time                         14432\nosrm_distance                     14432\nfactor                             1644\nsegment_actual_time                   0\nsegment_osrm_time                     0\nsegment_osrm_distance                 0\nsegment_factor                     1159\nactual_time                           0\ndtype: int64\nUID                               0\ntrip_creation_time                0\nroute_schedule_uuid               0\nroute_type                        0\ntrip_uuid                         0\nsource_center                     0\nsource_name                       0\ndestination_center                0\ndestination_name                  0\nod_start_time                     0\nod_end_time                       0\nstart_scan_to_end_scan            0\nis_cutoff                         0\ncutoff_factor                     0\ncutoff_timestamp                  0\nactual_distance_to_destination    0\nosrm_time                         0\nosrm_distance                     0\nfactor                            0\nsegment_actual_time               0\nsegment_osrm_time                 0\nsegment_osrm_distance             0\nsegment_factor                    0\ndtype: int64\n",
          "output_type": "stream"
        }
      ]
    },
    {
      "cell_type": "code",
      "source": [
        "nullcols = [col for col in df.columns if df[col].isnull().sum() >120000]\n",
        "df1.drop(nullcols, axis=1, inplace=True)\n",
        "df.drop(nullcols, axis=1, inplace=True)"
      ],
      "metadata": {
        "papermill": {
          "duration": 0.109947,
          "end_time": "2023-03-29T11:04:24.543150",
          "exception": false,
          "start_time": "2023-03-29T11:04:24.433203",
          "status": "completed"
        },
        "tags": [],
        "execution": {
          "iopub.status.busy": "2023-04-05T18:31:26.624627Z",
          "iopub.execute_input": "2023-04-05T18:31:26.625186Z",
          "iopub.status.idle": "2023-04-05T18:31:26.704977Z",
          "shell.execute_reply.started": "2023-04-05T18:31:26.625151Z",
          "shell.execute_reply": "2023-04-05T18:31:26.703980Z"
        },
        "trusted": true,
        "id": "bfeZT-OKWRXh"
      },
      "execution_count": null,
      "outputs": []
    },
    {
      "cell_type": "code",
      "source": [
        "df.head()"
      ],
      "metadata": {
        "papermill": {
          "duration": 0.044364,
          "end_time": "2023-03-29T11:04:24.599450",
          "exception": false,
          "start_time": "2023-03-29T11:04:24.555086",
          "status": "completed"
        },
        "tags": [],
        "execution": {
          "iopub.status.busy": "2023-04-05T18:31:26.706511Z",
          "iopub.execute_input": "2023-04-05T18:31:26.707633Z",
          "iopub.status.idle": "2023-04-05T18:31:26.734463Z",
          "shell.execute_reply.started": "2023-04-05T18:31:26.707584Z",
          "shell.execute_reply": "2023-04-05T18:31:26.733199Z"
        },
        "trusted": true,
        "id": "j4ElQdjSWRXi",
        "outputId": "aa64bef3-098d-41e0-cb89-35b960c49be7"
      },
      "execution_count": null,
      "outputs": [
        {
          "execution_count": 38,
          "output_type": "execute_result",
          "data": {
            "text/plain": "          UID          trip_creation_time  \\\n0  lWYYrbNEdf  2018-09-15 02:23:18.656742   \n1  iNJcHQlPCm  2018-09-30 15:07:48.971326   \n2  U6N0M43qwR  2018-09-23 22:15:46.635975   \n3  RrJUneuYNj  2018-09-21 05:11:44.833176   \n4  7QLdD7iRC9  2018-09-18 01:10:49.936747   \n\n                                 route_schedule_uuid route_type  \\\n0  thanos::sroute:9d8ed3f7-a8af-4393-ad7a-c57a720...        FTL   \n1  thanos::sroute:b9142a73-d68f-46ec-9afc-d145479...        FTL   \n2  thanos::sroute:883e99fa-50a3-40e0-a2e2-9b12ed6...        FTL   \n3  thanos::sroute:96a80600-40e1-436b-9161-fa68f9e...        FTL   \n4  thanos::sroute:b43ec86d-59c1-452c-b4a9-807d357...        FTL   \n\n                 trip_uuid source_center                         source_name  \\\n0  trip-153697819865649878  IND832109AAB  Jamshedpur_Central_I_3 (Jharkhand)   \n1  trip-153832006897106333  IND422011AAD     Nashik_TgrniaRD_I (Maharashtra)   \n2  trip-153774094663572416  IND845305AAA           Raxaul_KairiyaT_D (Bihar)   \n3  trip-153750670483274503  IND842001AAA         Muzaffrpur_Bbganj_I (Bihar)   \n4  trip-153723305402762987  IND411033AAA       Pune_Tathawde_H (Maharashtra)   \n\n  destination_center                   destination_name  \\\n0       IND834002AAB             Ranchi_Hub (Jharkhand)   \n1       IND421302AAG  Bhiwandi_Mankoli_HB (Maharashtra)   \n2                NaN        Muzaffrpur_Bbganj_I (Bihar)   \n3       IND854326AAB         Purnia_Central_H_2 (Bihar)   \n4       IND501359AAE   Hyderabad_Shamshbd_H (Telangana)   \n\n                od_start_time                 od_end_time  \\\n0  2018-09-15 02:23:18.656742  2018-09-15 06:33:35.824186   \n1  2018-09-30 22:38:13.903069  2018-10-01 06:48:37.637477   \n2  2018-09-24 03:56:37.016232  2018-09-24 11:15:00.826140   \n3  2018-09-22 10:08:32.593022  2018-09-22 19:17:22.242888   \n4  2018-09-18 01:10:49.936747  2018-09-18 17:58:48.449251   \n\n   start_scan_to_end_scan  is_cutoff  cutoff_factor     cutoff_timestamp  \\\n0              713.521495       True             44  2018-09-15 04:45:23   \n1              902.759458       True             22  2018-10-01 05:38:30   \n2              923.666146       True             22  2018-09-24 09:21:30   \n3              705.451567       True            176  2018-09-22 14:09:17   \n4             1109.682268       True            198  2018-09-18 12:14:05   \n\n   actual_distance_to_destination   osrm_time  osrm_distance    factor  \\\n0                      158.807515  778.672716    1228.735753  2.782826   \n1                       81.388109  227.479029            NaN  3.625248   \n2                      134.486898  400.072069    1188.943158  4.415969   \n3                      262.866674  510.123878     999.421258  2.946647   \n4                      379.389280         NaN            NaN  1.998790   \n\n   segment_actual_time  segment_osrm_time  segment_osrm_distance  \\\n0            77.988686          20.793472              28.475783   \n1            68.517914          18.787231              34.612259   \n2            70.475386          24.371978              29.867950   \n3           101.876844          19.588977              27.794019   \n4            46.571301          22.671495              26.971844   \n\n   segment_factor  actual_time  \n0        3.292773        100.0  \n1        4.277350         61.0  \n2        5.322072         69.0  \n3        4.265799        300.0  \n4        3.553652        286.0  ",
            "text/html": "<div>\n<style scoped>\n    .dataframe tbody tr th:only-of-type {\n        vertical-align: middle;\n    }\n\n    .dataframe tbody tr th {\n        vertical-align: top;\n    }\n\n    .dataframe thead th {\n        text-align: right;\n    }\n</style>\n<table border=\"1\" class=\"dataframe\">\n  <thead>\n    <tr style=\"text-align: right;\">\n      <th></th>\n      <th>UID</th>\n      <th>trip_creation_time</th>\n      <th>route_schedule_uuid</th>\n      <th>route_type</th>\n      <th>trip_uuid</th>\n      <th>source_center</th>\n      <th>source_name</th>\n      <th>destination_center</th>\n      <th>destination_name</th>\n      <th>od_start_time</th>\n      <th>od_end_time</th>\n      <th>start_scan_to_end_scan</th>\n      <th>is_cutoff</th>\n      <th>cutoff_factor</th>\n      <th>cutoff_timestamp</th>\n      <th>actual_distance_to_destination</th>\n      <th>osrm_time</th>\n      <th>osrm_distance</th>\n      <th>factor</th>\n      <th>segment_actual_time</th>\n      <th>segment_osrm_time</th>\n      <th>segment_osrm_distance</th>\n      <th>segment_factor</th>\n      <th>actual_time</th>\n    </tr>\n  </thead>\n  <tbody>\n    <tr>\n      <th>0</th>\n      <td>lWYYrbNEdf</td>\n      <td>2018-09-15 02:23:18.656742</td>\n      <td>thanos::sroute:9d8ed3f7-a8af-4393-ad7a-c57a720...</td>\n      <td>FTL</td>\n      <td>trip-153697819865649878</td>\n      <td>IND832109AAB</td>\n      <td>Jamshedpur_Central_I_3 (Jharkhand)</td>\n      <td>IND834002AAB</td>\n      <td>Ranchi_Hub (Jharkhand)</td>\n      <td>2018-09-15 02:23:18.656742</td>\n      <td>2018-09-15 06:33:35.824186</td>\n      <td>713.521495</td>\n      <td>True</td>\n      <td>44</td>\n      <td>2018-09-15 04:45:23</td>\n      <td>158.807515</td>\n      <td>778.672716</td>\n      <td>1228.735753</td>\n      <td>2.782826</td>\n      <td>77.988686</td>\n      <td>20.793472</td>\n      <td>28.475783</td>\n      <td>3.292773</td>\n      <td>100.0</td>\n    </tr>\n    <tr>\n      <th>1</th>\n      <td>iNJcHQlPCm</td>\n      <td>2018-09-30 15:07:48.971326</td>\n      <td>thanos::sroute:b9142a73-d68f-46ec-9afc-d145479...</td>\n      <td>FTL</td>\n      <td>trip-153832006897106333</td>\n      <td>IND422011AAD</td>\n      <td>Nashik_TgrniaRD_I (Maharashtra)</td>\n      <td>IND421302AAG</td>\n      <td>Bhiwandi_Mankoli_HB (Maharashtra)</td>\n      <td>2018-09-30 22:38:13.903069</td>\n      <td>2018-10-01 06:48:37.637477</td>\n      <td>902.759458</td>\n      <td>True</td>\n      <td>22</td>\n      <td>2018-10-01 05:38:30</td>\n      <td>81.388109</td>\n      <td>227.479029</td>\n      <td>NaN</td>\n      <td>3.625248</td>\n      <td>68.517914</td>\n      <td>18.787231</td>\n      <td>34.612259</td>\n      <td>4.277350</td>\n      <td>61.0</td>\n    </tr>\n    <tr>\n      <th>2</th>\n      <td>U6N0M43qwR</td>\n      <td>2018-09-23 22:15:46.635975</td>\n      <td>thanos::sroute:883e99fa-50a3-40e0-a2e2-9b12ed6...</td>\n      <td>FTL</td>\n      <td>trip-153774094663572416</td>\n      <td>IND845305AAA</td>\n      <td>Raxaul_KairiyaT_D (Bihar)</td>\n      <td>NaN</td>\n      <td>Muzaffrpur_Bbganj_I (Bihar)</td>\n      <td>2018-09-24 03:56:37.016232</td>\n      <td>2018-09-24 11:15:00.826140</td>\n      <td>923.666146</td>\n      <td>True</td>\n      <td>22</td>\n      <td>2018-09-24 09:21:30</td>\n      <td>134.486898</td>\n      <td>400.072069</td>\n      <td>1188.943158</td>\n      <td>4.415969</td>\n      <td>70.475386</td>\n      <td>24.371978</td>\n      <td>29.867950</td>\n      <td>5.322072</td>\n      <td>69.0</td>\n    </tr>\n    <tr>\n      <th>3</th>\n      <td>RrJUneuYNj</td>\n      <td>2018-09-21 05:11:44.833176</td>\n      <td>thanos::sroute:96a80600-40e1-436b-9161-fa68f9e...</td>\n      <td>FTL</td>\n      <td>trip-153750670483274503</td>\n      <td>IND842001AAA</td>\n      <td>Muzaffrpur_Bbganj_I (Bihar)</td>\n      <td>IND854326AAB</td>\n      <td>Purnia_Central_H_2 (Bihar)</td>\n      <td>2018-09-22 10:08:32.593022</td>\n      <td>2018-09-22 19:17:22.242888</td>\n      <td>705.451567</td>\n      <td>True</td>\n      <td>176</td>\n      <td>2018-09-22 14:09:17</td>\n      <td>262.866674</td>\n      <td>510.123878</td>\n      <td>999.421258</td>\n      <td>2.946647</td>\n      <td>101.876844</td>\n      <td>19.588977</td>\n      <td>27.794019</td>\n      <td>4.265799</td>\n      <td>300.0</td>\n    </tr>\n    <tr>\n      <th>4</th>\n      <td>7QLdD7iRC9</td>\n      <td>2018-09-18 01:10:49.936747</td>\n      <td>thanos::sroute:b43ec86d-59c1-452c-b4a9-807d357...</td>\n      <td>FTL</td>\n      <td>trip-153723305402762987</td>\n      <td>IND411033AAA</td>\n      <td>Pune_Tathawde_H (Maharashtra)</td>\n      <td>IND501359AAE</td>\n      <td>Hyderabad_Shamshbd_H (Telangana)</td>\n      <td>2018-09-18 01:10:49.936747</td>\n      <td>2018-09-18 17:58:48.449251</td>\n      <td>1109.682268</td>\n      <td>True</td>\n      <td>198</td>\n      <td>2018-09-18 12:14:05</td>\n      <td>379.389280</td>\n      <td>NaN</td>\n      <td>NaN</td>\n      <td>1.998790</td>\n      <td>46.571301</td>\n      <td>22.671495</td>\n      <td>26.971844</td>\n      <td>3.553652</td>\n      <td>286.0</td>\n    </tr>\n  </tbody>\n</table>\n</div>"
          },
          "metadata": {}
        }
      ]
    },
    {
      "cell_type": "code",
      "source": [
        "df.shape[1]"
      ],
      "metadata": {
        "papermill": {
          "duration": 0.025019,
          "end_time": "2023-03-29T11:04:24.637007",
          "exception": false,
          "start_time": "2023-03-29T11:04:24.611988",
          "status": "completed"
        },
        "tags": [],
        "execution": {
          "iopub.status.busy": "2023-04-05T18:31:26.735909Z",
          "iopub.execute_input": "2023-04-05T18:31:26.736469Z",
          "iopub.status.idle": "2023-04-05T18:31:26.744817Z",
          "shell.execute_reply.started": "2023-04-05T18:31:26.736413Z",
          "shell.execute_reply": "2023-04-05T18:31:26.743667Z"
        },
        "trusted": true,
        "id": "tA-XuuS_WRXi",
        "outputId": "4e590aad-e931-443a-95ab-590d675391a0"
      },
      "execution_count": null,
      "outputs": [
        {
          "execution_count": 39,
          "output_type": "execute_result",
          "data": {
            "text/plain": "24"
          },
          "metadata": {}
        }
      ]
    },
    {
      "cell_type": "code",
      "source": [
        "df1.shape[1]"
      ],
      "metadata": {
        "papermill": {
          "duration": 0.026961,
          "end_time": "2023-03-29T11:04:24.677140",
          "exception": false,
          "start_time": "2023-03-29T11:04:24.650179",
          "status": "completed"
        },
        "tags": [],
        "execution": {
          "iopub.status.busy": "2023-04-05T18:31:26.745944Z",
          "iopub.execute_input": "2023-04-05T18:31:26.746240Z",
          "iopub.status.idle": "2023-04-05T18:31:26.755967Z",
          "shell.execute_reply.started": "2023-04-05T18:31:26.746213Z",
          "shell.execute_reply": "2023-04-05T18:31:26.754848Z"
        },
        "trusted": true,
        "id": "RbOY1JmcWRXj",
        "outputId": "5ff92d45-3cde-4276-db94-b6f5862f56c4"
      },
      "execution_count": null,
      "outputs": [
        {
          "execution_count": 40,
          "output_type": "execute_result",
          "data": {
            "text/plain": "23"
          },
          "metadata": {}
        }
      ]
    },
    {
      "cell_type": "code",
      "source": [
        "df = df.drop('UID', axis=1)\n",
        "df1 = df1.drop('UID', axis=1)"
      ],
      "metadata": {
        "papermill": {
          "duration": 0.063794,
          "end_time": "2023-03-29T11:04:24.753646",
          "exception": false,
          "start_time": "2023-03-29T11:04:24.689852",
          "status": "completed"
        },
        "tags": [],
        "execution": {
          "iopub.status.busy": "2023-04-05T18:31:26.760372Z",
          "iopub.execute_input": "2023-04-05T18:31:26.760869Z",
          "iopub.status.idle": "2023-04-05T18:31:26.788334Z",
          "shell.execute_reply.started": "2023-04-05T18:31:26.760837Z",
          "shell.execute_reply": "2023-04-05T18:31:26.787207Z"
        },
        "trusted": true,
        "id": "Z7yz-dZRWRXj"
      },
      "execution_count": null,
      "outputs": []
    },
    {
      "cell_type": "code",
      "source": [
        "df.head()\n",
        "df.info()\n",
        "df['od_start_time1']=df['od_start_time']\n",
        "df['od_end_time1']=df['od_end_time']\n",
        "df['trip_creation_time1']=df['trip_creation_time']\n",
        "df1['od_start_time1']=df1['od_start_time']\n",
        "df1['od_end_time1']=df1['od_end_time']\n",
        "df1['trip_creation_time1']=df1['trip_creation_time']\n",
        "df.info()"
      ],
      "metadata": {
        "papermill": {
          "duration": 0.048329,
          "end_time": "2023-03-29T11:04:24.814806",
          "exception": false,
          "start_time": "2023-03-29T11:04:24.766477",
          "status": "completed"
        },
        "tags": [],
        "execution": {
          "iopub.status.busy": "2023-04-05T18:31:26.789679Z",
          "iopub.execute_input": "2023-04-05T18:31:26.790518Z",
          "iopub.status.idle": "2023-04-05T18:31:26.911554Z",
          "shell.execute_reply.started": "2023-04-05T18:31:26.790479Z",
          "shell.execute_reply": "2023-04-05T18:31:26.910250Z"
        },
        "trusted": true,
        "id": "UXn7ojA1WRXj",
        "outputId": "fba78e86-88ef-4a3b-96ce-464ccefd9fa0"
      },
      "execution_count": null,
      "outputs": [
        {
          "name": "stdout",
          "text": "<class 'pandas.core.frame.DataFrame'>\nRangeIndex: 72158 entries, 0 to 72157\nData columns (total 23 columns):\n #   Column                          Non-Null Count  Dtype  \n---  ------                          --------------  -----  \n 0   trip_creation_time              68643 non-null  object \n 1   route_schedule_uuid             69263 non-null  object \n 2   route_type                      72158 non-null  object \n 3   trip_uuid                       72158 non-null  object \n 4   source_center                   72158 non-null  object \n 5   source_name                     72158 non-null  object \n 6   destination_center              71355 non-null  object \n 7   destination_name                72158 non-null  object \n 8   od_start_time                   72158 non-null  object \n 9   od_end_time                     71438 non-null  object \n 10  start_scan_to_end_scan          72158 non-null  float64\n 11  is_cutoff                       72158 non-null  bool   \n 12  cutoff_factor                   72158 non-null  int64  \n 13  cutoff_timestamp                71228 non-null  object \n 14  actual_distance_to_destination  72158 non-null  float64\n 15  osrm_time                       57726 non-null  float64\n 16  osrm_distance                   57726 non-null  float64\n 17  factor                          70514 non-null  float64\n 18  segment_actual_time             72158 non-null  float64\n 19  segment_osrm_time               72158 non-null  float64\n 20  segment_osrm_distance           72158 non-null  float64\n 21  segment_factor                  70999 non-null  float64\n 22  actual_time                     72158 non-null  float64\ndtypes: bool(1), float64(10), int64(1), object(11)\nmemory usage: 12.2+ MB\n<class 'pandas.core.frame.DataFrame'>\nRangeIndex: 72158 entries, 0 to 72157\nData columns (total 26 columns):\n #   Column                          Non-Null Count  Dtype  \n---  ------                          --------------  -----  \n 0   trip_creation_time              68643 non-null  object \n 1   route_schedule_uuid             69263 non-null  object \n 2   route_type                      72158 non-null  object \n 3   trip_uuid                       72158 non-null  object \n 4   source_center                   72158 non-null  object \n 5   source_name                     72158 non-null  object \n 6   destination_center              71355 non-null  object \n 7   destination_name                72158 non-null  object \n 8   od_start_time                   72158 non-null  object \n 9   od_end_time                     71438 non-null  object \n 10  start_scan_to_end_scan          72158 non-null  float64\n 11  is_cutoff                       72158 non-null  bool   \n 12  cutoff_factor                   72158 non-null  int64  \n 13  cutoff_timestamp                71228 non-null  object \n 14  actual_distance_to_destination  72158 non-null  float64\n 15  osrm_time                       57726 non-null  float64\n 16  osrm_distance                   57726 non-null  float64\n 17  factor                          70514 non-null  float64\n 18  segment_actual_time             72158 non-null  float64\n 19  segment_osrm_time               72158 non-null  float64\n 20  segment_osrm_distance           72158 non-null  float64\n 21  segment_factor                  70999 non-null  float64\n 22  actual_time                     72158 non-null  float64\n 23  od_start_time1                  72158 non-null  object \n 24  od_end_time1                    71438 non-null  object \n 25  trip_creation_time1             68643 non-null  object \ndtypes: bool(1), float64(10), int64(1), object(14)\nmemory usage: 13.8+ MB\n",
          "output_type": "stream"
        }
      ]
    },
    {
      "cell_type": "code",
      "source": [
        "\n",
        "df['od_start_time'] = pd.to_datetime(df['od_start_time'])\n",
        "df['od_end_time'] = pd.to_datetime(df['od_end_time'])\n",
        "df['segment_key'] = df['trip_uuid'] + df['source_center'] + df['destination_center']\n",
        "\n",
        "segment_cols = ['segment_actual_time', 'segment_osrm_distance', 'segment_osrm_time']\n",
        "\n",
        "for col in segment_cols:\n",
        "    df[col + '_sum'] = df.groupby('segment_key')[col].cumsum()\n",
        "\n",
        "df[[col + '_sum' for col in segment_cols]]\n",
        "df.info()\n",
        "df1['od_start_time'] = pd.to_datetime(df1['od_start_time'])\n",
        "df1['od_end_time'] = pd.to_datetime(df1['od_end_time'])\n",
        "df1['segment_key'] = df1['trip_uuid'] + df1['source_center'] + df1['destination_center']\n",
        "\n",
        "segment_cols = ['segment_actual_time', 'segment_osrm_distance', 'segment_osrm_time']\n",
        "\n",
        "for col in segment_cols:\n",
        "    df1[col + '_sum'] = df1.groupby('segment_key')[col].cumsum()\n",
        "\n",
        "df1[[col + '_sum' for col in segment_cols]]"
      ],
      "metadata": {
        "execution": {
          "iopub.status.busy": "2023-04-05T18:31:26.912811Z",
          "iopub.execute_input": "2023-04-05T18:31:26.913125Z",
          "iopub.status.idle": "2023-04-05T18:31:27.392846Z",
          "shell.execute_reply.started": "2023-04-05T18:31:26.913096Z",
          "shell.execute_reply": "2023-04-05T18:31:27.391492Z"
        },
        "trusted": true,
        "id": "b2qJmcBxWRXj",
        "outputId": "be4b97ab-1dd6-400c-f262-6e8a966928c9"
      },
      "execution_count": null,
      "outputs": [
        {
          "name": "stdout",
          "text": "<class 'pandas.core.frame.DataFrame'>\nRangeIndex: 72158 entries, 0 to 72157\nData columns (total 30 columns):\n #   Column                          Non-Null Count  Dtype         \n---  ------                          --------------  -----         \n 0   trip_creation_time              68643 non-null  object        \n 1   route_schedule_uuid             69263 non-null  object        \n 2   route_type                      72158 non-null  object        \n 3   trip_uuid                       72158 non-null  object        \n 4   source_center                   72158 non-null  object        \n 5   source_name                     72158 non-null  object        \n 6   destination_center              71355 non-null  object        \n 7   destination_name                72158 non-null  object        \n 8   od_start_time                   72158 non-null  datetime64[ns]\n 9   od_end_time                     71438 non-null  datetime64[ns]\n 10  start_scan_to_end_scan          72158 non-null  float64       \n 11  is_cutoff                       72158 non-null  bool          \n 12  cutoff_factor                   72158 non-null  int64         \n 13  cutoff_timestamp                71228 non-null  object        \n 14  actual_distance_to_destination  72158 non-null  float64       \n 15  osrm_time                       57726 non-null  float64       \n 16  osrm_distance                   57726 non-null  float64       \n 17  factor                          70514 non-null  float64       \n 18  segment_actual_time             72158 non-null  float64       \n 19  segment_osrm_time               72158 non-null  float64       \n 20  segment_osrm_distance           72158 non-null  float64       \n 21  segment_factor                  70999 non-null  float64       \n 22  actual_time                     72158 non-null  float64       \n 23  od_start_time1                  72158 non-null  object        \n 24  od_end_time1                    71438 non-null  object        \n 25  trip_creation_time1             68643 non-null  object        \n 26  segment_key                     71355 non-null  object        \n 27  segment_actual_time_sum         71355 non-null  float64       \n 28  segment_osrm_distance_sum       71355 non-null  float64       \n 29  segment_osrm_time_sum           71355 non-null  float64       \ndtypes: bool(1), datetime64[ns](2), float64(13), int64(1), object(13)\nmemory usage: 16.0+ MB\n",
          "output_type": "stream"
        },
        {
          "execution_count": 43,
          "output_type": "execute_result",
          "data": {
            "text/plain": "       segment_actual_time_sum  segment_osrm_distance_sum  \\\n0                         16.0                    10.8152   \n1                         22.0                    14.7305   \n2                         15.0                    12.1171   \n3                         25.0                    23.4819   \n4                         38.0                    26.8622   \n...                        ...                        ...   \n72153                     44.0                    15.3398   \n72154                     56.0                    32.3240   \n72155                     69.0                    47.6151   \n72156                     81.0                    55.8009   \n72157                    101.0                    76.5062   \n\n       segment_osrm_time_sum  \n0                        7.0  \n1                       12.0  \n2                       11.0  \n3                       21.0  \n4                       24.0  \n...                      ...  \n72153                   23.0  \n72154                   49.0  \n72155                   70.0  \n72156                   82.0  \n72157                  116.0  \n\n[72158 rows x 3 columns]",
            "text/html": "<div>\n<style scoped>\n    .dataframe tbody tr th:only-of-type {\n        vertical-align: middle;\n    }\n\n    .dataframe tbody tr th {\n        vertical-align: top;\n    }\n\n    .dataframe thead th {\n        text-align: right;\n    }\n</style>\n<table border=\"1\" class=\"dataframe\">\n  <thead>\n    <tr style=\"text-align: right;\">\n      <th></th>\n      <th>segment_actual_time_sum</th>\n      <th>segment_osrm_distance_sum</th>\n      <th>segment_osrm_time_sum</th>\n    </tr>\n  </thead>\n  <tbody>\n    <tr>\n      <th>0</th>\n      <td>16.0</td>\n      <td>10.8152</td>\n      <td>7.0</td>\n    </tr>\n    <tr>\n      <th>1</th>\n      <td>22.0</td>\n      <td>14.7305</td>\n      <td>12.0</td>\n    </tr>\n    <tr>\n      <th>2</th>\n      <td>15.0</td>\n      <td>12.1171</td>\n      <td>11.0</td>\n    </tr>\n    <tr>\n      <th>3</th>\n      <td>25.0</td>\n      <td>23.4819</td>\n      <td>21.0</td>\n    </tr>\n    <tr>\n      <th>4</th>\n      <td>38.0</td>\n      <td>26.8622</td>\n      <td>24.0</td>\n    </tr>\n    <tr>\n      <th>...</th>\n      <td>...</td>\n      <td>...</td>\n      <td>...</td>\n    </tr>\n    <tr>\n      <th>72153</th>\n      <td>44.0</td>\n      <td>15.3398</td>\n      <td>23.0</td>\n    </tr>\n    <tr>\n      <th>72154</th>\n      <td>56.0</td>\n      <td>32.3240</td>\n      <td>49.0</td>\n    </tr>\n    <tr>\n      <th>72155</th>\n      <td>69.0</td>\n      <td>47.6151</td>\n      <td>70.0</td>\n    </tr>\n    <tr>\n      <th>72156</th>\n      <td>81.0</td>\n      <td>55.8009</td>\n      <td>82.0</td>\n    </tr>\n    <tr>\n      <th>72157</th>\n      <td>101.0</td>\n      <td>76.5062</td>\n      <td>116.0</td>\n    </tr>\n  </tbody>\n</table>\n<p>72158 rows × 3 columns</p>\n</div>"
          },
          "metadata": {}
        }
      ]
    },
    {
      "cell_type": "code",
      "source": [
        "df['od_time_diff_hour'] = (df['od_end_time'] - df['od_start_time']).dt.total_seconds() /(60)\n",
        "df['od_time_diff_hour']\n",
        "df1['od_time_diff_hour'] = (df1['od_end_time'] - df1['od_start_time']).dt.total_seconds() /(60)\n",
        "df1['od_time_diff_hour']\n",
        "df.head()"
      ],
      "metadata": {
        "execution": {
          "iopub.status.busy": "2023-04-05T18:31:27.394684Z",
          "iopub.execute_input": "2023-04-05T18:31:27.395146Z",
          "iopub.status.idle": "2023-04-05T18:31:27.436698Z",
          "shell.execute_reply.started": "2023-04-05T18:31:27.395097Z",
          "shell.execute_reply": "2023-04-05T18:31:27.435559Z"
        },
        "trusted": true,
        "id": "ZnNxkSkUWRXj",
        "outputId": "f24c8f76-0b4b-4794-f7a5-5bd80bc37c04"
      },
      "execution_count": null,
      "outputs": [
        {
          "execution_count": 44,
          "output_type": "execute_result",
          "data": {
            "text/plain": "           trip_creation_time  \\\n0  2018-09-15 02:23:18.656742   \n1  2018-09-30 15:07:48.971326   \n2  2018-09-23 22:15:46.635975   \n3  2018-09-21 05:11:44.833176   \n4  2018-09-18 01:10:49.936747   \n\n                                 route_schedule_uuid route_type  \\\n0  thanos::sroute:9d8ed3f7-a8af-4393-ad7a-c57a720...        FTL   \n1  thanos::sroute:b9142a73-d68f-46ec-9afc-d145479...        FTL   \n2  thanos::sroute:883e99fa-50a3-40e0-a2e2-9b12ed6...        FTL   \n3  thanos::sroute:96a80600-40e1-436b-9161-fa68f9e...        FTL   \n4  thanos::sroute:b43ec86d-59c1-452c-b4a9-807d357...        FTL   \n\n                 trip_uuid source_center                         source_name  \\\n0  trip-153697819865649878  IND832109AAB  Jamshedpur_Central_I_3 (Jharkhand)   \n1  trip-153832006897106333  IND422011AAD     Nashik_TgrniaRD_I (Maharashtra)   \n2  trip-153774094663572416  IND845305AAA           Raxaul_KairiyaT_D (Bihar)   \n3  trip-153750670483274503  IND842001AAA         Muzaffrpur_Bbganj_I (Bihar)   \n4  trip-153723305402762987  IND411033AAA       Pune_Tathawde_H (Maharashtra)   \n\n  destination_center                   destination_name  \\\n0       IND834002AAB             Ranchi_Hub (Jharkhand)   \n1       IND421302AAG  Bhiwandi_Mankoli_HB (Maharashtra)   \n2                NaN        Muzaffrpur_Bbganj_I (Bihar)   \n3       IND854326AAB         Purnia_Central_H_2 (Bihar)   \n4       IND501359AAE   Hyderabad_Shamshbd_H (Telangana)   \n\n               od_start_time                od_end_time  \\\n0 2018-09-15 02:23:18.656742 2018-09-15 06:33:35.824186   \n1 2018-09-30 22:38:13.903069 2018-10-01 06:48:37.637477   \n2 2018-09-24 03:56:37.016232 2018-09-24 11:15:00.826140   \n3 2018-09-22 10:08:32.593022 2018-09-22 19:17:22.242888   \n4 2018-09-18 01:10:49.936747 2018-09-18 17:58:48.449251   \n\n   start_scan_to_end_scan  is_cutoff  cutoff_factor     cutoff_timestamp  \\\n0              713.521495       True             44  2018-09-15 04:45:23   \n1              902.759458       True             22  2018-10-01 05:38:30   \n2              923.666146       True             22  2018-09-24 09:21:30   \n3              705.451567       True            176  2018-09-22 14:09:17   \n4             1109.682268       True            198  2018-09-18 12:14:05   \n\n   actual_distance_to_destination   osrm_time  osrm_distance    factor  \\\n0                      158.807515  778.672716    1228.735753  2.782826   \n1                       81.388109  227.479029            NaN  3.625248   \n2                      134.486898  400.072069    1188.943158  4.415969   \n3                      262.866674  510.123878     999.421258  2.946647   \n4                      379.389280         NaN            NaN  1.998790   \n\n   segment_actual_time  segment_osrm_time  segment_osrm_distance  \\\n0            77.988686          20.793472              28.475783   \n1            68.517914          18.787231              34.612259   \n2            70.475386          24.371978              29.867950   \n3           101.876844          19.588977              27.794019   \n4            46.571301          22.671495              26.971844   \n\n   segment_factor  actual_time              od_start_time1  \\\n0        3.292773        100.0  2018-09-15 02:23:18.656742   \n1        4.277350         61.0  2018-09-30 22:38:13.903069   \n2        5.322072         69.0  2018-09-24 03:56:37.016232   \n3        4.265799        300.0  2018-09-22 10:08:32.593022   \n4        3.553652        286.0  2018-09-18 01:10:49.936747   \n\n                 od_end_time1         trip_creation_time1  \\\n0  2018-09-15 06:33:35.824186  2018-09-15 02:23:18.656742   \n1  2018-10-01 06:48:37.637477  2018-09-30 15:07:48.971326   \n2  2018-09-24 11:15:00.826140  2018-09-23 22:15:46.635975   \n3  2018-09-22 19:17:22.242888  2018-09-21 05:11:44.833176   \n4  2018-09-18 17:58:48.449251  2018-09-18 01:10:49.936747   \n\n                                       segment_key  segment_actual_time_sum  \\\n0  trip-153697819865649878IND832109AABIND834002AAB                77.988686   \n1  trip-153832006897106333IND422011AADIND421302AAG                68.517914   \n2                                              NaN                      NaN   \n3  trip-153750670483274503IND842001AAAIND854326AAB               101.876844   \n4  trip-153723305402762987IND411033AAAIND501359AAE                46.571301   \n\n   segment_osrm_distance_sum  segment_osrm_time_sum  od_time_diff_hour  \n0                  28.475783              20.793472         250.286124  \n1                  34.612259              18.787231         490.395573  \n2                        NaN                    NaN         438.396832  \n3                  27.794019              19.588977         548.827498  \n4                  26.971844              22.671495        1007.975208  ",
            "text/html": "<div>\n<style scoped>\n    .dataframe tbody tr th:only-of-type {\n        vertical-align: middle;\n    }\n\n    .dataframe tbody tr th {\n        vertical-align: top;\n    }\n\n    .dataframe thead th {\n        text-align: right;\n    }\n</style>\n<table border=\"1\" class=\"dataframe\">\n  <thead>\n    <tr style=\"text-align: right;\">\n      <th></th>\n      <th>trip_creation_time</th>\n      <th>route_schedule_uuid</th>\n      <th>route_type</th>\n      <th>trip_uuid</th>\n      <th>source_center</th>\n      <th>source_name</th>\n      <th>destination_center</th>\n      <th>destination_name</th>\n      <th>od_start_time</th>\n      <th>od_end_time</th>\n      <th>start_scan_to_end_scan</th>\n      <th>is_cutoff</th>\n      <th>cutoff_factor</th>\n      <th>cutoff_timestamp</th>\n      <th>actual_distance_to_destination</th>\n      <th>osrm_time</th>\n      <th>osrm_distance</th>\n      <th>factor</th>\n      <th>segment_actual_time</th>\n      <th>segment_osrm_time</th>\n      <th>segment_osrm_distance</th>\n      <th>segment_factor</th>\n      <th>actual_time</th>\n      <th>od_start_time1</th>\n      <th>od_end_time1</th>\n      <th>trip_creation_time1</th>\n      <th>segment_key</th>\n      <th>segment_actual_time_sum</th>\n      <th>segment_osrm_distance_sum</th>\n      <th>segment_osrm_time_sum</th>\n      <th>od_time_diff_hour</th>\n    </tr>\n  </thead>\n  <tbody>\n    <tr>\n      <th>0</th>\n      <td>2018-09-15 02:23:18.656742</td>\n      <td>thanos::sroute:9d8ed3f7-a8af-4393-ad7a-c57a720...</td>\n      <td>FTL</td>\n      <td>trip-153697819865649878</td>\n      <td>IND832109AAB</td>\n      <td>Jamshedpur_Central_I_3 (Jharkhand)</td>\n      <td>IND834002AAB</td>\n      <td>Ranchi_Hub (Jharkhand)</td>\n      <td>2018-09-15 02:23:18.656742</td>\n      <td>2018-09-15 06:33:35.824186</td>\n      <td>713.521495</td>\n      <td>True</td>\n      <td>44</td>\n      <td>2018-09-15 04:45:23</td>\n      <td>158.807515</td>\n      <td>778.672716</td>\n      <td>1228.735753</td>\n      <td>2.782826</td>\n      <td>77.988686</td>\n      <td>20.793472</td>\n      <td>28.475783</td>\n      <td>3.292773</td>\n      <td>100.0</td>\n      <td>2018-09-15 02:23:18.656742</td>\n      <td>2018-09-15 06:33:35.824186</td>\n      <td>2018-09-15 02:23:18.656742</td>\n      <td>trip-153697819865649878IND832109AABIND834002AAB</td>\n      <td>77.988686</td>\n      <td>28.475783</td>\n      <td>20.793472</td>\n      <td>250.286124</td>\n    </tr>\n    <tr>\n      <th>1</th>\n      <td>2018-09-30 15:07:48.971326</td>\n      <td>thanos::sroute:b9142a73-d68f-46ec-9afc-d145479...</td>\n      <td>FTL</td>\n      <td>trip-153832006897106333</td>\n      <td>IND422011AAD</td>\n      <td>Nashik_TgrniaRD_I (Maharashtra)</td>\n      <td>IND421302AAG</td>\n      <td>Bhiwandi_Mankoli_HB (Maharashtra)</td>\n      <td>2018-09-30 22:38:13.903069</td>\n      <td>2018-10-01 06:48:37.637477</td>\n      <td>902.759458</td>\n      <td>True</td>\n      <td>22</td>\n      <td>2018-10-01 05:38:30</td>\n      <td>81.388109</td>\n      <td>227.479029</td>\n      <td>NaN</td>\n      <td>3.625248</td>\n      <td>68.517914</td>\n      <td>18.787231</td>\n      <td>34.612259</td>\n      <td>4.277350</td>\n      <td>61.0</td>\n      <td>2018-09-30 22:38:13.903069</td>\n      <td>2018-10-01 06:48:37.637477</td>\n      <td>2018-09-30 15:07:48.971326</td>\n      <td>trip-153832006897106333IND422011AADIND421302AAG</td>\n      <td>68.517914</td>\n      <td>34.612259</td>\n      <td>18.787231</td>\n      <td>490.395573</td>\n    </tr>\n    <tr>\n      <th>2</th>\n      <td>2018-09-23 22:15:46.635975</td>\n      <td>thanos::sroute:883e99fa-50a3-40e0-a2e2-9b12ed6...</td>\n      <td>FTL</td>\n      <td>trip-153774094663572416</td>\n      <td>IND845305AAA</td>\n      <td>Raxaul_KairiyaT_D (Bihar)</td>\n      <td>NaN</td>\n      <td>Muzaffrpur_Bbganj_I (Bihar)</td>\n      <td>2018-09-24 03:56:37.016232</td>\n      <td>2018-09-24 11:15:00.826140</td>\n      <td>923.666146</td>\n      <td>True</td>\n      <td>22</td>\n      <td>2018-09-24 09:21:30</td>\n      <td>134.486898</td>\n      <td>400.072069</td>\n      <td>1188.943158</td>\n      <td>4.415969</td>\n      <td>70.475386</td>\n      <td>24.371978</td>\n      <td>29.867950</td>\n      <td>5.322072</td>\n      <td>69.0</td>\n      <td>2018-09-24 03:56:37.016232</td>\n      <td>2018-09-24 11:15:00.826140</td>\n      <td>2018-09-23 22:15:46.635975</td>\n      <td>NaN</td>\n      <td>NaN</td>\n      <td>NaN</td>\n      <td>NaN</td>\n      <td>438.396832</td>\n    </tr>\n    <tr>\n      <th>3</th>\n      <td>2018-09-21 05:11:44.833176</td>\n      <td>thanos::sroute:96a80600-40e1-436b-9161-fa68f9e...</td>\n      <td>FTL</td>\n      <td>trip-153750670483274503</td>\n      <td>IND842001AAA</td>\n      <td>Muzaffrpur_Bbganj_I (Bihar)</td>\n      <td>IND854326AAB</td>\n      <td>Purnia_Central_H_2 (Bihar)</td>\n      <td>2018-09-22 10:08:32.593022</td>\n      <td>2018-09-22 19:17:22.242888</td>\n      <td>705.451567</td>\n      <td>True</td>\n      <td>176</td>\n      <td>2018-09-22 14:09:17</td>\n      <td>262.866674</td>\n      <td>510.123878</td>\n      <td>999.421258</td>\n      <td>2.946647</td>\n      <td>101.876844</td>\n      <td>19.588977</td>\n      <td>27.794019</td>\n      <td>4.265799</td>\n      <td>300.0</td>\n      <td>2018-09-22 10:08:32.593022</td>\n      <td>2018-09-22 19:17:22.242888</td>\n      <td>2018-09-21 05:11:44.833176</td>\n      <td>trip-153750670483274503IND842001AAAIND854326AAB</td>\n      <td>101.876844</td>\n      <td>27.794019</td>\n      <td>19.588977</td>\n      <td>548.827498</td>\n    </tr>\n    <tr>\n      <th>4</th>\n      <td>2018-09-18 01:10:49.936747</td>\n      <td>thanos::sroute:b43ec86d-59c1-452c-b4a9-807d357...</td>\n      <td>FTL</td>\n      <td>trip-153723305402762987</td>\n      <td>IND411033AAA</td>\n      <td>Pune_Tathawde_H (Maharashtra)</td>\n      <td>IND501359AAE</td>\n      <td>Hyderabad_Shamshbd_H (Telangana)</td>\n      <td>2018-09-18 01:10:49.936747</td>\n      <td>2018-09-18 17:58:48.449251</td>\n      <td>1109.682268</td>\n      <td>True</td>\n      <td>198</td>\n      <td>2018-09-18 12:14:05</td>\n      <td>379.389280</td>\n      <td>NaN</td>\n      <td>NaN</td>\n      <td>1.998790</td>\n      <td>46.571301</td>\n      <td>22.671495</td>\n      <td>26.971844</td>\n      <td>3.553652</td>\n      <td>286.0</td>\n      <td>2018-09-18 01:10:49.936747</td>\n      <td>2018-09-18 17:58:48.449251</td>\n      <td>2018-09-18 01:10:49.936747</td>\n      <td>trip-153723305402762987IND411033AAAIND501359AAE</td>\n      <td>46.571301</td>\n      <td>26.971844</td>\n      <td>22.671495</td>\n      <td>1007.975208</td>\n    </tr>\n  </tbody>\n</table>\n</div>"
          },
          "metadata": {}
        }
      ]
    },
    {
      "cell_type": "code",
      "source": [
        "def place2state(x):\n",
        "    # transform \"gurgaon_bilaspur_hb (haryana)\" into \"haryana\"\n",
        "    state = x.split('(')[1]\n",
        "\n",
        "    return state[:-1] #removing ')' from ending\n",
        "\n",
        "def place2city(x):\n",
        "    #we will remove state\n",
        "    city = x.split(' (')[0]\n",
        "\n",
        "    city = city.split('_')[0]\n",
        "\n",
        "    # Now daling with edge cases\n",
        "\n",
        "    if city == 'pnq vadgaon sheri dpc': return 'vadgaonsheri'\n",
        "\n",
        "    # ['PNQ Pashan DPC', 'Bhopal MP Nagar', 'HBR Layout PC',\n",
        "    #  'PNQ Rahatani DPC', 'Pune Balaji Nagar', 'Mumbai Antop Hill']\n",
        "\n",
        "    if city in ['pnq pashan dpc','pnq rahatani dpc', 'pune balaji nagar']:\n",
        "        return 'pune'\n",
        "\n",
        "    if city == 'hbr layout pc' :\n",
        "        return 'bengaluru'\n",
        "    if city == 'bhopal mp nagar':\n",
        "        return 'bhopal'\n",
        "    if city == 'mumbai antop hill':\n",
        "        return 'mumbai'\n",
        "\n",
        "    return city\n",
        "\n",
        "def place2city_place(x):\n",
        "\n",
        "    # we will remove state\n",
        "    x = x.split('(')[0]\n",
        "\n",
        "    len_ = len(x.split('_'))\n",
        "\n",
        "    if len_ >= 3:\n",
        "        return x.split('_')[1]\n",
        "\n",
        "    # small cities have same city and place name\n",
        "    if len_ == 2:\n",
        "        return x.split('_')[0]\n",
        "\n",
        "    # now we need to deal with edge cases or imporper name convention\n",
        "\n",
        "    # if len(x.split('_')) == 2:\n",
        "\n",
        "    return x.split(' ')[0]\n",
        "\n",
        "def place2code(x):\n",
        "    # we will remove state\n",
        "    x = x.split('(')[0]\n",
        "\n",
        "    if len(x.split('_')) >= 3:\n",
        "        return x.split('_')[-1]\n",
        "\n",
        "    return 'none'"
      ],
      "metadata": {
        "execution": {
          "iopub.status.busy": "2023-04-05T18:31:27.438353Z",
          "iopub.execute_input": "2023-04-05T18:31:27.438874Z",
          "iopub.status.idle": "2023-04-05T18:31:27.450537Z",
          "shell.execute_reply.started": "2023-04-05T18:31:27.438828Z",
          "shell.execute_reply": "2023-04-05T18:31:27.449305Z"
        },
        "trusted": true,
        "id": "bvKYNCIZWRXk"
      },
      "execution_count": null,
      "outputs": []
    },
    {
      "cell_type": "code",
      "source": [
        "df['destination_state'] = df['destination_name'].apply(lambda x: place2state(x))\n",
        "df['destination_city']  = df['destination_name'].apply(lambda x: place2city(x))\n",
        "df['destination_place'] = df['destination_name'].apply(lambda x: place2city_place(x))\n",
        "df['destination_code']  = df['destination_name'].apply(lambda x: place2code(x))\n",
        "df1['destination_state'] = df1['destination_name'].apply(lambda x: place2state(x))\n",
        "df1['destination_city']  = df1['destination_name'].apply(lambda x: place2city(x))\n",
        "df1['destination_place'] = df1['destination_name'].apply(lambda x: place2city_place(x))\n",
        "df1['destination_code']  = df1['destination_name'].apply(lambda x: place2code(x))"
      ],
      "metadata": {
        "execution": {
          "iopub.status.busy": "2023-04-05T18:31:27.452173Z",
          "iopub.execute_input": "2023-04-05T18:31:27.452526Z",
          "iopub.status.idle": "2023-04-05T18:31:28.031055Z",
          "shell.execute_reply.started": "2023-04-05T18:31:27.452496Z",
          "shell.execute_reply": "2023-04-05T18:31:28.029898Z"
        },
        "trusted": true,
        "id": "fSJiAdSYWRXk"
      },
      "execution_count": null,
      "outputs": []
    },
    {
      "cell_type": "code",
      "source": [
        "df['trip_creation_time'] = pd.to_datetime(df['trip_creation_time'])\n",
        "\n",
        "df['trip_year'] = df['trip_creation_time'].dt.year\n",
        "df['trip_month'] = df['trip_creation_time'].dt.month\n",
        "df['trip_hour'] = df['trip_creation_time'].dt.hour\n",
        "df['trip_day'] = df['trip_creation_time'].dt.day\n",
        "df['trip_week'] = df['trip_creation_time'].dt.isocalendar().week\n",
        "df['trip_dayofweek'] = df['trip_creation_time'].dt.dayofweek\n",
        "df1['trip_creation_time'] = pd.to_datetime(df1['trip_creation_time'])\n",
        "\n",
        "df1['trip_year'] = df1['trip_creation_time'].dt.year\n",
        "df1['trip_month'] = df1['trip_creation_time'].dt.month\n",
        "df1['trip_hour'] = df1['trip_creation_time'].dt.hour\n",
        "df1['trip_day'] = df1['trip_creation_time'].dt.day\n",
        "df1['trip_week'] = df1['trip_creation_time'].dt.isocalendar().week\n",
        "df1['trip_dayofweek'] = df1['trip_creation_time'].dt.dayofweek"
      ],
      "metadata": {
        "execution": {
          "iopub.status.busy": "2023-04-05T18:31:28.032509Z",
          "iopub.execute_input": "2023-04-05T18:31:28.032856Z",
          "iopub.status.idle": "2023-04-05T18:31:28.215848Z",
          "shell.execute_reply.started": "2023-04-05T18:31:28.032825Z",
          "shell.execute_reply": "2023-04-05T18:31:28.214773Z"
        },
        "trusted": true,
        "id": "FbikqlKhWRXl"
      },
      "execution_count": null,
      "outputs": []
    },
    {
      "cell_type": "code",
      "source": [
        "num_cols = ['start_scan_to_end_scan','actual_distance_to_destination','segment_actual_time_sum','osrm_time','osrm_distance','segment_osrm_distance_sum',\n",
        "           'segment_osrm_time_sum', 'od_time_diff_hour']"
      ],
      "metadata": {
        "execution": {
          "iopub.status.busy": "2023-04-05T18:31:28.217960Z",
          "iopub.execute_input": "2023-04-05T18:31:28.218286Z",
          "iopub.status.idle": "2023-04-05T18:31:28.223629Z",
          "shell.execute_reply.started": "2023-04-05T18:31:28.218254Z",
          "shell.execute_reply": "2023-04-05T18:31:28.222371Z"
        },
        "trusted": true,
        "id": "jOD5p5QYWRXl"
      },
      "execution_count": null,
      "outputs": []
    },
    {
      "cell_type": "code",
      "source": [
        "df['route_type'] = df['route_type'].map({'FTL':0, 'Carting':1})\n",
        "df1['route_type'] = df1['route_type'].map({'FTL':0, 'Carting':1})"
      ],
      "metadata": {
        "execution": {
          "iopub.status.busy": "2023-04-05T18:31:28.224860Z",
          "iopub.execute_input": "2023-04-05T18:31:28.225205Z",
          "iopub.status.idle": "2023-04-05T18:31:28.263519Z",
          "shell.execute_reply.started": "2023-04-05T18:31:28.225173Z",
          "shell.execute_reply": "2023-04-05T18:31:28.262567Z"
        },
        "trusted": true,
        "id": "lJvzAqJsWRXl"
      },
      "execution_count": null,
      "outputs": []
    },
    {
      "cell_type": "code",
      "source": [
        "from sklearn.preprocessing import StandardScaler\n",
        "scaler = StandardScaler()\n",
        "scaler.fit(df[num_cols])\n",
        "df[num_cols] = scaler.transform(df[num_cols])\n",
        "num_cols = ['start_scan_to_end_scan','actual_distance_to_destination','segment_actual_time_sum','osrm_time','osrm_distance','segment_osrm_distance_sum',\n",
        "           'segment_osrm_time_sum', 'od_time_diff_hour']\n",
        "scaler = StandardScaler()\n",
        "scaler.fit(df1[num_cols])\n",
        "df1[num_cols] = scaler.transform(df1[num_cols])"
      ],
      "metadata": {
        "execution": {
          "iopub.status.busy": "2023-04-05T18:31:28.264649Z",
          "iopub.execute_input": "2023-04-05T18:31:28.265431Z",
          "iopub.status.idle": "2023-04-05T18:31:28.414535Z",
          "shell.execute_reply.started": "2023-04-05T18:31:28.265396Z",
          "shell.execute_reply": "2023-04-05T18:31:28.413395Z"
        },
        "trusted": true,
        "id": "ch5wK_ZpWRXl"
      },
      "execution_count": null,
      "outputs": []
    },
    {
      "cell_type": "code",
      "source": [
        "df.head()\n",
        "df.info()\n",
        "df1.info()\n",
        "\n",
        "df.info()"
      ],
      "metadata": {
        "execution": {
          "iopub.status.busy": "2023-04-05T18:31:28.415609Z",
          "iopub.execute_input": "2023-04-05T18:31:28.415912Z",
          "iopub.status.idle": "2023-04-05T18:31:28.623595Z",
          "shell.execute_reply.started": "2023-04-05T18:31:28.415884Z",
          "shell.execute_reply": "2023-04-05T18:31:28.622368Z"
        },
        "trusted": true,
        "id": "g8uVFemKWRXl",
        "outputId": "8e096360-fe21-4fea-edf7-619797e068d3"
      },
      "execution_count": null,
      "outputs": [
        {
          "name": "stdout",
          "text": "<class 'pandas.core.frame.DataFrame'>\nRangeIndex: 72158 entries, 0 to 72157\nData columns (total 41 columns):\n #   Column                          Non-Null Count  Dtype         \n---  ------                          --------------  -----         \n 0   trip_creation_time              68643 non-null  datetime64[ns]\n 1   route_schedule_uuid             69263 non-null  object        \n 2   route_type                      72158 non-null  int64         \n 3   trip_uuid                       72158 non-null  object        \n 4   source_center                   72158 non-null  object        \n 5   source_name                     72158 non-null  object        \n 6   destination_center              71355 non-null  object        \n 7   destination_name                72158 non-null  object        \n 8   od_start_time                   72158 non-null  datetime64[ns]\n 9   od_end_time                     71438 non-null  datetime64[ns]\n 10  start_scan_to_end_scan          72158 non-null  float64       \n 11  is_cutoff                       72158 non-null  bool          \n 12  cutoff_factor                   72158 non-null  int64         \n 13  cutoff_timestamp                71228 non-null  object        \n 14  actual_distance_to_destination  72158 non-null  float64       \n 15  osrm_time                       57726 non-null  float64       \n 16  osrm_distance                   57726 non-null  float64       \n 17  factor                          70514 non-null  float64       \n 18  segment_actual_time             72158 non-null  float64       \n 19  segment_osrm_time               72158 non-null  float64       \n 20  segment_osrm_distance           72158 non-null  float64       \n 21  segment_factor                  70999 non-null  float64       \n 22  actual_time                     72158 non-null  float64       \n 23  od_start_time1                  72158 non-null  object        \n 24  od_end_time1                    71438 non-null  object        \n 25  trip_creation_time1             68643 non-null  object        \n 26  segment_key                     71355 non-null  object        \n 27  segment_actual_time_sum         71355 non-null  float64       \n 28  segment_osrm_distance_sum       71355 non-null  float64       \n 29  segment_osrm_time_sum           71355 non-null  float64       \n 30  od_time_diff_hour               71438 non-null  float64       \n 31  destination_state               72158 non-null  object        \n 32  destination_city                72158 non-null  object        \n 33  destination_place               72158 non-null  object        \n 34  destination_code                72158 non-null  object        \n 35  trip_year                       68643 non-null  float64       \n 36  trip_month                      68643 non-null  float64       \n 37  trip_hour                       68643 non-null  float64       \n 38  trip_day                        68643 non-null  float64       \n 39  trip_week                       68643 non-null  UInt32        \n 40  trip_dayofweek                  68643 non-null  float64       \ndtypes: UInt32(1), bool(1), datetime64[ns](3), float64(19), int64(2), object(15)\nmemory usage: 21.9+ MB\n<class 'pandas.core.frame.DataFrame'>\nRangeIndex: 72158 entries, 0 to 72157\nData columns (total 40 columns):\n #   Column                          Non-Null Count  Dtype         \n---  ------                          --------------  -----         \n 0   trip_creation_time              72158 non-null  datetime64[ns]\n 1   route_schedule_uuid             72158 non-null  object        \n 2   route_type                      72158 non-null  int64         \n 3   trip_uuid                       72158 non-null  object        \n 4   source_center                   72158 non-null  object        \n 5   source_name                     72158 non-null  object        \n 6   destination_center              72158 non-null  object        \n 7   destination_name                72158 non-null  object        \n 8   od_start_time                   72158 non-null  datetime64[ns]\n 9   od_end_time                     72158 non-null  datetime64[ns]\n 10  start_scan_to_end_scan          72158 non-null  float64       \n 11  is_cutoff                       72158 non-null  bool          \n 12  cutoff_factor                   72158 non-null  int64         \n 13  cutoff_timestamp                72158 non-null  object        \n 14  actual_distance_to_destination  72158 non-null  float64       \n 15  osrm_time                       72158 non-null  float64       \n 16  osrm_distance                   72158 non-null  float64       \n 17  factor                          72158 non-null  float64       \n 18  segment_actual_time             72158 non-null  float64       \n 19  segment_osrm_time               72158 non-null  float64       \n 20  segment_osrm_distance           72158 non-null  float64       \n 21  segment_factor                  72158 non-null  float64       \n 22  od_start_time1                  72158 non-null  object        \n 23  od_end_time1                    72158 non-null  object        \n 24  trip_creation_time1             72158 non-null  object        \n 25  segment_key                     72158 non-null  object        \n 26  segment_actual_time_sum         72158 non-null  float64       \n 27  segment_osrm_distance_sum       72158 non-null  float64       \n 28  segment_osrm_time_sum           72158 non-null  float64       \n 29  od_time_diff_hour               72158 non-null  float64       \n 30  destination_state               72158 non-null  object        \n 31  destination_city                72158 non-null  object        \n 32  destination_place               72158 non-null  object        \n 33  destination_code                72158 non-null  object        \n 34  trip_year                       72158 non-null  int64         \n 35  trip_month                      72158 non-null  int64         \n 36  trip_hour                       72158 non-null  int64         \n 37  trip_day                        72158 non-null  int64         \n 38  trip_week                       72158 non-null  UInt32        \n 39  trip_dayofweek                  72158 non-null  int64         \ndtypes: UInt32(1), bool(1), datetime64[ns](3), float64(13), int64(7), object(15)\nmemory usage: 21.3+ MB\n<class 'pandas.core.frame.DataFrame'>\nRangeIndex: 72158 entries, 0 to 72157\nData columns (total 41 columns):\n #   Column                          Non-Null Count  Dtype         \n---  ------                          --------------  -----         \n 0   trip_creation_time              68643 non-null  datetime64[ns]\n 1   route_schedule_uuid             69263 non-null  object        \n 2   route_type                      72158 non-null  int64         \n 3   trip_uuid                       72158 non-null  object        \n 4   source_center                   72158 non-null  object        \n 5   source_name                     72158 non-null  object        \n 6   destination_center              71355 non-null  object        \n 7   destination_name                72158 non-null  object        \n 8   od_start_time                   72158 non-null  datetime64[ns]\n 9   od_end_time                     71438 non-null  datetime64[ns]\n 10  start_scan_to_end_scan          72158 non-null  float64       \n 11  is_cutoff                       72158 non-null  bool          \n 12  cutoff_factor                   72158 non-null  int64         \n 13  cutoff_timestamp                71228 non-null  object        \n 14  actual_distance_to_destination  72158 non-null  float64       \n 15  osrm_time                       57726 non-null  float64       \n 16  osrm_distance                   57726 non-null  float64       \n 17  factor                          70514 non-null  float64       \n 18  segment_actual_time             72158 non-null  float64       \n 19  segment_osrm_time               72158 non-null  float64       \n 20  segment_osrm_distance           72158 non-null  float64       \n 21  segment_factor                  70999 non-null  float64       \n 22  actual_time                     72158 non-null  float64       \n 23  od_start_time1                  72158 non-null  object        \n 24  od_end_time1                    71438 non-null  object        \n 25  trip_creation_time1             68643 non-null  object        \n 26  segment_key                     71355 non-null  object        \n 27  segment_actual_time_sum         71355 non-null  float64       \n 28  segment_osrm_distance_sum       71355 non-null  float64       \n 29  segment_osrm_time_sum           71355 non-null  float64       \n 30  od_time_diff_hour               71438 non-null  float64       \n 31  destination_state               72158 non-null  object        \n 32  destination_city                72158 non-null  object        \n 33  destination_place               72158 non-null  object        \n 34  destination_code                72158 non-null  object        \n 35  trip_year                       68643 non-null  float64       \n 36  trip_month                      68643 non-null  float64       \n 37  trip_hour                       68643 non-null  float64       \n 38  trip_day                        68643 non-null  float64       \n 39  trip_week                       68643 non-null  UInt32        \n 40  trip_dayofweek                  68643 non-null  float64       \ndtypes: UInt32(1), bool(1), datetime64[ns](3), float64(19), int64(2), object(15)\nmemory usage: 21.9+ MB\n",
          "output_type": "stream"
        }
      ]
    },
    {
      "cell_type": "code",
      "source": [
        "import category_encoders as ce\n",
        "from sklearn.preprocessing import LabelEncoder\n",
        "# for col in df.columns:\n",
        "#     if df[col].dtype == 'object' or df[col].dtype == 'bool':\n",
        "#         le = ce.HashingEncoder(n_components=1)\n",
        "#         df[col] = le.fit_transform(df[col])\n",
        "\n",
        "# for col in df1.columns:\n",
        "#     if df1[col].dtype == 'object' or df1[col].dtype == 'bool':\n",
        "#         le = ce.HashingEncoder(n_components=1)\n",
        "#         df1[col] = le.fit_transform(df1[col])\n",
        "for col in df.columns:\n",
        "    if df[col].dtype == 'object' or df[col].dtype == 'bool':\n",
        "        le = LabelEncoder()\n",
        "        df[col] = le.fit_transform(df[col])\n",
        "\n",
        "for col in df1.columns:\n",
        "    if df1[col].dtype == 'object' or df1[col].dtype == 'bool':\n",
        "        le = LabelEncoder()\n",
        "        df1[col] = le.fit_transform(df1[col])\n",
        "# encoder_purpose = ce.HashingEncoder(n_components=6)\n",
        "# encoder_purpose.fit_transform(df[])\n",
        "# encoder_purpose.fit_transform(df1)"
      ],
      "metadata": {
        "papermill": {
          "duration": 1.549157,
          "end_time": "2023-03-29T11:04:26.378083",
          "exception": false,
          "start_time": "2023-03-29T11:04:24.828926",
          "status": "completed"
        },
        "tags": [],
        "execution": {
          "iopub.status.busy": "2023-04-05T18:31:28.625295Z",
          "iopub.execute_input": "2023-04-05T18:31:28.626157Z",
          "iopub.status.idle": "2023-04-05T18:31:30.219450Z",
          "shell.execute_reply.started": "2023-04-05T18:31:28.626104Z",
          "shell.execute_reply": "2023-04-05T18:31:30.218523Z"
        },
        "trusted": true,
        "id": "zbfLfAyFWRXm"
      },
      "execution_count": null,
      "outputs": []
    },
    {
      "cell_type": "code",
      "source": [
        "df.head()\n",
        "df.isnull().sum()\n",
        "df.info()\n",
        "df.drop(['trip_week','trip_creation_time','od_start_time','od_end_time'],axis=1,inplace=True)\n",
        "df1.drop(['trip_week','trip_creation_time','od_start_time','od_end_time'],axis=1,inplace=True)\n",
        "df1.info()"
      ],
      "metadata": {
        "papermill": {
          "duration": 0.043869,
          "end_time": "2023-03-29T11:04:26.434906",
          "exception": false,
          "start_time": "2023-03-29T11:04:26.391037",
          "status": "completed"
        },
        "tags": [],
        "execution": {
          "iopub.status.busy": "2023-04-05T18:31:30.220719Z",
          "iopub.execute_input": "2023-04-05T18:31:30.221242Z",
          "iopub.status.idle": "2023-04-05T18:31:30.297833Z",
          "shell.execute_reply.started": "2023-04-05T18:31:30.221210Z",
          "shell.execute_reply": "2023-04-05T18:31:30.296607Z"
        },
        "trusted": true,
        "id": "IXQ9hwj8WRXm",
        "outputId": "b6ec2d69-c301-4c89-eb40-625da730362e"
      },
      "execution_count": null,
      "outputs": [
        {
          "name": "stdout",
          "text": "<class 'pandas.core.frame.DataFrame'>\nRangeIndex: 72158 entries, 0 to 72157\nData columns (total 41 columns):\n #   Column                          Non-Null Count  Dtype         \n---  ------                          --------------  -----         \n 0   trip_creation_time              68643 non-null  datetime64[ns]\n 1   route_schedule_uuid             72158 non-null  int64         \n 2   route_type                      72158 non-null  int64         \n 3   trip_uuid                       72158 non-null  int64         \n 4   source_center                   72158 non-null  int64         \n 5   source_name                     72158 non-null  int64         \n 6   destination_center              72158 non-null  int64         \n 7   destination_name                72158 non-null  int64         \n 8   od_start_time                   72158 non-null  datetime64[ns]\n 9   od_end_time                     71438 non-null  datetime64[ns]\n 10  start_scan_to_end_scan          72158 non-null  float64       \n 11  is_cutoff                       72158 non-null  int64         \n 12  cutoff_factor                   72158 non-null  int64         \n 13  cutoff_timestamp                72158 non-null  int64         \n 14  actual_distance_to_destination  72158 non-null  float64       \n 15  osrm_time                       57726 non-null  float64       \n 16  osrm_distance                   57726 non-null  float64       \n 17  factor                          70514 non-null  float64       \n 18  segment_actual_time             72158 non-null  float64       \n 19  segment_osrm_time               72158 non-null  float64       \n 20  segment_osrm_distance           72158 non-null  float64       \n 21  segment_factor                  70999 non-null  float64       \n 22  actual_time                     72158 non-null  float64       \n 23  od_start_time1                  72158 non-null  int64         \n 24  od_end_time1                    72158 non-null  int64         \n 25  trip_creation_time1             72158 non-null  int64         \n 26  segment_key                     72158 non-null  int64         \n 27  segment_actual_time_sum         71355 non-null  float64       \n 28  segment_osrm_distance_sum       71355 non-null  float64       \n 29  segment_osrm_time_sum           71355 non-null  float64       \n 30  od_time_diff_hour               71438 non-null  float64       \n 31  destination_state               72158 non-null  int64         \n 32  destination_city                72158 non-null  int64         \n 33  destination_place               72158 non-null  int64         \n 34  destination_code                72158 non-null  int64         \n 35  trip_year                       68643 non-null  float64       \n 36  trip_month                      68643 non-null  float64       \n 37  trip_hour                       68643 non-null  float64       \n 38  trip_day                        68643 non-null  float64       \n 39  trip_week                       68643 non-null  UInt32        \n 40  trip_dayofweek                  68643 non-null  float64       \ndtypes: UInt32(1), datetime64[ns](3), float64(19), int64(18)\nmemory usage: 22.4 MB\n<class 'pandas.core.frame.DataFrame'>\nRangeIndex: 72158 entries, 0 to 72157\nData columns (total 36 columns):\n #   Column                          Non-Null Count  Dtype  \n---  ------                          --------------  -----  \n 0   route_schedule_uuid             72158 non-null  int64  \n 1   route_type                      72158 non-null  int64  \n 2   trip_uuid                       72158 non-null  int64  \n 3   source_center                   72158 non-null  int64  \n 4   source_name                     72158 non-null  int64  \n 5   destination_center              72158 non-null  int64  \n 6   destination_name                72158 non-null  int64  \n 7   start_scan_to_end_scan          72158 non-null  float64\n 8   is_cutoff                       72158 non-null  int64  \n 9   cutoff_factor                   72158 non-null  int64  \n 10  cutoff_timestamp                72158 non-null  int64  \n 11  actual_distance_to_destination  72158 non-null  float64\n 12  osrm_time                       72158 non-null  float64\n 13  osrm_distance                   72158 non-null  float64\n 14  factor                          72158 non-null  float64\n 15  segment_actual_time             72158 non-null  float64\n 16  segment_osrm_time               72158 non-null  float64\n 17  segment_osrm_distance           72158 non-null  float64\n 18  segment_factor                  72158 non-null  float64\n 19  od_start_time1                  72158 non-null  int64  \n 20  od_end_time1                    72158 non-null  int64  \n 21  trip_creation_time1             72158 non-null  int64  \n 22  segment_key                     72158 non-null  int64  \n 23  segment_actual_time_sum         72158 non-null  float64\n 24  segment_osrm_distance_sum       72158 non-null  float64\n 25  segment_osrm_time_sum           72158 non-null  float64\n 26  od_time_diff_hour               72158 non-null  float64\n 27  destination_state               72158 non-null  int64  \n 28  destination_city                72158 non-null  int64  \n 29  destination_place               72158 non-null  int64  \n 30  destination_code                72158 non-null  int64  \n 31  trip_year                       72158 non-null  int64  \n 32  trip_month                      72158 non-null  int64  \n 33  trip_hour                       72158 non-null  int64  \n 34  trip_day                        72158 non-null  int64  \n 35  trip_dayofweek                  72158 non-null  int64  \ndtypes: float64(13), int64(23)\nmemory usage: 19.8 MB\n",
          "output_type": "stream"
        }
      ]
    },
    {
      "cell_type": "code",
      "source": [
        "df.fillna(df.mean(), inplace=True)\n",
        "\n",
        "df1.fillna(df1.mean(), inplace=True)"
      ],
      "metadata": {
        "papermill": {
          "duration": 0.064651,
          "end_time": "2023-03-29T11:04:26.513405",
          "exception": false,
          "start_time": "2023-03-29T11:04:26.448754",
          "status": "completed"
        },
        "tags": [],
        "execution": {
          "iopub.status.busy": "2023-04-05T18:31:30.299132Z",
          "iopub.execute_input": "2023-04-05T18:31:30.299478Z",
          "iopub.status.idle": "2023-04-05T18:31:30.339414Z",
          "shell.execute_reply.started": "2023-04-05T18:31:30.299445Z",
          "shell.execute_reply": "2023-04-05T18:31:30.338219Z"
        },
        "trusted": true,
        "id": "DoxIsvu6WRXm"
      },
      "execution_count": null,
      "outputs": []
    },
    {
      "cell_type": "code",
      "source": [
        "df.head()\n",
        "df.info()"
      ],
      "metadata": {
        "execution": {
          "iopub.status.busy": "2023-04-05T18:31:30.340546Z",
          "iopub.execute_input": "2023-04-05T18:31:30.340853Z",
          "iopub.status.idle": "2023-04-05T18:31:30.360129Z",
          "shell.execute_reply.started": "2023-04-05T18:31:30.340824Z",
          "shell.execute_reply": "2023-04-05T18:31:30.358936Z"
        },
        "trusted": true,
        "id": "VFUBaxSUWRXm",
        "outputId": "17f0a09b-db98-4fe7-eb1a-aa6732b6ebe1"
      },
      "execution_count": null,
      "outputs": [
        {
          "name": "stdout",
          "text": "<class 'pandas.core.frame.DataFrame'>\nRangeIndex: 72158 entries, 0 to 72157\nData columns (total 37 columns):\n #   Column                          Non-Null Count  Dtype  \n---  ------                          --------------  -----  \n 0   route_schedule_uuid             72158 non-null  int64  \n 1   route_type                      72158 non-null  int64  \n 2   trip_uuid                       72158 non-null  int64  \n 3   source_center                   72158 non-null  int64  \n 4   source_name                     72158 non-null  int64  \n 5   destination_center              72158 non-null  int64  \n 6   destination_name                72158 non-null  int64  \n 7   start_scan_to_end_scan          72158 non-null  float64\n 8   is_cutoff                       72158 non-null  int64  \n 9   cutoff_factor                   72158 non-null  int64  \n 10  cutoff_timestamp                72158 non-null  int64  \n 11  actual_distance_to_destination  72158 non-null  float64\n 12  osrm_time                       72158 non-null  float64\n 13  osrm_distance                   72158 non-null  float64\n 14  factor                          72158 non-null  float64\n 15  segment_actual_time             72158 non-null  float64\n 16  segment_osrm_time               72158 non-null  float64\n 17  segment_osrm_distance           72158 non-null  float64\n 18  segment_factor                  72158 non-null  float64\n 19  actual_time                     72158 non-null  float64\n 20  od_start_time1                  72158 non-null  int64  \n 21  od_end_time1                    72158 non-null  int64  \n 22  trip_creation_time1             72158 non-null  int64  \n 23  segment_key                     72158 non-null  int64  \n 24  segment_actual_time_sum         72158 non-null  float64\n 25  segment_osrm_distance_sum       72158 non-null  float64\n 26  segment_osrm_time_sum           72158 non-null  float64\n 27  od_time_diff_hour               72158 non-null  float64\n 28  destination_state               72158 non-null  int64  \n 29  destination_city                72158 non-null  int64  \n 30  destination_place               72158 non-null  int64  \n 31  destination_code                72158 non-null  int64  \n 32  trip_year                       72158 non-null  float64\n 33  trip_month                      72158 non-null  float64\n 34  trip_hour                       72158 non-null  float64\n 35  trip_day                        72158 non-null  float64\n 36  trip_dayofweek                  72158 non-null  float64\ndtypes: float64(19), int64(18)\nmemory usage: 20.4 MB\n",
          "output_type": "stream"
        }
      ]
    },
    {
      "cell_type": "code",
      "source": [
        "def outlier_thresholds(dataframe, variable):\n",
        "    quartile1 = dataframe[variable].quantile(0.01)\n",
        "    quartile3 = dataframe[variable].quantile(0.99)\n",
        "    interquantile_range = quartile3 - quartile1\n",
        "    up_limit = quartile3 + 1.5 * interquantile_range\n",
        "    low_limit = quartile1 - 1.5 * interquantile_range\n",
        "    return low_limit, up_limit\n",
        "\n",
        "\n",
        "def replace_with_thresholds(dataframe, variable):\n",
        "    low_limit, up_limit = outlier_thresholds(dataframe, variable)\n",
        "    dataframe.loc[(dataframe[variable] < low_limit), variable] = low_limit\n",
        "    dataframe.loc[(dataframe[variable] > up_limit), variable] = up_limit\n",
        "\n",
        "for col in df.columns:\n",
        "    replace_with_thresholds(df, col)\n",
        "\n",
        "for col in df1.columns:\n",
        "    replace_with_thresholds(df1, col)\n"
      ],
      "metadata": {
        "papermill": {
          "duration": 0.298826,
          "end_time": "2023-03-29T11:04:26.826832",
          "exception": false,
          "start_time": "2023-03-29T11:04:26.528006",
          "status": "completed"
        },
        "tags": [],
        "execution": {
          "iopub.status.busy": "2023-04-05T18:31:30.361614Z",
          "iopub.execute_input": "2023-04-05T18:31:30.361926Z",
          "iopub.status.idle": "2023-04-05T18:31:30.740205Z",
          "shell.execute_reply.started": "2023-04-05T18:31:30.361896Z",
          "shell.execute_reply": "2023-04-05T18:31:30.739199Z"
        },
        "trusted": true,
        "id": "fx8FBARXWRXm"
      },
      "execution_count": null,
      "outputs": []
    },
    {
      "cell_type": "code",
      "source": [
        "cor = df.corr()"
      ],
      "metadata": {
        "papermill": {
          "duration": 0.146303,
          "end_time": "2023-03-29T11:04:26.987372",
          "exception": false,
          "start_time": "2023-03-29T11:04:26.841069",
          "status": "completed"
        },
        "tags": [],
        "execution": {
          "iopub.status.busy": "2023-04-05T18:31:30.741641Z",
          "iopub.execute_input": "2023-04-05T18:31:30.742172Z",
          "iopub.status.idle": "2023-04-05T18:31:31.041156Z",
          "shell.execute_reply.started": "2023-04-05T18:31:30.742127Z",
          "shell.execute_reply": "2023-04-05T18:31:31.040043Z"
        },
        "trusted": true,
        "id": "60DUL5sSWRXm"
      },
      "execution_count": null,
      "outputs": []
    },
    {
      "cell_type": "code",
      "source": [
        "X = df.drop([\"actual_time\"],1)   #Feature Matrix\n",
        "y = df[\"actual_time\"]"
      ],
      "metadata": {
        "execution": {
          "iopub.status.busy": "2023-04-05T18:31:31.042649Z",
          "iopub.execute_input": "2023-04-05T18:31:31.043069Z",
          "iopub.status.idle": "2023-04-05T18:31:31.064506Z",
          "shell.execute_reply.started": "2023-04-05T18:31:31.043025Z",
          "shell.execute_reply": "2023-04-05T18:31:31.063645Z"
        },
        "trusted": true,
        "id": "SeE5_k-hWRXm",
        "outputId": "a3e5835e-53a6-431f-d7f5-39161b9029e5"
      },
      "execution_count": null,
      "outputs": [
        {
          "name": "stderr",
          "text": "/opt/conda/lib/python3.7/site-packages/ipykernel_launcher.py:1: FutureWarning: In a future version of pandas all arguments of DataFrame.drop except for the argument 'labels' will be keyword-only\n  \"\"\"Entry point for launching an IPython kernel.\n",
          "output_type": "stream"
        }
      ]
    },
    {
      "cell_type": "code",
      "source": [
        "names = X.columns\n",
        "indexes = X.index\n",
        "sc = StandardScaler()\n",
        "X = sc.fit_transform(X)\n",
        "X = pd.DataFrame(X, columns=names, index=indexes)\n",
        "\n",
        "names = df1.columns\n",
        "indexes = df1.index\n",
        "sc = StandardScaler()\n",
        "df1 = sc.fit_transform(df1)\n",
        "df1 = pd.DataFrame(df1, columns=names, index=indexes)"
      ],
      "metadata": {
        "papermill": {
          "duration": 0.023601,
          "end_time": "2023-03-29T11:04:27.078360",
          "exception": false,
          "start_time": "2023-03-29T11:04:27.054759",
          "status": "completed"
        },
        "tags": [],
        "execution": {
          "iopub.status.busy": "2023-04-05T18:31:31.069334Z",
          "iopub.execute_input": "2023-04-05T18:31:31.070376Z",
          "iopub.status.idle": "2023-04-05T18:31:31.172462Z",
          "shell.execute_reply.started": "2023-04-05T18:31:31.070329Z",
          "shell.execute_reply": "2023-04-05T18:31:31.171173Z"
        },
        "trusted": true,
        "id": "a5v8O536WRXm"
      },
      "execution_count": null,
      "outputs": []
    },
    {
      "cell_type": "code",
      "source": [
        "X_train, X_val, y_train, y_val = train_test_split(X, y, test_size=0.001, random_state=42)\n",
        "from sklearn.preprocessing import MinMaxScaler, StandardScaler, LabelEncoder\n",
        "from sklearn.model_selection import train_test_split, RandomizedSearchCV, GridSearchCV\n",
        "from sklearn.metrics import mean_squared_error, accuracy_score, classification_report, confusion_matrix"
      ],
      "metadata": {
        "papermill": {
          "duration": 0.049443,
          "end_time": "2023-03-29T11:04:27.141304",
          "exception": false,
          "start_time": "2023-03-29T11:04:27.091861",
          "status": "completed"
        },
        "tags": [],
        "execution": {
          "iopub.status.busy": "2023-04-05T18:31:31.174132Z",
          "iopub.execute_input": "2023-04-05T18:31:31.174489Z",
          "iopub.status.idle": "2023-04-05T18:31:31.196413Z",
          "shell.execute_reply.started": "2023-04-05T18:31:31.174455Z",
          "shell.execute_reply": "2023-04-05T18:31:31.195481Z"
        },
        "trusted": true,
        "id": "IPaX4vGDWRXm"
      },
      "execution_count": null,
      "outputs": []
    },
    {
      "cell_type": "code",
      "source": [
        "from xgboost import XGBRegressor\n",
        "from catboost import CatBoostRegressor\n",
        "from sklearn.ensemble import RandomForestRegressor\n",
        "from sklearn.linear_model import LinearRegression\n",
        "from sklearn.tree import DecisionTreeRegressor\n",
        "from lightgbm import LGBMRegressor\n",
        "nn_model=CatBoostRegressor(n_estimators=20000,learning_rate=0.075,max_depth=9)\n",
        "nn_model.fit(X_train,y_train)"
      ],
      "metadata": {
        "execution": {
          "iopub.status.busy": "2023-04-05T18:31:31.197676Z",
          "iopub.execute_input": "2023-04-05T18:31:31.198173Z",
          "iopub.status.idle": "2023-04-05T18:32:49.503502Z",
          "shell.execute_reply.started": "2023-04-05T18:31:31.198141Z",
          "shell.execute_reply": "2023-04-05T18:32:49.502216Z"
        },
        "trusted": true,
        "id": "rXZB3MSNWRXm",
        "outputId": "cf714f44-a9b2-45c5-9b38-3d2a42e52541"
      },
      "execution_count": null,
      "outputs": [
        {
          "name": "stdout",
          "text": "0:\tlearn: 558.4915856\ttotal: 60.5ms\tremaining: 2m 1s\n1:\tlearn: 520.7451145\ttotal: 100ms\tremaining: 1m 40s\n2:\tlearn: 485.1881176\ttotal: 138ms\tremaining: 1m 31s\n3:\tlearn: 452.4223956\ttotal: 177ms\tremaining: 1m 28s\n4:\tlearn: 421.7598386\ttotal: 215ms\tremaining: 1m 25s\n5:\tlearn: 393.3459767\ttotal: 252ms\tremaining: 1m 23s\n6:\tlearn: 367.4727305\ttotal: 291ms\tremaining: 1m 22s\n7:\tlearn: 342.9419561\ttotal: 330ms\tremaining: 1m 22s\n8:\tlearn: 320.7055783\ttotal: 367ms\tremaining: 1m 21s\n9:\tlearn: 300.1137983\ttotal: 403ms\tremaining: 1m 20s\n10:\tlearn: 281.3181295\ttotal: 440ms\tremaining: 1m 19s\n11:\tlearn: 263.5719577\ttotal: 478ms\tremaining: 1m 19s\n12:\tlearn: 247.0848221\ttotal: 516ms\tremaining: 1m 18s\n13:\tlearn: 232.0476251\ttotal: 553ms\tremaining: 1m 18s\n14:\tlearn: 218.3449878\ttotal: 590ms\tremaining: 1m 18s\n15:\tlearn: 205.5302331\ttotal: 625ms\tremaining: 1m 17s\n16:\tlearn: 194.0729708\ttotal: 662ms\tremaining: 1m 17s\n17:\tlearn: 182.9138839\ttotal: 697ms\tremaining: 1m 16s\n18:\tlearn: 172.9200924\ttotal: 734ms\tremaining: 1m 16s\n19:\tlearn: 163.7642173\ttotal: 770ms\tremaining: 1m 16s\n20:\tlearn: 155.2367906\ttotal: 808ms\tremaining: 1m 16s\n21:\tlearn: 147.2618045\ttotal: 843ms\tremaining: 1m 15s\n22:\tlearn: 140.3199364\ttotal: 878ms\tremaining: 1m 15s\n23:\tlearn: 133.6770090\ttotal: 913ms\tremaining: 1m 15s\n24:\tlearn: 127.9647610\ttotal: 951ms\tremaining: 1m 15s\n25:\tlearn: 122.4697640\ttotal: 986ms\tremaining: 1m 14s\n26:\tlearn: 117.4332447\ttotal: 1.02s\tremaining: 1m 14s\n27:\tlearn: 112.7771313\ttotal: 1.06s\tremaining: 1m 14s\n28:\tlearn: 108.5172946\ttotal: 1.09s\tremaining: 1m 14s\n29:\tlearn: 104.6542840\ttotal: 1.13s\tremaining: 1m 14s\n30:\tlearn: 101.1912285\ttotal: 1.17s\tremaining: 1m 14s\n31:\tlearn: 98.1547740\ttotal: 1.2s\tremaining: 1m 14s\n32:\tlearn: 95.1924120\ttotal: 1.24s\tremaining: 1m 13s\n33:\tlearn: 92.3135593\ttotal: 1.28s\tremaining: 1m 13s\n34:\tlearn: 89.9080013\ttotal: 1.31s\tremaining: 1m 13s\n35:\tlearn: 87.7697921\ttotal: 1.35s\tremaining: 1m 13s\n36:\tlearn: 85.5859588\ttotal: 1.39s\tremaining: 1m 13s\n37:\tlearn: 83.6932108\ttotal: 1.42s\tremaining: 1m 13s\n38:\tlearn: 81.9021055\ttotal: 1.46s\tremaining: 1m 13s\n39:\tlearn: 80.2660014\ttotal: 1.5s\tremaining: 1m 13s\n40:\tlearn: 78.7593315\ttotal: 1.53s\tremaining: 1m 13s\n41:\tlearn: 77.4719341\ttotal: 1.57s\tremaining: 1m 13s\n42:\tlearn: 76.2485235\ttotal: 1.61s\tremaining: 1m 13s\n43:\tlearn: 75.2132109\ttotal: 1.64s\tremaining: 1m 12s\n44:\tlearn: 74.1806706\ttotal: 1.68s\tremaining: 1m 12s\n45:\tlearn: 72.9422982\ttotal: 1.72s\tremaining: 1m 12s\n46:\tlearn: 72.0422069\ttotal: 1.75s\tremaining: 1m 12s\n47:\tlearn: 71.2052504\ttotal: 1.79s\tremaining: 1m 12s\n48:\tlearn: 70.2705711\ttotal: 1.83s\tremaining: 1m 12s\n49:\tlearn: 69.5640945\ttotal: 1.86s\tremaining: 1m 12s\n50:\tlearn: 68.6561299\ttotal: 1.9s\tremaining: 1m 12s\n51:\tlearn: 68.1028705\ttotal: 1.94s\tremaining: 1m 12s\n52:\tlearn: 67.5744004\ttotal: 1.97s\tremaining: 1m 12s\n53:\tlearn: 66.9219983\ttotal: 2.01s\tremaining: 1m 12s\n54:\tlearn: 66.3623966\ttotal: 2.05s\tremaining: 1m 12s\n55:\tlearn: 65.9044096\ttotal: 2.09s\tremaining: 1m 12s\n56:\tlearn: 65.4368442\ttotal: 2.12s\tremaining: 1m 12s\n57:\tlearn: 65.0308936\ttotal: 2.16s\tremaining: 1m 12s\n58:\tlearn: 64.5623780\ttotal: 2.19s\tremaining: 1m 12s\n59:\tlearn: 64.2062651\ttotal: 2.23s\tremaining: 1m 12s\n60:\tlearn: 63.7419111\ttotal: 2.27s\tremaining: 1m 12s\n61:\tlearn: 63.4452414\ttotal: 2.3s\tremaining: 1m 11s\n62:\tlearn: 62.8794327\ttotal: 2.34s\tremaining: 1m 11s\n63:\tlearn: 62.5019882\ttotal: 2.37s\tremaining: 1m 11s\n64:\tlearn: 62.1637631\ttotal: 2.42s\tremaining: 1m 12s\n65:\tlearn: 61.9028258\ttotal: 2.48s\tremaining: 1m 12s\n66:\tlearn: 61.4951383\ttotal: 2.52s\tremaining: 1m 12s\n67:\tlearn: 61.1904440\ttotal: 2.56s\tremaining: 1m 12s\n68:\tlearn: 60.9352563\ttotal: 2.6s\tremaining: 1m 12s\n69:\tlearn: 60.7085204\ttotal: 2.63s\tremaining: 1m 12s\n70:\tlearn: 60.4614113\ttotal: 2.67s\tremaining: 1m 12s\n71:\tlearn: 60.1178108\ttotal: 2.71s\tremaining: 1m 12s\n72:\tlearn: 59.8937113\ttotal: 2.74s\tremaining: 1m 12s\n73:\tlearn: 59.5952744\ttotal: 2.78s\tremaining: 1m 12s\n74:\tlearn: 59.1851488\ttotal: 2.82s\tremaining: 1m 12s\n75:\tlearn: 58.9084045\ttotal: 2.85s\tremaining: 1m 12s\n76:\tlearn: 58.7185395\ttotal: 2.89s\tremaining: 1m 12s\n77:\tlearn: 58.5117467\ttotal: 2.93s\tremaining: 1m 12s\n78:\tlearn: 58.2768231\ttotal: 2.97s\tremaining: 1m 12s\n79:\tlearn: 58.0989268\ttotal: 3.01s\tremaining: 1m 12s\n80:\tlearn: 57.7957468\ttotal: 3.04s\tremaining: 1m 12s\n81:\tlearn: 57.6131956\ttotal: 3.08s\tremaining: 1m 12s\n82:\tlearn: 57.4725838\ttotal: 3.12s\tremaining: 1m 11s\n83:\tlearn: 57.2584939\ttotal: 3.16s\tremaining: 1m 11s\n84:\tlearn: 57.1002710\ttotal: 3.19s\tremaining: 1m 11s\n85:\tlearn: 56.9102683\ttotal: 3.23s\tremaining: 1m 11s\n86:\tlearn: 56.7814571\ttotal: 3.27s\tremaining: 1m 11s\n87:\tlearn: 56.5637409\ttotal: 3.3s\tremaining: 1m 11s\n88:\tlearn: 56.2722136\ttotal: 3.34s\tremaining: 1m 11s\n89:\tlearn: 56.0778005\ttotal: 3.38s\tremaining: 1m 11s\n90:\tlearn: 55.8091072\ttotal: 3.42s\tremaining: 1m 11s\n91:\tlearn: 55.7195335\ttotal: 3.45s\tremaining: 1m 11s\n92:\tlearn: 55.6244369\ttotal: 3.49s\tremaining: 1m 11s\n93:\tlearn: 55.4645551\ttotal: 3.53s\tremaining: 1m 11s\n94:\tlearn: 55.2316012\ttotal: 3.56s\tremaining: 1m 11s\n95:\tlearn: 55.0094978\ttotal: 3.6s\tremaining: 1m 11s\n96:\tlearn: 54.8357556\ttotal: 3.64s\tremaining: 1m 11s\n97:\tlearn: 54.6978527\ttotal: 3.68s\tremaining: 1m 11s\n98:\tlearn: 54.5800700\ttotal: 3.71s\tremaining: 1m 11s\n99:\tlearn: 54.3660671\ttotal: 3.75s\tremaining: 1m 11s\n100:\tlearn: 54.2373693\ttotal: 3.79s\tremaining: 1m 11s\n101:\tlearn: 54.1237964\ttotal: 3.83s\tremaining: 1m 11s\n102:\tlearn: 53.9741430\ttotal: 3.86s\tremaining: 1m 11s\n103:\tlearn: 53.8907231\ttotal: 3.9s\tremaining: 1m 11s\n104:\tlearn: 53.7368548\ttotal: 3.94s\tremaining: 1m 11s\n105:\tlearn: 53.6124158\ttotal: 3.98s\tremaining: 1m 11s\n106:\tlearn: 53.4724539\ttotal: 4.01s\tremaining: 1m 10s\n107:\tlearn: 53.2968959\ttotal: 4.05s\tremaining: 1m 10s\n108:\tlearn: 53.1967452\ttotal: 4.09s\tremaining: 1m 10s\n109:\tlearn: 53.0957569\ttotal: 4.13s\tremaining: 1m 10s\n110:\tlearn: 52.9489588\ttotal: 4.17s\tremaining: 1m 10s\n111:\tlearn: 52.8735089\ttotal: 4.2s\tremaining: 1m 10s\n112:\tlearn: 52.6893592\ttotal: 4.24s\tremaining: 1m 10s\n113:\tlearn: 52.5783502\ttotal: 4.28s\tremaining: 1m 10s\n114:\tlearn: 52.3472362\ttotal: 4.32s\tremaining: 1m 10s\n115:\tlearn: 52.2338336\ttotal: 4.36s\tremaining: 1m 10s\n116:\tlearn: 52.1808147\ttotal: 4.4s\tremaining: 1m 10s\n117:\tlearn: 52.0283731\ttotal: 4.43s\tremaining: 1m 10s\n118:\tlearn: 51.9394370\ttotal: 4.47s\tremaining: 1m 10s\n119:\tlearn: 51.8339948\ttotal: 4.51s\tremaining: 1m 10s\n120:\tlearn: 51.7636038\ttotal: 4.55s\tremaining: 1m 10s\n121:\tlearn: 51.6480011\ttotal: 4.58s\tremaining: 1m 10s\n122:\tlearn: 51.4570529\ttotal: 4.62s\tremaining: 1m 10s\n123:\tlearn: 51.3337804\ttotal: 4.66s\tremaining: 1m 10s\n124:\tlearn: 51.1756552\ttotal: 4.7s\tremaining: 1m 10s\n125:\tlearn: 51.0256487\ttotal: 4.74s\tremaining: 1m 10s\n126:\tlearn: 50.9276957\ttotal: 4.77s\tremaining: 1m 10s\n127:\tlearn: 50.8361763\ttotal: 4.81s\tremaining: 1m 10s\n128:\tlearn: 50.7355737\ttotal: 4.85s\tremaining: 1m 10s\n129:\tlearn: 50.5960484\ttotal: 4.88s\tremaining: 1m 10s\n130:\tlearn: 50.4783948\ttotal: 4.92s\tremaining: 1m 10s\n131:\tlearn: 50.3828615\ttotal: 4.96s\tremaining: 1m 10s\n132:\tlearn: 50.1909504\ttotal: 5s\tremaining: 1m 10s\n133:\tlearn: 50.1004563\ttotal: 5.04s\tremaining: 1m 10s\n134:\tlearn: 50.0023241\ttotal: 5.07s\tremaining: 1m 10s\n135:\tlearn: 49.8281790\ttotal: 5.11s\tremaining: 1m 10s\n136:\tlearn: 49.6863897\ttotal: 5.15s\tremaining: 1m 10s\n137:\tlearn: 49.5837528\ttotal: 5.19s\tremaining: 1m 9s\n138:\tlearn: 49.5089211\ttotal: 5.22s\tremaining: 1m 9s\n139:\tlearn: 49.4264420\ttotal: 5.26s\tremaining: 1m 9s\n140:\tlearn: 49.3153315\ttotal: 5.3s\tremaining: 1m 9s\n141:\tlearn: 49.2241754\ttotal: 5.33s\tremaining: 1m 9s\n142:\tlearn: 49.0587285\ttotal: 5.37s\tremaining: 1m 9s\n143:\tlearn: 48.9543576\ttotal: 5.41s\tremaining: 1m 9s\n144:\tlearn: 48.8652636\ttotal: 5.45s\tremaining: 1m 9s\n145:\tlearn: 48.7776315\ttotal: 5.49s\tremaining: 1m 9s\n146:\tlearn: 48.7101355\ttotal: 5.52s\tremaining: 1m 9s\n147:\tlearn: 48.5904936\ttotal: 5.56s\tremaining: 1m 9s\n148:\tlearn: 48.4727567\ttotal: 5.59s\tremaining: 1m 9s\n149:\tlearn: 48.3870699\ttotal: 5.63s\tremaining: 1m 9s\n150:\tlearn: 48.3115352\ttotal: 5.67s\tremaining: 1m 9s\n151:\tlearn: 48.2332032\ttotal: 5.71s\tremaining: 1m 9s\n152:\tlearn: 48.1414058\ttotal: 5.74s\tremaining: 1m 9s\n153:\tlearn: 48.0492471\ttotal: 5.78s\tremaining: 1m 9s\n154:\tlearn: 47.9723556\ttotal: 5.82s\tremaining: 1m 9s\n155:\tlearn: 47.8945982\ttotal: 5.85s\tremaining: 1m 9s\n156:\tlearn: 47.8154025\ttotal: 5.89s\tremaining: 1m 9s\n157:\tlearn: 47.6857470\ttotal: 5.92s\tremaining: 1m 9s\n158:\tlearn: 47.6107328\ttotal: 5.96s\tremaining: 1m 9s\n159:\tlearn: 47.5379655\ttotal: 6s\tremaining: 1m 9s\n160:\tlearn: 47.4412166\ttotal: 6.04s\tremaining: 1m 8s\n161:\tlearn: 47.2928617\ttotal: 6.08s\tremaining: 1m 8s\n162:\tlearn: 47.2051794\ttotal: 6.12s\tremaining: 1m 8s\n163:\tlearn: 47.0729560\ttotal: 6.15s\tremaining: 1m 8s\n164:\tlearn: 46.9819032\ttotal: 6.19s\tremaining: 1m 8s\n165:\tlearn: 46.8924807\ttotal: 6.22s\tremaining: 1m 8s\n166:\tlearn: 46.7453419\ttotal: 6.26s\tremaining: 1m 8s\n167:\tlearn: 46.6652750\ttotal: 6.3s\tremaining: 1m 8s\n168:\tlearn: 46.5344585\ttotal: 6.34s\tremaining: 1m 8s\n169:\tlearn: 46.4726116\ttotal: 6.38s\tremaining: 1m 8s\n170:\tlearn: 46.3930758\ttotal: 6.42s\tremaining: 1m 8s\n171:\tlearn: 46.3233079\ttotal: 6.45s\tremaining: 1m 8s\n172:\tlearn: 46.2418165\ttotal: 6.49s\tremaining: 1m 8s\n173:\tlearn: 46.1618867\ttotal: 6.53s\tremaining: 1m 8s\n174:\tlearn: 46.0848917\ttotal: 6.6s\tremaining: 1m 8s\n175:\tlearn: 45.9892022\ttotal: 6.65s\tremaining: 1m 8s\n176:\tlearn: 45.9145066\ttotal: 6.7s\tremaining: 1m 9s\n177:\tlearn: 45.7696576\ttotal: 6.75s\tremaining: 1m 9s\n178:\tlearn: 45.7045422\ttotal: 6.8s\tremaining: 1m 9s\n179:\tlearn: 45.6433070\ttotal: 6.85s\tremaining: 1m 9s\n180:\tlearn: 45.5813834\ttotal: 6.9s\tremaining: 1m 9s\n181:\tlearn: 45.5042491\ttotal: 6.95s\tremaining: 1m 9s\n182:\tlearn: 45.4286009\ttotal: 7.01s\tremaining: 1m 9s\n183:\tlearn: 45.3583845\ttotal: 7.07s\tremaining: 1m 9s\n184:\tlearn: 45.2716639\ttotal: 7.12s\tremaining: 1m 9s\n185:\tlearn: 45.1666014\ttotal: 7.16s\tremaining: 1m 9s\n186:\tlearn: 45.0871671\ttotal: 7.21s\tremaining: 1m 9s\n187:\tlearn: 44.9996550\ttotal: 7.26s\tremaining: 1m 9s\n188:\tlearn: 44.9203751\ttotal: 7.3s\tremaining: 1m 9s\n189:\tlearn: 44.8769215\ttotal: 7.37s\tremaining: 1m 10s\n190:\tlearn: 44.8030969\ttotal: 7.44s\tremaining: 1m 10s\n191:\tlearn: 44.7503907\ttotal: 7.49s\tremaining: 1m 10s\n192:\tlearn: 44.6889211\ttotal: 7.55s\tremaining: 1m 10s\n193:\tlearn: 44.5649539\ttotal: 7.61s\tremaining: 1m 10s\n194:\tlearn: 44.5085026\ttotal: 7.65s\tremaining: 1m 10s\n195:\tlearn: 44.4219883\ttotal: 7.7s\tremaining: 1m 10s\n196:\tlearn: 44.3710820\ttotal: 7.75s\tremaining: 1m 10s\n197:\tlearn: 44.3049334\ttotal: 7.79s\tremaining: 1m 10s\n198:\tlearn: 44.2531930\ttotal: 7.87s\tremaining: 1m 11s\n199:\tlearn: 44.1829274\ttotal: 7.92s\tremaining: 1m 11s\n200:\tlearn: 44.1127722\ttotal: 7.97s\tremaining: 1m 11s\n201:\tlearn: 44.0563775\ttotal: 8.02s\tremaining: 1m 11s\n202:\tlearn: 43.9917656\ttotal: 8.06s\tremaining: 1m 11s\n203:\tlearn: 43.9118393\ttotal: 8.11s\tremaining: 1m 11s\n204:\tlearn: 43.8534545\ttotal: 8.16s\tremaining: 1m 11s\n205:\tlearn: 43.7979574\ttotal: 8.21s\tremaining: 1m 11s\n206:\tlearn: 43.7434376\ttotal: 8.26s\tremaining: 1m 11s\n207:\tlearn: 43.6948399\ttotal: 8.3s\tremaining: 1m 11s\n208:\tlearn: 43.6120763\ttotal: 8.35s\tremaining: 1m 11s\n209:\tlearn: 43.5658629\ttotal: 8.4s\tremaining: 1m 11s\n210:\tlearn: 43.4824479\ttotal: 8.45s\tremaining: 1m 11s\n211:\tlearn: 43.4396605\ttotal: 8.49s\tremaining: 1m 11s\n212:\tlearn: 43.3872729\ttotal: 8.54s\tremaining: 1m 11s\n213:\tlearn: 43.3168004\ttotal: 8.59s\tremaining: 1m 11s\n214:\tlearn: 43.2672789\ttotal: 8.64s\tremaining: 1m 11s\n215:\tlearn: 43.2052380\ttotal: 8.69s\tremaining: 1m 11s\n216:\tlearn: 43.1466562\ttotal: 8.73s\tremaining: 1m 11s\n217:\tlearn: 43.0737012\ttotal: 8.78s\tremaining: 1m 11s\n218:\tlearn: 42.9803431\ttotal: 8.84s\tremaining: 1m 11s\n219:\tlearn: 42.9410340\ttotal: 8.89s\tremaining: 1m 11s\n220:\tlearn: 42.8077108\ttotal: 8.94s\tremaining: 1m 11s\n221:\tlearn: 42.7452128\ttotal: 8.99s\tremaining: 1m 11s\n222:\tlearn: 42.6828201\ttotal: 9.04s\tremaining: 1m 12s\n223:\tlearn: 42.6065642\ttotal: 9.08s\tremaining: 1m 11s\n224:\tlearn: 42.5528975\ttotal: 9.12s\tremaining: 1m 11s\n225:\tlearn: 42.5024919\ttotal: 9.15s\tremaining: 1m 11s\n226:\tlearn: 42.4412339\ttotal: 9.19s\tremaining: 1m 11s\n227:\tlearn: 42.3793150\ttotal: 9.23s\tremaining: 1m 11s\n228:\tlearn: 42.3237743\ttotal: 9.26s\tremaining: 1m 11s\n229:\tlearn: 42.2572835\ttotal: 9.3s\tremaining: 1m 11s\n230:\tlearn: 42.2106119\ttotal: 9.34s\tremaining: 1m 11s\n231:\tlearn: 42.1614635\ttotal: 9.38s\tremaining: 1m 11s\n232:\tlearn: 42.0014227\ttotal: 9.42s\tremaining: 1m 11s\n233:\tlearn: 41.9428180\ttotal: 9.46s\tremaining: 1m 11s\n234:\tlearn: 41.8017825\ttotal: 9.5s\tremaining: 1m 11s\n235:\tlearn: 41.7368703\ttotal: 9.54s\tremaining: 1m 11s\n236:\tlearn: 41.6151439\ttotal: 9.59s\tremaining: 1m 11s\n237:\tlearn: 41.5612161\ttotal: 9.62s\tremaining: 1m 11s\n238:\tlearn: 41.5013177\ttotal: 9.66s\tremaining: 1m 11s\n239:\tlearn: 41.4572833\ttotal: 9.7s\tremaining: 1m 11s\n240:\tlearn: 41.4123175\ttotal: 9.74s\tremaining: 1m 11s\n241:\tlearn: 41.3439169\ttotal: 9.78s\tremaining: 1m 11s\n242:\tlearn: 41.2799911\ttotal: 9.82s\tremaining: 1m 10s\n243:\tlearn: 41.2402696\ttotal: 9.85s\tremaining: 1m 10s\n244:\tlearn: 41.1941121\ttotal: 9.88s\tremaining: 1m 10s\n245:\tlearn: 41.1328807\ttotal: 9.92s\tremaining: 1m 10s\n246:\tlearn: 41.0438356\ttotal: 9.96s\tremaining: 1m 10s\n247:\tlearn: 40.9810570\ttotal: 10s\tremaining: 1m 10s\n248:\tlearn: 40.9090776\ttotal: 10s\tremaining: 1m 10s\n249:\tlearn: 40.8647313\ttotal: 10.1s\tremaining: 1m 10s\n250:\tlearn: 40.8098384\ttotal: 10.1s\tremaining: 1m 10s\n251:\tlearn: 40.7570004\ttotal: 10.1s\tremaining: 1m 10s\n252:\tlearn: 40.7070506\ttotal: 10.2s\tremaining: 1m 10s\n253:\tlearn: 40.6525965\ttotal: 10.2s\tremaining: 1m 10s\n254:\tlearn: 40.6102003\ttotal: 10.3s\tremaining: 1m 10s\n255:\tlearn: 40.5502178\ttotal: 10.3s\tremaining: 1m 10s\n256:\tlearn: 40.4988408\ttotal: 10.3s\tremaining: 1m 10s\n257:\tlearn: 40.4609245\ttotal: 10.4s\tremaining: 1m 9s\n258:\tlearn: 40.3965083\ttotal: 10.4s\tremaining: 1m 9s\n259:\tlearn: 40.3599016\ttotal: 10.4s\tremaining: 1m 9s\n260:\tlearn: 40.3162547\ttotal: 10.5s\tremaining: 1m 9s\n261:\tlearn: 40.2622099\ttotal: 10.5s\tremaining: 1m 9s\n262:\tlearn: 40.2042238\ttotal: 10.5s\tremaining: 1m 9s\n263:\tlearn: 40.1200420\ttotal: 10.6s\tremaining: 1m 9s\n264:\tlearn: 40.0813461\ttotal: 10.6s\tremaining: 1m 9s\n265:\tlearn: 40.0342538\ttotal: 10.7s\tremaining: 1m 9s\n266:\tlearn: 39.9688586\ttotal: 10.7s\tremaining: 1m 9s\n267:\tlearn: 39.8977293\ttotal: 10.7s\tremaining: 1m 9s\n268:\tlearn: 39.8356714\ttotal: 10.8s\tremaining: 1m 9s\n269:\tlearn: 39.7948180\ttotal: 10.8s\tremaining: 1m 9s\n270:\tlearn: 39.7374202\ttotal: 10.9s\tremaining: 1m 9s\n271:\tlearn: 39.6936833\ttotal: 10.9s\tremaining: 1m 9s\n272:\tlearn: 39.6446233\ttotal: 10.9s\tremaining: 1m 9s\n273:\tlearn: 39.6083153\ttotal: 11s\tremaining: 1m 9s\n274:\tlearn: 39.5678293\ttotal: 11s\tremaining: 1m 9s\n275:\tlearn: 39.5214477\ttotal: 11s\tremaining: 1m 9s\n276:\tlearn: 39.4834393\ttotal: 11.1s\tremaining: 1m 8s\n277:\tlearn: 39.4460945\ttotal: 11.1s\tremaining: 1m 8s\n278:\tlearn: 39.3725475\ttotal: 11.2s\tremaining: 1m 8s\n279:\tlearn: 39.3253088\ttotal: 11.2s\tremaining: 1m 8s\n280:\tlearn: 39.2854051\ttotal: 11.2s\tremaining: 1m 8s\n281:\tlearn: 39.2271900\ttotal: 11.3s\tremaining: 1m 8s\n282:\tlearn: 39.2032425\ttotal: 11.3s\tremaining: 1m 8s\n283:\tlearn: 39.1656934\ttotal: 11.4s\tremaining: 1m 8s\n284:\tlearn: 39.1212037\ttotal: 11.4s\tremaining: 1m 8s\n285:\tlearn: 39.0316066\ttotal: 11.4s\tremaining: 1m 8s\n286:\tlearn: 38.9907693\ttotal: 11.5s\tremaining: 1m 8s\n287:\tlearn: 38.9569853\ttotal: 11.5s\tremaining: 1m 8s\n288:\tlearn: 38.9313774\ttotal: 11.5s\tremaining: 1m 8s\n289:\tlearn: 38.8823952\ttotal: 11.6s\tremaining: 1m 8s\n290:\tlearn: 38.8343159\ttotal: 11.6s\tremaining: 1m 8s\n291:\tlearn: 38.7756781\ttotal: 11.7s\tremaining: 1m 8s\n292:\tlearn: 38.6978113\ttotal: 11.7s\tremaining: 1m 8s\n293:\tlearn: 38.6636789\ttotal: 11.7s\tremaining: 1m 8s\n294:\tlearn: 38.5786358\ttotal: 11.8s\tremaining: 1m 8s\n295:\tlearn: 38.5568399\ttotal: 11.8s\tremaining: 1m 8s\n296:\tlearn: 38.5191925\ttotal: 11.8s\tremaining: 1m 7s\n297:\tlearn: 38.4538296\ttotal: 11.9s\tremaining: 1m 7s\n298:\tlearn: 38.4258755\ttotal: 11.9s\tremaining: 1m 7s\n299:\tlearn: 38.3984981\ttotal: 12s\tremaining: 1m 7s\n300:\tlearn: 38.3362008\ttotal: 12s\tremaining: 1m 7s\n301:\tlearn: 38.3013834\ttotal: 12s\tremaining: 1m 7s\n302:\tlearn: 38.2508358\ttotal: 12.1s\tremaining: 1m 7s\n303:\tlearn: 38.2003736\ttotal: 12.1s\tremaining: 1m 7s\n304:\tlearn: 38.1522111\ttotal: 12.1s\tremaining: 1m 7s\n305:\tlearn: 38.0664400\ttotal: 12.2s\tremaining: 1m 7s\n306:\tlearn: 37.9691187\ttotal: 12.2s\tremaining: 1m 7s\n307:\tlearn: 37.9430256\ttotal: 12.3s\tremaining: 1m 7s\n308:\tlearn: 37.8938450\ttotal: 12.3s\tremaining: 1m 7s\n309:\tlearn: 37.8476667\ttotal: 12.3s\tremaining: 1m 7s\n310:\tlearn: 37.8156802\ttotal: 12.4s\tremaining: 1m 7s\n311:\tlearn: 37.7891028\ttotal: 12.4s\tremaining: 1m 7s\n312:\tlearn: 37.7274615\ttotal: 12.4s\tremaining: 1m 7s\n313:\tlearn: 37.6752723\ttotal: 12.5s\tremaining: 1m 7s\n314:\tlearn: 37.6455451\ttotal: 12.5s\tremaining: 1m 6s\n315:\tlearn: 37.5800945\ttotal: 12.6s\tremaining: 1m 6s\n316:\tlearn: 37.5259734\ttotal: 12.6s\tremaining: 1m 6s\n317:\tlearn: 37.4856431\ttotal: 12.6s\tremaining: 1m 6s\n318:\tlearn: 37.4258971\ttotal: 12.7s\tremaining: 1m 6s\n319:\tlearn: 37.3865266\ttotal: 12.7s\tremaining: 1m 6s\n320:\tlearn: 37.3486551\ttotal: 12.7s\tremaining: 1m 6s\n321:\tlearn: 37.3138159\ttotal: 12.8s\tremaining: 1m 6s\n322:\tlearn: 37.2901729\ttotal: 12.8s\tremaining: 1m 6s\n323:\tlearn: 37.2670478\ttotal: 12.8s\tremaining: 1m 6s\n324:\tlearn: 37.2461347\ttotal: 12.9s\tremaining: 1m 6s\n325:\tlearn: 37.2095207\ttotal: 12.9s\tremaining: 1m 6s\n326:\tlearn: 37.1634834\ttotal: 13s\tremaining: 1m 6s\n327:\tlearn: 37.1295372\ttotal: 13s\tremaining: 1m 6s\n328:\tlearn: 37.0951135\ttotal: 13s\tremaining: 1m 6s\n329:\tlearn: 37.0403801\ttotal: 13.1s\tremaining: 1m 6s\n330:\tlearn: 36.9916055\ttotal: 13.1s\tremaining: 1m 6s\n331:\tlearn: 36.9599090\ttotal: 13.2s\tremaining: 1m 6s\n332:\tlearn: 36.9110382\ttotal: 13.2s\tremaining: 1m 6s\n333:\tlearn: 36.8846675\ttotal: 13.2s\tremaining: 1m 5s\n334:\tlearn: 36.8514916\ttotal: 13.3s\tremaining: 1m 5s\n335:\tlearn: 36.8128916\ttotal: 13.3s\tremaining: 1m 5s\n336:\tlearn: 36.7821664\ttotal: 13.4s\tremaining: 1m 5s\n337:\tlearn: 36.7400468\ttotal: 13.4s\tremaining: 1m 5s\n338:\tlearn: 36.6934898\ttotal: 13.5s\tremaining: 1m 5s\n339:\tlearn: 36.6410996\ttotal: 13.5s\tremaining: 1m 5s\n340:\tlearn: 36.6175789\ttotal: 13.5s\tremaining: 1m 5s\n341:\tlearn: 36.5528175\ttotal: 13.6s\tremaining: 1m 5s\n342:\tlearn: 36.5006998\ttotal: 13.6s\tremaining: 1m 5s\n343:\tlearn: 36.4564281\ttotal: 13.7s\tremaining: 1m 5s\n344:\tlearn: 36.4336553\ttotal: 13.7s\tremaining: 1m 5s\n345:\tlearn: 36.3944300\ttotal: 13.7s\tremaining: 1m 5s\n346:\tlearn: 36.3618090\ttotal: 13.8s\tremaining: 1m 5s\n347:\tlearn: 36.3093375\ttotal: 13.8s\tremaining: 1m 5s\n348:\tlearn: 36.2779657\ttotal: 13.8s\tremaining: 1m 5s\n349:\tlearn: 36.2393158\ttotal: 13.9s\tremaining: 1m 5s\n350:\tlearn: 36.2112330\ttotal: 13.9s\tremaining: 1m 5s\n351:\tlearn: 36.1921286\ttotal: 14s\tremaining: 1m 5s\n352:\tlearn: 36.1352788\ttotal: 14s\tremaining: 1m 5s\n353:\tlearn: 36.1043279\ttotal: 14s\tremaining: 1m 5s\n354:\tlearn: 36.0818611\ttotal: 14.1s\tremaining: 1m 5s\n355:\tlearn: 36.0401412\ttotal: 14.1s\tremaining: 1m 5s\n356:\tlearn: 35.9812036\ttotal: 14.1s\tremaining: 1m 5s\n357:\tlearn: 35.9010852\ttotal: 14.2s\tremaining: 1m 5s\n358:\tlearn: 35.8730530\ttotal: 14.2s\tremaining: 1m 4s\n359:\tlearn: 35.8450788\ttotal: 14.3s\tremaining: 1m 4s\n360:\tlearn: 35.8116149\ttotal: 14.3s\tremaining: 1m 4s\n361:\tlearn: 35.7883377\ttotal: 14.3s\tremaining: 1m 4s\n362:\tlearn: 35.7598504\ttotal: 14.4s\tremaining: 1m 4s\n363:\tlearn: 35.7207183\ttotal: 14.4s\tremaining: 1m 4s\n364:\tlearn: 35.6859369\ttotal: 14.4s\tremaining: 1m 4s\n365:\tlearn: 35.6389197\ttotal: 14.5s\tremaining: 1m 4s\n366:\tlearn: 35.6071293\ttotal: 14.5s\tremaining: 1m 4s\n367:\tlearn: 35.5760378\ttotal: 14.6s\tremaining: 1m 4s\n368:\tlearn: 35.5410406\ttotal: 14.6s\tremaining: 1m 4s\n369:\tlearn: 35.5060839\ttotal: 14.6s\tremaining: 1m 4s\n370:\tlearn: 35.4541454\ttotal: 14.7s\tremaining: 1m 4s\n371:\tlearn: 35.4317606\ttotal: 14.7s\tremaining: 1m 4s\n372:\tlearn: 35.4018403\ttotal: 14.7s\tremaining: 1m 4s\n373:\tlearn: 35.3577070\ttotal: 14.8s\tremaining: 1m 4s\n374:\tlearn: 35.3192235\ttotal: 14.8s\tremaining: 1m 4s\n375:\tlearn: 35.2863357\ttotal: 14.8s\tremaining: 1m 4s\n376:\tlearn: 35.2587578\ttotal: 14.9s\tremaining: 1m 4s\n377:\tlearn: 35.2209775\ttotal: 14.9s\tremaining: 1m 4s\n378:\tlearn: 35.1723296\ttotal: 15s\tremaining: 1m 3s\n379:\tlearn: 35.1516841\ttotal: 15s\tremaining: 1m 3s\n380:\tlearn: 35.0985142\ttotal: 15s\tremaining: 1m 3s\n381:\tlearn: 35.0757437\ttotal: 15.1s\tremaining: 1m 3s\n382:\tlearn: 35.0351707\ttotal: 15.1s\tremaining: 1m 3s\n383:\tlearn: 34.9885042\ttotal: 15.2s\tremaining: 1m 3s\n384:\tlearn: 34.9320197\ttotal: 15.2s\tremaining: 1m 3s\n385:\tlearn: 34.8887544\ttotal: 15.2s\tremaining: 1m 3s\n386:\tlearn: 34.8541950\ttotal: 15.3s\tremaining: 1m 3s\n387:\tlearn: 34.8283705\ttotal: 15.3s\tremaining: 1m 3s\n388:\tlearn: 34.7839420\ttotal: 15.3s\tremaining: 1m 3s\n389:\tlearn: 34.7629435\ttotal: 15.4s\tremaining: 1m 3s\n390:\tlearn: 34.7379798\ttotal: 15.4s\tremaining: 1m 3s\n391:\tlearn: 34.7012533\ttotal: 15.5s\tremaining: 1m 3s\n392:\tlearn: 34.6785101\ttotal: 15.5s\tremaining: 1m 3s\n393:\tlearn: 34.6366541\ttotal: 15.5s\tremaining: 1m 3s\n394:\tlearn: 34.6173743\ttotal: 15.6s\tremaining: 1m 3s\n395:\tlearn: 34.5875795\ttotal: 15.6s\tremaining: 1m 3s\n396:\tlearn: 34.5397530\ttotal: 15.6s\tremaining: 1m 3s\n397:\tlearn: 34.5124937\ttotal: 15.7s\tremaining: 1m 3s\n398:\tlearn: 34.4865565\ttotal: 15.7s\tremaining: 1m 3s\n399:\tlearn: 34.4606127\ttotal: 15.7s\tremaining: 1m 3s\n400:\tlearn: 34.4339412\ttotal: 15.8s\tremaining: 1m 2s\n401:\tlearn: 34.4074626\ttotal: 15.8s\tremaining: 1m 2s\n402:\tlearn: 34.3462356\ttotal: 15.9s\tremaining: 1m 2s\n403:\tlearn: 34.3249208\ttotal: 15.9s\tremaining: 1m 2s\n404:\tlearn: 34.2987897\ttotal: 15.9s\tremaining: 1m 2s\n405:\tlearn: 34.2715387\ttotal: 16s\tremaining: 1m 2s\n406:\tlearn: 34.2218040\ttotal: 16s\tremaining: 1m 2s\n407:\tlearn: 34.1967901\ttotal: 16s\tremaining: 1m 2s\n408:\tlearn: 34.1753544\ttotal: 16.1s\tremaining: 1m 2s\n409:\tlearn: 34.1371524\ttotal: 16.1s\tremaining: 1m 2s\n410:\tlearn: 34.1154203\ttotal: 16.2s\tremaining: 1m 2s\n411:\tlearn: 34.0990641\ttotal: 16.2s\tremaining: 1m 2s\n412:\tlearn: 34.0776624\ttotal: 16.2s\tremaining: 1m 2s\n413:\tlearn: 34.0344271\ttotal: 16.3s\tremaining: 1m 2s\n414:\tlearn: 33.9805224\ttotal: 16.3s\tremaining: 1m 2s\n415:\tlearn: 33.9495006\ttotal: 16.3s\tremaining: 1m 2s\n416:\tlearn: 33.9299160\ttotal: 16.4s\tremaining: 1m 2s\n417:\tlearn: 33.9110489\ttotal: 16.4s\tremaining: 1m 2s\n418:\tlearn: 33.8642245\ttotal: 16.4s\tremaining: 1m 2s\n419:\tlearn: 33.8326414\ttotal: 16.5s\tremaining: 1m 2s\n420:\tlearn: 33.7782968\ttotal: 16.5s\tremaining: 1m 1s\n421:\tlearn: 33.7319553\ttotal: 16.6s\tremaining: 1m 1s\n422:\tlearn: 33.7053752\ttotal: 16.6s\tremaining: 1m 1s\n423:\tlearn: 33.6730382\ttotal: 16.6s\tremaining: 1m 1s\n424:\tlearn: 33.6500313\ttotal: 16.7s\tremaining: 1m 1s\n425:\tlearn: 33.6149899\ttotal: 16.7s\tremaining: 1m 1s\n426:\tlearn: 33.5812370\ttotal: 16.8s\tremaining: 1m 1s\n427:\tlearn: 33.5520924\ttotal: 16.8s\tremaining: 1m 1s\n428:\tlearn: 33.5304813\ttotal: 16.8s\tremaining: 1m 1s\n429:\tlearn: 33.5088630\ttotal: 16.9s\tremaining: 1m 1s\n430:\tlearn: 33.4846523\ttotal: 16.9s\tremaining: 1m 1s\n431:\tlearn: 33.4587136\ttotal: 16.9s\tremaining: 1m 1s\n432:\tlearn: 33.4250717\ttotal: 17s\tremaining: 1m 1s\n433:\tlearn: 33.4033334\ttotal: 17s\tremaining: 1m 1s\n434:\tlearn: 33.3724011\ttotal: 17.1s\tremaining: 1m 1s\n435:\tlearn: 33.3318525\ttotal: 17.1s\tremaining: 1m 1s\n436:\tlearn: 33.3100539\ttotal: 17.1s\tremaining: 1m 1s\n437:\tlearn: 33.2549115\ttotal: 17.2s\tremaining: 1m 1s\n438:\tlearn: 33.1980819\ttotal: 17.2s\tremaining: 1m 1s\n439:\tlearn: 33.1746767\ttotal: 17.2s\tremaining: 1m 1s\n440:\tlearn: 33.1346478\ttotal: 17.3s\tremaining: 1m 1s\n441:\tlearn: 33.1098656\ttotal: 17.3s\tremaining: 1m 1s\n442:\tlearn: 33.0800808\ttotal: 17.4s\tremaining: 1m 1s\n443:\tlearn: 33.0465194\ttotal: 17.4s\tremaining: 1m\n444:\tlearn: 33.0284091\ttotal: 17.4s\tremaining: 1m\n445:\tlearn: 33.0008282\ttotal: 17.5s\tremaining: 1m\n446:\tlearn: 32.9673154\ttotal: 17.5s\tremaining: 1m\n447:\tlearn: 32.9379290\ttotal: 17.6s\tremaining: 1m\n448:\tlearn: 32.9164485\ttotal: 17.6s\tremaining: 1m\n449:\tlearn: 32.8588095\ttotal: 17.6s\tremaining: 1m\n450:\tlearn: 32.8258169\ttotal: 17.7s\tremaining: 1m\n451:\tlearn: 32.8085517\ttotal: 17.7s\tremaining: 1m\n452:\tlearn: 32.7864386\ttotal: 17.7s\tremaining: 1m\n453:\tlearn: 32.7303059\ttotal: 17.8s\tremaining: 1m\n454:\tlearn: 32.7070689\ttotal: 17.8s\tremaining: 1m\n455:\tlearn: 32.6760503\ttotal: 17.9s\tremaining: 1m\n456:\tlearn: 32.6596964\ttotal: 17.9s\tremaining: 1m\n457:\tlearn: 32.6334332\ttotal: 17.9s\tremaining: 1m\n458:\tlearn: 32.6112956\ttotal: 18s\tremaining: 1m\n459:\tlearn: 32.5936368\ttotal: 18s\tremaining: 1m\n460:\tlearn: 32.5733451\ttotal: 18s\tremaining: 1m\n461:\tlearn: 32.5511051\ttotal: 18.1s\tremaining: 1m\n462:\tlearn: 32.5237508\ttotal: 18.1s\tremaining: 1m\n463:\tlearn: 32.5019865\ttotal: 18.2s\tremaining: 1m\n464:\tlearn: 32.4674093\ttotal: 18.2s\tremaining: 1m\n465:\tlearn: 32.4031063\ttotal: 18.2s\tremaining: 1m\n466:\tlearn: 32.3793435\ttotal: 18.3s\tremaining: 60s\n467:\tlearn: 32.3584238\ttotal: 18.3s\tremaining: 59.9s\n468:\tlearn: 32.3316883\ttotal: 18.3s\tremaining: 59.9s\n469:\tlearn: 32.3103489\ttotal: 18.4s\tremaining: 59.8s\n470:\tlearn: 32.2914481\ttotal: 18.4s\tremaining: 59.8s\n471:\tlearn: 32.2700532\ttotal: 18.4s\tremaining: 59.7s\n472:\tlearn: 32.2507999\ttotal: 18.5s\tremaining: 59.7s\n473:\tlearn: 32.2179950\ttotal: 18.5s\tremaining: 59.6s\n474:\tlearn: 32.1997552\ttotal: 18.6s\tremaining: 59.6s\n475:\tlearn: 32.1692111\ttotal: 18.6s\tremaining: 59.5s\n476:\tlearn: 32.1395044\ttotal: 18.6s\tremaining: 59.5s\n477:\tlearn: 32.1015080\ttotal: 18.7s\tremaining: 59.5s\n478:\tlearn: 32.0851190\ttotal: 18.7s\tremaining: 59.4s\n479:\tlearn: 32.0675201\ttotal: 18.7s\tremaining: 59.4s\n480:\tlearn: 32.0180686\ttotal: 18.8s\tremaining: 59.3s\n481:\tlearn: 31.9725092\ttotal: 18.8s\tremaining: 59.3s\n482:\tlearn: 31.9444257\ttotal: 18.9s\tremaining: 59.2s\n483:\tlearn: 31.9165849\ttotal: 18.9s\tremaining: 59.2s\n484:\tlearn: 31.8999531\ttotal: 18.9s\tremaining: 59.1s\n485:\tlearn: 31.8672680\ttotal: 19s\tremaining: 59.1s\n486:\tlearn: 31.8367071\ttotal: 19s\tremaining: 59.1s\n487:\tlearn: 31.8122661\ttotal: 19.1s\tremaining: 59s\n488:\tlearn: 31.7647634\ttotal: 19.1s\tremaining: 59s\n489:\tlearn: 31.7405460\ttotal: 19.1s\tremaining: 59s\n490:\tlearn: 31.7098046\ttotal: 19.2s\tremaining: 58.9s\n491:\tlearn: 31.6879037\ttotal: 19.2s\tremaining: 58.9s\n492:\tlearn: 31.6471714\ttotal: 19.2s\tremaining: 58.8s\n493:\tlearn: 31.6269780\ttotal: 19.3s\tremaining: 58.8s\n494:\tlearn: 31.5880426\ttotal: 19.3s\tremaining: 58.8s\n495:\tlearn: 31.5698540\ttotal: 19.4s\tremaining: 58.7s\n496:\tlearn: 31.5447781\ttotal: 19.4s\tremaining: 58.7s\n497:\tlearn: 31.5239417\ttotal: 19.4s\tremaining: 58.7s\n498:\tlearn: 31.5122027\ttotal: 19.5s\tremaining: 58.6s\n499:\tlearn: 31.4861088\ttotal: 19.5s\tremaining: 58.6s\n500:\tlearn: 31.4516844\ttotal: 19.6s\tremaining: 58.5s\n501:\tlearn: 31.4156749\ttotal: 19.6s\tremaining: 58.5s\n502:\tlearn: 31.3989138\ttotal: 19.6s\tremaining: 58.4s\n503:\tlearn: 31.3836993\ttotal: 19.7s\tremaining: 58.4s\n504:\tlearn: 31.3675806\ttotal: 19.7s\tremaining: 58.4s\n505:\tlearn: 31.3405064\ttotal: 19.7s\tremaining: 58.3s\n506:\tlearn: 31.3206579\ttotal: 19.8s\tremaining: 58.3s\n507:\tlearn: 31.2974412\ttotal: 19.8s\tremaining: 58.2s\n508:\tlearn: 31.2696069\ttotal: 19.9s\tremaining: 58.2s\n509:\tlearn: 31.2510692\ttotal: 19.9s\tremaining: 58.1s\n510:\tlearn: 31.2277151\ttotal: 19.9s\tremaining: 58.1s\n511:\tlearn: 31.2052364\ttotal: 20s\tremaining: 58s\n512:\tlearn: 31.1775263\ttotal: 20s\tremaining: 58s\n513:\tlearn: 31.1604577\ttotal: 20s\tremaining: 57.9s\n514:\tlearn: 31.1318697\ttotal: 20.1s\tremaining: 57.9s\n515:\tlearn: 31.1049126\ttotal: 20.1s\tremaining: 57.9s\n516:\tlearn: 31.0548395\ttotal: 20.2s\tremaining: 57.8s\n517:\tlearn: 31.0259358\ttotal: 20.2s\tremaining: 57.8s\n518:\tlearn: 30.9888797\ttotal: 20.2s\tremaining: 57.7s\n519:\tlearn: 30.9627618\ttotal: 20.3s\tremaining: 57.7s\n520:\tlearn: 30.9351746\ttotal: 20.3s\tremaining: 57.7s\n521:\tlearn: 30.9180043\ttotal: 20.3s\tremaining: 57.6s\n522:\tlearn: 30.8923754\ttotal: 20.4s\tremaining: 57.6s\n523:\tlearn: 30.8682358\ttotal: 20.4s\tremaining: 57.5s\n524:\tlearn: 30.8577413\ttotal: 20.5s\tremaining: 57.5s\n525:\tlearn: 30.8331130\ttotal: 20.5s\tremaining: 57.4s\n526:\tlearn: 30.8139232\ttotal: 20.5s\tremaining: 57.4s\n527:\tlearn: 30.7956516\ttotal: 20.6s\tremaining: 57.3s\n528:\tlearn: 30.7636463\ttotal: 20.6s\tremaining: 57.3s\n529:\tlearn: 30.7369952\ttotal: 20.6s\tremaining: 57.3s\n530:\tlearn: 30.7191928\ttotal: 20.7s\tremaining: 57.2s\n531:\tlearn: 30.6943681\ttotal: 20.7s\tremaining: 57.2s\n532:\tlearn: 30.6823303\ttotal: 20.8s\tremaining: 57.1s\n533:\tlearn: 30.6476303\ttotal: 20.8s\tremaining: 57.1s\n534:\tlearn: 30.6255239\ttotal: 20.8s\tremaining: 57.1s\n535:\tlearn: 30.6065114\ttotal: 20.9s\tremaining: 57s\n536:\tlearn: 30.5842723\ttotal: 20.9s\tremaining: 57s\n537:\tlearn: 30.5574331\ttotal: 20.9s\tremaining: 56.9s\n538:\tlearn: 30.5162054\ttotal: 21s\tremaining: 56.9s\n539:\tlearn: 30.4971481\ttotal: 21s\tremaining: 56.8s\n540:\tlearn: 30.4816010\ttotal: 21.1s\tremaining: 56.8s\n541:\tlearn: 30.4516872\ttotal: 21.1s\tremaining: 56.8s\n542:\tlearn: 30.4322950\ttotal: 21.1s\tremaining: 56.7s\n543:\tlearn: 30.4077649\ttotal: 21.2s\tremaining: 56.7s\n544:\tlearn: 30.3809005\ttotal: 21.2s\tremaining: 56.6s\n545:\tlearn: 30.3562428\ttotal: 21.3s\tremaining: 56.6s\n546:\tlearn: 30.3371036\ttotal: 21.3s\tremaining: 56.5s\n547:\tlearn: 30.3238292\ttotal: 21.3s\tremaining: 56.5s\n548:\tlearn: 30.3002675\ttotal: 21.4s\tremaining: 56.5s\n549:\tlearn: 30.2836724\ttotal: 21.4s\tremaining: 56.4s\n550:\tlearn: 30.2634286\ttotal: 21.4s\tremaining: 56.4s\n551:\tlearn: 30.2414615\ttotal: 21.5s\tremaining: 56.3s\n552:\tlearn: 30.2243673\ttotal: 21.5s\tremaining: 56.3s\n553:\tlearn: 30.1973046\ttotal: 21.6s\tremaining: 56.3s\n554:\tlearn: 30.1805206\ttotal: 21.6s\tremaining: 56.2s\n555:\tlearn: 30.1644490\ttotal: 21.6s\tremaining: 56.2s\n556:\tlearn: 30.1351179\ttotal: 21.7s\tremaining: 56.1s\n557:\tlearn: 30.1191498\ttotal: 21.7s\tremaining: 56.1s\n558:\tlearn: 30.0878776\ttotal: 21.7s\tremaining: 56s\n559:\tlearn: 30.0641964\ttotal: 21.8s\tremaining: 56s\n560:\tlearn: 30.0405700\ttotal: 21.8s\tremaining: 56s\n561:\tlearn: 30.0233381\ttotal: 21.9s\tremaining: 55.9s\n562:\tlearn: 30.0031271\ttotal: 21.9s\tremaining: 55.9s\n563:\tlearn: 29.9692697\ttotal: 21.9s\tremaining: 55.8s\n564:\tlearn: 29.9535405\ttotal: 22s\tremaining: 55.8s\n565:\tlearn: 29.9248626\ttotal: 22s\tremaining: 55.8s\n566:\tlearn: 29.8880774\ttotal: 22s\tremaining: 55.7s\n567:\tlearn: 29.8703586\ttotal: 22.1s\tremaining: 55.7s\n568:\tlearn: 29.8566372\ttotal: 22.1s\tremaining: 55.6s\n569:\tlearn: 29.8417727\ttotal: 22.2s\tremaining: 55.6s\n570:\tlearn: 29.8276469\ttotal: 22.2s\tremaining: 55.5s\n571:\tlearn: 29.8096636\ttotal: 22.2s\tremaining: 55.5s\n572:\tlearn: 29.7788378\ttotal: 22.3s\tremaining: 55.4s\n573:\tlearn: 29.7495758\ttotal: 22.3s\tremaining: 55.4s\n574:\tlearn: 29.7338592\ttotal: 22.3s\tremaining: 55.4s\n575:\tlearn: 29.7176418\ttotal: 22.4s\tremaining: 55.3s\n576:\tlearn: 29.6935515\ttotal: 22.4s\tremaining: 55.3s\n577:\tlearn: 29.6715305\ttotal: 22.4s\tremaining: 55.2s\n578:\tlearn: 29.6588534\ttotal: 22.5s\tremaining: 55.2s\n579:\tlearn: 29.6172639\ttotal: 22.5s\tremaining: 55.2s\n580:\tlearn: 29.5947451\ttotal: 22.6s\tremaining: 55.1s\n581:\tlearn: 29.5742833\ttotal: 22.6s\tremaining: 55.1s\n582:\tlearn: 29.5590254\ttotal: 22.6s\tremaining: 55s\n583:\tlearn: 29.5445159\ttotal: 22.7s\tremaining: 55s\n584:\tlearn: 29.5309445\ttotal: 22.7s\tremaining: 54.9s\n585:\tlearn: 29.5046345\ttotal: 22.7s\tremaining: 54.9s\n586:\tlearn: 29.4780142\ttotal: 22.8s\tremaining: 54.9s\n587:\tlearn: 29.4603352\ttotal: 22.8s\tremaining: 54.8s\n588:\tlearn: 29.4285116\ttotal: 22.9s\tremaining: 54.8s\n589:\tlearn: 29.4028078\ttotal: 22.9s\tremaining: 54.8s\n590:\tlearn: 29.3809081\ttotal: 22.9s\tremaining: 54.7s\n591:\tlearn: 29.3595653\ttotal: 23s\tremaining: 54.7s\n592:\tlearn: 29.3495284\ttotal: 23s\tremaining: 54.6s\n593:\tlearn: 29.3205393\ttotal: 23.1s\tremaining: 54.6s\n594:\tlearn: 29.2837221\ttotal: 23.1s\tremaining: 54.5s\n595:\tlearn: 29.2573947\ttotal: 23.1s\tremaining: 54.5s\n596:\tlearn: 29.2425983\ttotal: 23.2s\tremaining: 54.5s\n597:\tlearn: 29.2234440\ttotal: 23.2s\tremaining: 54.4s\n598:\tlearn: 29.2039022\ttotal: 23.3s\tremaining: 54.4s\n599:\tlearn: 29.1656945\ttotal: 23.3s\tremaining: 54.4s\n600:\tlearn: 29.1493801\ttotal: 23.3s\tremaining: 54.3s\n601:\tlearn: 29.1132791\ttotal: 23.4s\tremaining: 54.3s\n602:\tlearn: 29.0927836\ttotal: 23.4s\tremaining: 54.2s\n603:\tlearn: 29.0730305\ttotal: 23.4s\tremaining: 54.2s\n604:\tlearn: 29.0536705\ttotal: 23.5s\tremaining: 54.2s\n605:\tlearn: 29.0300016\ttotal: 23.5s\tremaining: 54.1s\n606:\tlearn: 29.0181257\ttotal: 23.6s\tremaining: 54.1s\n607:\tlearn: 28.9946336\ttotal: 23.6s\tremaining: 54s\n608:\tlearn: 28.9684175\ttotal: 23.6s\tremaining: 54s\n609:\tlearn: 28.9326291\ttotal: 23.7s\tremaining: 53.9s\n610:\tlearn: 28.9041311\ttotal: 23.7s\tremaining: 53.9s\n611:\tlearn: 28.8588396\ttotal: 23.8s\tremaining: 53.9s\n612:\tlearn: 28.8374831\ttotal: 23.8s\tremaining: 53.8s\n613:\tlearn: 28.8195747\ttotal: 23.8s\tremaining: 53.8s\n614:\tlearn: 28.7999114\ttotal: 23.9s\tremaining: 53.7s\n615:\tlearn: 28.7855961\ttotal: 23.9s\tremaining: 53.7s\n616:\tlearn: 28.7616232\ttotal: 23.9s\tremaining: 53.7s\n617:\tlearn: 28.7388422\ttotal: 24s\tremaining: 53.6s\n618:\tlearn: 28.7255618\ttotal: 24s\tremaining: 53.6s\n619:\tlearn: 28.6968941\ttotal: 24.1s\tremaining: 53.5s\n620:\tlearn: 28.6764075\ttotal: 24.1s\tremaining: 53.5s\n621:\tlearn: 28.6635207\ttotal: 24.1s\tremaining: 53.5s\n622:\tlearn: 28.6457917\ttotal: 24.2s\tremaining: 53.4s\n623:\tlearn: 28.6317266\ttotal: 24.2s\tremaining: 53.4s\n624:\tlearn: 28.6079645\ttotal: 24.2s\tremaining: 53.3s\n625:\tlearn: 28.5950480\ttotal: 24.3s\tremaining: 53.3s\n626:\tlearn: 28.5803138\ttotal: 24.3s\tremaining: 53.3s\n627:\tlearn: 28.5714491\ttotal: 24.4s\tremaining: 53.3s\n628:\tlearn: 28.5396558\ttotal: 24.4s\tremaining: 53.2s\n629:\tlearn: 28.5179576\ttotal: 24.5s\tremaining: 53.2s\n630:\tlearn: 28.5028879\ttotal: 24.5s\tremaining: 53.2s\n631:\tlearn: 28.4870779\ttotal: 24.5s\tremaining: 53.1s\n632:\tlearn: 28.4703343\ttotal: 24.6s\tremaining: 53.1s\n633:\tlearn: 28.4499024\ttotal: 24.6s\tremaining: 53.1s\n634:\tlearn: 28.4332480\ttotal: 24.7s\tremaining: 53s\n635:\tlearn: 28.4119875\ttotal: 24.7s\tremaining: 53s\n636:\tlearn: 28.3978380\ttotal: 24.7s\tremaining: 52.9s\n637:\tlearn: 28.3857587\ttotal: 24.8s\tremaining: 52.9s\n638:\tlearn: 28.3613792\ttotal: 24.8s\tremaining: 52.8s\n639:\tlearn: 28.3498174\ttotal: 24.8s\tremaining: 52.8s\n640:\tlearn: 28.3277770\ttotal: 24.9s\tremaining: 52.7s\n641:\tlearn: 28.3107651\ttotal: 24.9s\tremaining: 52.7s\n642:\tlearn: 28.2928356\ttotal: 25s\tremaining: 52.7s\n643:\tlearn: 28.2797159\ttotal: 25s\tremaining: 52.6s\n644:\tlearn: 28.2561745\ttotal: 25s\tremaining: 52.6s\n645:\tlearn: 28.2387258\ttotal: 25.1s\tremaining: 52.5s\n646:\tlearn: 28.2208089\ttotal: 25.1s\tremaining: 52.5s\n647:\tlearn: 28.2019542\ttotal: 25.1s\tremaining: 52.5s\n648:\tlearn: 28.1838087\ttotal: 25.2s\tremaining: 52.4s\n649:\tlearn: 28.1686345\ttotal: 25.2s\tremaining: 52.4s\n650:\tlearn: 28.1493563\ttotal: 25.3s\tremaining: 52.3s\n651:\tlearn: 28.1368167\ttotal: 25.3s\tremaining: 52.3s\n652:\tlearn: 28.1239715\ttotal: 25.3s\tremaining: 52.3s\n653:\tlearn: 28.0900213\ttotal: 25.4s\tremaining: 52.2s\n654:\tlearn: 28.0641124\ttotal: 25.4s\tremaining: 52.2s\n655:\tlearn: 28.0385166\ttotal: 25.4s\tremaining: 52.1s\n656:\tlearn: 28.0037198\ttotal: 25.5s\tremaining: 52.1s\n657:\tlearn: 27.9942263\ttotal: 25.5s\tremaining: 52.1s\n658:\tlearn: 27.9778580\ttotal: 25.6s\tremaining: 52s\n659:\tlearn: 27.9648398\ttotal: 25.6s\tremaining: 52s\n660:\tlearn: 27.9448867\ttotal: 25.6s\tremaining: 51.9s\n661:\tlearn: 27.9229729\ttotal: 25.7s\tremaining: 51.9s\n662:\tlearn: 27.9062494\ttotal: 25.7s\tremaining: 51.8s\n663:\tlearn: 27.8761222\ttotal: 25.7s\tremaining: 51.8s\n664:\tlearn: 27.8530146\ttotal: 25.8s\tremaining: 51.8s\n665:\tlearn: 27.8426876\ttotal: 25.8s\tremaining: 51.7s\n666:\tlearn: 27.8308290\ttotal: 25.9s\tremaining: 51.7s\n667:\tlearn: 27.8111229\ttotal: 25.9s\tremaining: 51.6s\n668:\tlearn: 27.7927039\ttotal: 25.9s\tremaining: 51.6s\n669:\tlearn: 27.7792033\ttotal: 26s\tremaining: 51.6s\n670:\tlearn: 27.7579021\ttotal: 26s\tremaining: 51.5s\n671:\tlearn: 27.7453849\ttotal: 26s\tremaining: 51.5s\n672:\tlearn: 27.7169740\ttotal: 26.1s\tremaining: 51.4s\n673:\tlearn: 27.7048186\ttotal: 26.1s\tremaining: 51.4s\n674:\tlearn: 27.6769011\ttotal: 26.2s\tremaining: 51.3s\n675:\tlearn: 27.6583460\ttotal: 26.2s\tremaining: 51.3s\n676:\tlearn: 27.6390238\ttotal: 26.2s\tremaining: 51.3s\n677:\tlearn: 27.6188395\ttotal: 26.3s\tremaining: 51.2s\n678:\tlearn: 27.6065029\ttotal: 26.3s\tremaining: 51.2s\n679:\tlearn: 27.5769988\ttotal: 26.3s\tremaining: 51.1s\n680:\tlearn: 27.5602531\ttotal: 26.4s\tremaining: 51.1s\n681:\tlearn: 27.5478509\ttotal: 26.4s\tremaining: 51.1s\n682:\tlearn: 27.5228395\ttotal: 26.5s\tremaining: 51s\n683:\tlearn: 27.5039976\ttotal: 26.5s\tremaining: 51s\n684:\tlearn: 27.4953352\ttotal: 26.5s\tremaining: 50.9s\n685:\tlearn: 27.4748588\ttotal: 26.6s\tremaining: 50.9s\n686:\tlearn: 27.4628895\ttotal: 26.6s\tremaining: 50.9s\n687:\tlearn: 27.4421380\ttotal: 26.6s\tremaining: 50.8s\n688:\tlearn: 27.4295238\ttotal: 26.7s\tremaining: 50.8s\n689:\tlearn: 27.4175034\ttotal: 26.7s\tremaining: 50.7s\n690:\tlearn: 27.4078570\ttotal: 26.8s\tremaining: 50.7s\n691:\tlearn: 27.3846878\ttotal: 26.8s\tremaining: 50.7s\n692:\tlearn: 27.3663731\ttotal: 26.8s\tremaining: 50.6s\n693:\tlearn: 27.3549209\ttotal: 26.9s\tremaining: 50.6s\n694:\tlearn: 27.3329451\ttotal: 26.9s\tremaining: 50.5s\n695:\tlearn: 27.3089724\ttotal: 27s\tremaining: 50.5s\n696:\tlearn: 27.2926513\ttotal: 27s\tremaining: 50.5s\n697:\tlearn: 27.2846200\ttotal: 27s\tremaining: 50.4s\n698:\tlearn: 27.2653427\ttotal: 27.1s\tremaining: 50.4s\n699:\tlearn: 27.2394473\ttotal: 27.1s\tremaining: 50.3s\n700:\tlearn: 27.2214161\ttotal: 27.1s\tremaining: 50.3s\n701:\tlearn: 27.2053756\ttotal: 27.2s\tremaining: 50.3s\n702:\tlearn: 27.1817880\ttotal: 27.2s\tremaining: 50.2s\n703:\tlearn: 27.1583260\ttotal: 27.3s\tremaining: 50.2s\n704:\tlearn: 27.1401201\ttotal: 27.3s\tremaining: 50.1s\n705:\tlearn: 27.1187328\ttotal: 27.3s\tremaining: 50.1s\n706:\tlearn: 27.0916183\ttotal: 27.4s\tremaining: 50.1s\n707:\tlearn: 27.0787218\ttotal: 27.4s\tremaining: 50s\n708:\tlearn: 27.0384972\ttotal: 27.4s\tremaining: 50s\n709:\tlearn: 27.0182217\ttotal: 27.5s\tremaining: 49.9s\n710:\tlearn: 26.9985569\ttotal: 27.5s\tremaining: 49.9s\n711:\tlearn: 26.9771463\ttotal: 27.6s\tremaining: 49.9s\n712:\tlearn: 26.9668290\ttotal: 27.6s\tremaining: 49.8s\n713:\tlearn: 26.9553665\ttotal: 27.6s\tremaining: 49.8s\n714:\tlearn: 26.9434721\ttotal: 27.7s\tremaining: 49.7s\n715:\tlearn: 26.9255425\ttotal: 27.7s\tremaining: 49.7s\n716:\tlearn: 26.9124665\ttotal: 27.7s\tremaining: 49.6s\n717:\tlearn: 26.8866716\ttotal: 27.8s\tremaining: 49.6s\n718:\tlearn: 26.8724391\ttotal: 27.8s\tremaining: 49.6s\n719:\tlearn: 26.8539665\ttotal: 27.8s\tremaining: 49.5s\n720:\tlearn: 26.8322048\ttotal: 27.9s\tremaining: 49.5s\n721:\tlearn: 26.8237786\ttotal: 27.9s\tremaining: 49.4s\n722:\tlearn: 26.7983843\ttotal: 28s\tremaining: 49.4s\n723:\tlearn: 26.7911139\ttotal: 28s\tremaining: 49.3s\n724:\tlearn: 26.7779642\ttotal: 28s\tremaining: 49.3s\n725:\tlearn: 26.7645432\ttotal: 28.1s\tremaining: 49.2s\n726:\tlearn: 26.7433634\ttotal: 28.1s\tremaining: 49.2s\n727:\tlearn: 26.7245731\ttotal: 28.1s\tremaining: 49.2s\n728:\tlearn: 26.7089559\ttotal: 28.2s\tremaining: 49.1s\n729:\tlearn: 26.6916240\ttotal: 28.2s\tremaining: 49.1s\n730:\tlearn: 26.6635280\ttotal: 28.3s\tremaining: 49.1s\n731:\tlearn: 26.6438168\ttotal: 28.3s\tremaining: 49s\n732:\tlearn: 26.6233811\ttotal: 28.3s\tremaining: 49s\n733:\tlearn: 26.6057897\ttotal: 28.4s\tremaining: 48.9s\n734:\tlearn: 26.5864127\ttotal: 28.4s\tremaining: 48.9s\n735:\tlearn: 26.5657377\ttotal: 28.4s\tremaining: 48.9s\n736:\tlearn: 26.5522106\ttotal: 28.5s\tremaining: 48.8s\n737:\tlearn: 26.5403742\ttotal: 28.5s\tremaining: 48.8s\n738:\tlearn: 26.5293781\ttotal: 28.6s\tremaining: 48.7s\n739:\tlearn: 26.5198120\ttotal: 28.6s\tremaining: 48.7s\n740:\tlearn: 26.5074018\ttotal: 28.6s\tremaining: 48.7s\n741:\tlearn: 26.4813296\ttotal: 28.7s\tremaining: 48.6s\n742:\tlearn: 26.4760079\ttotal: 28.7s\tremaining: 48.6s\n743:\tlearn: 26.4653577\ttotal: 28.8s\tremaining: 48.5s\n744:\tlearn: 26.4481652\ttotal: 28.8s\tremaining: 48.5s\n745:\tlearn: 26.4393104\ttotal: 28.8s\tremaining: 48.5s\n746:\tlearn: 26.4163090\ttotal: 28.9s\tremaining: 48.4s\n747:\tlearn: 26.3839116\ttotal: 28.9s\tremaining: 48.4s\n748:\tlearn: 26.3737437\ttotal: 28.9s\tremaining: 48.3s\n749:\tlearn: 26.3539680\ttotal: 29s\tremaining: 48.3s\n750:\tlearn: 26.3343340\ttotal: 29s\tremaining: 48.3s\n751:\tlearn: 26.3052579\ttotal: 29.1s\tremaining: 48.2s\n752:\tlearn: 26.2920029\ttotal: 29.1s\tremaining: 48.2s\n753:\tlearn: 26.2720126\ttotal: 29.1s\tremaining: 48.1s\n754:\tlearn: 26.2530505\ttotal: 29.2s\tremaining: 48.1s\n755:\tlearn: 26.2382545\ttotal: 29.2s\tremaining: 48s\n756:\tlearn: 26.2285635\ttotal: 29.2s\tremaining: 48s\n757:\tlearn: 26.2057367\ttotal: 29.3s\tremaining: 48s\n758:\tlearn: 26.1908833\ttotal: 29.3s\tremaining: 47.9s\n759:\tlearn: 26.1687084\ttotal: 29.4s\tremaining: 47.9s\n760:\tlearn: 26.1487442\ttotal: 29.4s\tremaining: 47.9s\n761:\tlearn: 26.1246169\ttotal: 29.4s\tremaining: 47.8s\n762:\tlearn: 26.1074223\ttotal: 29.5s\tremaining: 47.8s\n763:\tlearn: 26.0906472\ttotal: 29.5s\tremaining: 47.7s\n764:\tlearn: 26.0733584\ttotal: 29.5s\tremaining: 47.7s\n765:\tlearn: 26.0588377\ttotal: 29.6s\tremaining: 47.7s\n766:\tlearn: 26.0508461\ttotal: 29.6s\tremaining: 47.6s\n767:\tlearn: 26.0341348\ttotal: 29.7s\tremaining: 47.6s\n768:\tlearn: 26.0081328\ttotal: 29.7s\tremaining: 47.5s\n769:\tlearn: 25.9937100\ttotal: 29.7s\tremaining: 47.5s\n770:\tlearn: 25.9752155\ttotal: 29.8s\tremaining: 47.5s\n771:\tlearn: 25.9614435\ttotal: 29.8s\tremaining: 47.4s\n772:\tlearn: 25.9414152\ttotal: 29.9s\tremaining: 47.4s\n773:\tlearn: 25.9271313\ttotal: 29.9s\tremaining: 47.3s\n774:\tlearn: 25.9144878\ttotal: 29.9s\tremaining: 47.3s\n775:\tlearn: 25.8952628\ttotal: 30s\tremaining: 47.3s\n776:\tlearn: 25.8858021\ttotal: 30s\tremaining: 47.2s\n777:\tlearn: 25.8758824\ttotal: 30s\tremaining: 47.2s\n778:\tlearn: 25.8581185\ttotal: 30.1s\tremaining: 47.1s\n779:\tlearn: 25.8415590\ttotal: 30.1s\tremaining: 47.1s\n780:\tlearn: 25.8179800\ttotal: 30.2s\tremaining: 47.1s\n781:\tlearn: 25.8044793\ttotal: 30.2s\tremaining: 47s\n782:\tlearn: 25.7896278\ttotal: 30.2s\tremaining: 47s\n783:\tlearn: 25.7778873\ttotal: 30.3s\tremaining: 46.9s\n784:\tlearn: 25.7608316\ttotal: 30.3s\tremaining: 46.9s\n785:\tlearn: 25.7430532\ttotal: 30.3s\tremaining: 46.9s\n786:\tlearn: 25.7267690\ttotal: 30.4s\tremaining: 46.8s\n787:\tlearn: 25.7187371\ttotal: 30.4s\tremaining: 46.8s\n788:\tlearn: 25.7077847\ttotal: 30.4s\tremaining: 46.7s\n789:\tlearn: 25.6966537\ttotal: 30.5s\tremaining: 46.7s\n790:\tlearn: 25.6823307\ttotal: 30.5s\tremaining: 46.7s\n791:\tlearn: 25.6644964\ttotal: 30.6s\tremaining: 46.6s\n792:\tlearn: 25.6481298\ttotal: 30.6s\tremaining: 46.6s\n793:\tlearn: 25.6317821\ttotal: 30.6s\tremaining: 46.5s\n794:\tlearn: 25.6210312\ttotal: 30.7s\tremaining: 46.5s\n795:\tlearn: 25.6058028\ttotal: 30.7s\tremaining: 46.5s\n796:\tlearn: 25.5923438\ttotal: 30.7s\tremaining: 46.4s\n797:\tlearn: 25.5707527\ttotal: 30.8s\tremaining: 46.4s\n798:\tlearn: 25.5618636\ttotal: 30.8s\tremaining: 46.3s\n799:\tlearn: 25.5550035\ttotal: 30.9s\tremaining: 46.3s\n800:\tlearn: 25.5328166\ttotal: 30.9s\tremaining: 46.3s\n801:\tlearn: 25.5233492\ttotal: 30.9s\tremaining: 46.2s\n802:\tlearn: 25.5101926\ttotal: 31s\tremaining: 46.2s\n803:\tlearn: 25.4957143\ttotal: 31s\tremaining: 46.1s\n804:\tlearn: 25.4800030\ttotal: 31.1s\tremaining: 46.1s\n805:\tlearn: 25.4665445\ttotal: 31.1s\tremaining: 46.1s\n806:\tlearn: 25.4497626\ttotal: 31.1s\tremaining: 46s\n807:\tlearn: 25.4278523\ttotal: 31.2s\tremaining: 46s\n808:\tlearn: 25.4045904\ttotal: 31.2s\tremaining: 46s\n809:\tlearn: 25.3898110\ttotal: 31.3s\tremaining: 45.9s\n810:\tlearn: 25.3748201\ttotal: 31.3s\tremaining: 45.9s\n811:\tlearn: 25.3560211\ttotal: 31.3s\tremaining: 45.8s\n812:\tlearn: 25.3391383\ttotal: 31.4s\tremaining: 45.8s\n813:\tlearn: 25.3298785\ttotal: 31.4s\tremaining: 45.8s\n814:\tlearn: 25.3203564\ttotal: 31.5s\tremaining: 45.7s\n815:\tlearn: 25.2989442\ttotal: 31.5s\tremaining: 45.7s\n816:\tlearn: 25.2856559\ttotal: 31.5s\tremaining: 45.7s\n817:\tlearn: 25.2672770\ttotal: 31.6s\tremaining: 45.6s\n818:\tlearn: 25.2430544\ttotal: 31.6s\tremaining: 45.6s\n819:\tlearn: 25.2170736\ttotal: 31.6s\tremaining: 45.5s\n820:\tlearn: 25.2091670\ttotal: 31.7s\tremaining: 45.5s\n821:\tlearn: 25.1994167\ttotal: 31.7s\tremaining: 45.5s\n822:\tlearn: 25.1869726\ttotal: 31.8s\tremaining: 45.4s\n823:\tlearn: 25.1680847\ttotal: 31.8s\tremaining: 45.4s\n824:\tlearn: 25.1565479\ttotal: 31.8s\tremaining: 45.3s\n825:\tlearn: 25.1413329\ttotal: 31.9s\tremaining: 45.3s\n826:\tlearn: 25.1339898\ttotal: 31.9s\tremaining: 45.3s\n827:\tlearn: 25.1227724\ttotal: 31.9s\tremaining: 45.2s\n828:\tlearn: 25.1035911\ttotal: 32s\tremaining: 45.2s\n829:\tlearn: 25.0840155\ttotal: 32s\tremaining: 45.1s\n830:\tlearn: 25.0733587\ttotal: 32.1s\tremaining: 45.1s\n831:\tlearn: 25.0639699\ttotal: 32.1s\tremaining: 45.1s\n832:\tlearn: 25.0505251\ttotal: 32.1s\tremaining: 45s\n833:\tlearn: 25.0383130\ttotal: 32.2s\tremaining: 45s\n834:\tlearn: 25.0184400\ttotal: 32.2s\tremaining: 45s\n835:\tlearn: 25.0066244\ttotal: 32.3s\tremaining: 44.9s\n836:\tlearn: 24.9896685\ttotal: 32.3s\tremaining: 44.9s\n837:\tlearn: 24.9662277\ttotal: 32.3s\tremaining: 44.8s\n838:\tlearn: 24.9543561\ttotal: 32.4s\tremaining: 44.8s\n839:\tlearn: 24.9410285\ttotal: 32.4s\tremaining: 44.8s\n840:\tlearn: 24.9343362\ttotal: 32.4s\tremaining: 44.7s\n841:\tlearn: 24.9190991\ttotal: 32.5s\tremaining: 44.7s\n842:\tlearn: 24.9055881\ttotal: 32.5s\tremaining: 44.6s\n843:\tlearn: 24.8886961\ttotal: 32.6s\tremaining: 44.6s\n844:\tlearn: 24.8813526\ttotal: 32.6s\tremaining: 44.6s\n845:\tlearn: 24.8618708\ttotal: 32.6s\tremaining: 44.5s\n846:\tlearn: 24.8485922\ttotal: 32.7s\tremaining: 44.5s\n847:\tlearn: 24.8391168\ttotal: 32.7s\tremaining: 44.4s\n848:\tlearn: 24.8248890\ttotal: 32.7s\tremaining: 44.4s\n849:\tlearn: 24.8129726\ttotal: 32.8s\tremaining: 44.4s\n850:\tlearn: 24.7979488\ttotal: 32.8s\tremaining: 44.3s\n851:\tlearn: 24.7866796\ttotal: 32.9s\tremaining: 44.3s\n852:\tlearn: 24.7709650\ttotal: 32.9s\tremaining: 44.2s\n853:\tlearn: 24.7596456\ttotal: 32.9s\tremaining: 44.2s\n854:\tlearn: 24.7497641\ttotal: 33s\tremaining: 44.2s\n855:\tlearn: 24.7364500\ttotal: 33s\tremaining: 44.1s\n856:\tlearn: 24.7286270\ttotal: 33s\tremaining: 44.1s\n857:\tlearn: 24.7158086\ttotal: 33.1s\tremaining: 44s\n858:\tlearn: 24.7035833\ttotal: 33.1s\tremaining: 44s\n859:\tlearn: 24.6905048\ttotal: 33.2s\tremaining: 43.9s\n860:\tlearn: 24.6758697\ttotal: 33.2s\tremaining: 43.9s\n861:\tlearn: 24.6621565\ttotal: 33.2s\tremaining: 43.9s\n862:\tlearn: 24.6494203\ttotal: 33.3s\tremaining: 43.8s\n863:\tlearn: 24.6397361\ttotal: 33.3s\tremaining: 43.8s\n864:\tlearn: 24.6299640\ttotal: 33.3s\tremaining: 43.8s\n865:\tlearn: 24.6198064\ttotal: 33.4s\tremaining: 43.7s\n866:\tlearn: 24.6054151\ttotal: 33.4s\tremaining: 43.7s\n867:\tlearn: 24.5979871\ttotal: 33.5s\tremaining: 43.6s\n868:\tlearn: 24.5850516\ttotal: 33.5s\tremaining: 43.6s\n869:\tlearn: 24.5688420\ttotal: 33.5s\tremaining: 43.5s\n870:\tlearn: 24.5601251\ttotal: 33.6s\tremaining: 43.5s\n871:\tlearn: 24.5519615\ttotal: 33.6s\tremaining: 43.5s\n872:\tlearn: 24.5360401\ttotal: 33.6s\tremaining: 43.4s\n873:\tlearn: 24.5195956\ttotal: 33.7s\tremaining: 43.4s\n874:\tlearn: 24.5059796\ttotal: 33.7s\tremaining: 43.3s\n875:\tlearn: 24.4925989\ttotal: 33.8s\tremaining: 43.3s\n876:\tlearn: 24.4822736\ttotal: 33.8s\tremaining: 43.3s\n877:\tlearn: 24.4660926\ttotal: 33.8s\tremaining: 43.2s\n878:\tlearn: 24.4523764\ttotal: 33.9s\tremaining: 43.2s\n879:\tlearn: 24.4353344\ttotal: 33.9s\tremaining: 43.2s\n880:\tlearn: 24.4214143\ttotal: 33.9s\tremaining: 43.1s\n881:\tlearn: 24.4076991\ttotal: 34s\tremaining: 43.1s\n882:\tlearn: 24.3956815\ttotal: 34s\tremaining: 43s\n883:\tlearn: 24.3805144\ttotal: 34.1s\tremaining: 43s\n884:\tlearn: 24.3636903\ttotal: 34.1s\tremaining: 43s\n885:\tlearn: 24.3524336\ttotal: 34.1s\tremaining: 42.9s\n886:\tlearn: 24.3335388\ttotal: 34.2s\tremaining: 42.9s\n887:\tlearn: 24.3199574\ttotal: 34.2s\tremaining: 42.8s\n888:\tlearn: 24.3047700\ttotal: 34.2s\tremaining: 42.8s\n889:\tlearn: 24.2902118\ttotal: 34.3s\tremaining: 42.8s\n890:\tlearn: 24.2743579\ttotal: 34.3s\tremaining: 42.7s\n891:\tlearn: 24.2656489\ttotal: 34.4s\tremaining: 42.7s\n892:\tlearn: 24.2468535\ttotal: 34.4s\tremaining: 42.7s\n893:\tlearn: 24.2390681\ttotal: 34.4s\tremaining: 42.6s\n894:\tlearn: 24.2205750\ttotal: 34.5s\tremaining: 42.6s\n895:\tlearn: 24.2114866\ttotal: 34.5s\tremaining: 42.5s\n896:\tlearn: 24.1896493\ttotal: 34.6s\tremaining: 42.5s\n897:\tlearn: 24.1808859\ttotal: 34.6s\tremaining: 42.4s\n898:\tlearn: 24.1714709\ttotal: 34.6s\tremaining: 42.4s\n899:\tlearn: 24.1536904\ttotal: 34.7s\tremaining: 42.4s\n900:\tlearn: 24.1447707\ttotal: 34.7s\tremaining: 42.3s\n901:\tlearn: 24.1355087\ttotal: 34.7s\tremaining: 42.3s\n902:\tlearn: 24.1154088\ttotal: 34.8s\tremaining: 42.3s\n903:\tlearn: 24.1023152\ttotal: 34.8s\tremaining: 42.2s\n904:\tlearn: 24.0854020\ttotal: 34.9s\tremaining: 42.2s\n905:\tlearn: 24.0727623\ttotal: 34.9s\tremaining: 42.1s\n906:\tlearn: 24.0518485\ttotal: 34.9s\tremaining: 42.1s\n907:\tlearn: 24.0414372\ttotal: 35s\tremaining: 42.1s\n908:\tlearn: 24.0345775\ttotal: 35s\tremaining: 42s\n909:\tlearn: 24.0291542\ttotal: 35s\tremaining: 42s\n910:\tlearn: 24.0174706\ttotal: 35.1s\tremaining: 41.9s\n911:\tlearn: 24.0008090\ttotal: 35.1s\tremaining: 41.9s\n912:\tlearn: 23.9944251\ttotal: 35.2s\tremaining: 41.9s\n913:\tlearn: 23.9832916\ttotal: 35.2s\tremaining: 41.8s\n914:\tlearn: 23.9700170\ttotal: 35.3s\tremaining: 41.8s\n915:\tlearn: 23.9639545\ttotal: 35.3s\tremaining: 41.8s\n916:\tlearn: 23.9503749\ttotal: 35.3s\tremaining: 41.7s\n917:\tlearn: 23.9399526\ttotal: 35.4s\tremaining: 41.7s\n918:\tlearn: 23.9261208\ttotal: 35.4s\tremaining: 41.7s\n919:\tlearn: 23.9196668\ttotal: 35.5s\tremaining: 41.6s\n920:\tlearn: 23.9040415\ttotal: 35.5s\tremaining: 41.6s\n921:\tlearn: 23.8965494\ttotal: 35.5s\tremaining: 41.5s\n922:\tlearn: 23.8879257\ttotal: 35.6s\tremaining: 41.5s\n923:\tlearn: 23.8779266\ttotal: 35.6s\tremaining: 41.5s\n924:\tlearn: 23.8718161\ttotal: 35.6s\tremaining: 41.4s\n925:\tlearn: 23.8661032\ttotal: 35.7s\tremaining: 41.4s\n926:\tlearn: 23.8514734\ttotal: 35.7s\tremaining: 41.3s\n927:\tlearn: 23.8393325\ttotal: 35.7s\tremaining: 41.3s\n928:\tlearn: 23.8270509\ttotal: 35.8s\tremaining: 41.3s\n929:\tlearn: 23.7929374\ttotal: 35.8s\tremaining: 41.2s\n930:\tlearn: 23.7826360\ttotal: 35.9s\tremaining: 41.2s\n931:\tlearn: 23.7728928\ttotal: 35.9s\tremaining: 41.1s\n932:\tlearn: 23.7599174\ttotal: 35.9s\tremaining: 41.1s\n933:\tlearn: 23.7389279\ttotal: 36s\tremaining: 41.1s\n934:\tlearn: 23.7317659\ttotal: 36s\tremaining: 41s\n935:\tlearn: 23.7205988\ttotal: 36.1s\tremaining: 41s\n936:\tlearn: 23.7085361\ttotal: 36.1s\tremaining: 40.9s\n937:\tlearn: 23.6903314\ttotal: 36.1s\tremaining: 40.9s\n938:\tlearn: 23.6811296\ttotal: 36.2s\tremaining: 40.9s\n939:\tlearn: 23.6670009\ttotal: 36.2s\tremaining: 40.8s\n940:\tlearn: 23.6502679\ttotal: 36.2s\tremaining: 40.8s\n941:\tlearn: 23.6382710\ttotal: 36.3s\tremaining: 40.7s\n942:\tlearn: 23.6124371\ttotal: 36.3s\tremaining: 40.7s\n943:\tlearn: 23.6045152\ttotal: 36.3s\tremaining: 40.7s\n944:\tlearn: 23.5921348\ttotal: 36.4s\tremaining: 40.6s\n945:\tlearn: 23.5766117\ttotal: 36.4s\tremaining: 40.6s\n946:\tlearn: 23.5686339\ttotal: 36.5s\tremaining: 40.5s\n947:\tlearn: 23.5547922\ttotal: 36.5s\tremaining: 40.5s\n948:\tlearn: 23.5381745\ttotal: 36.5s\tremaining: 40.5s\n949:\tlearn: 23.5290280\ttotal: 36.6s\tremaining: 40.4s\n950:\tlearn: 23.5167993\ttotal: 36.6s\tremaining: 40.4s\n951:\tlearn: 23.5039421\ttotal: 36.6s\tremaining: 40.3s\n952:\tlearn: 23.4961356\ttotal: 36.7s\tremaining: 40.3s\n953:\tlearn: 23.4893263\ttotal: 36.7s\tremaining: 40.3s\n954:\tlearn: 23.4730583\ttotal: 36.8s\tremaining: 40.2s\n955:\tlearn: 23.4641208\ttotal: 36.8s\tremaining: 40.2s\n956:\tlearn: 23.4516073\ttotal: 36.8s\tremaining: 40.1s\n957:\tlearn: 23.4296430\ttotal: 36.9s\tremaining: 40.1s\n958:\tlearn: 23.4203101\ttotal: 36.9s\tremaining: 40.1s\n959:\tlearn: 23.4061624\ttotal: 37s\tremaining: 40s\n960:\tlearn: 23.3863282\ttotal: 37s\tremaining: 40s\n961:\tlearn: 23.3658724\ttotal: 37s\tremaining: 40s\n962:\tlearn: 23.3651601\ttotal: 37.1s\tremaining: 39.9s\n963:\tlearn: 23.3449795\ttotal: 37.1s\tremaining: 39.9s\n964:\tlearn: 23.3313469\ttotal: 37.1s\tremaining: 39.8s\n965:\tlearn: 23.3204888\ttotal: 37.2s\tremaining: 39.8s\n966:\tlearn: 23.3008348\ttotal: 37.2s\tremaining: 39.8s\n967:\tlearn: 23.2864702\ttotal: 37.3s\tremaining: 39.7s\n968:\tlearn: 23.2642105\ttotal: 37.3s\tremaining: 39.7s\n969:\tlearn: 23.2503916\ttotal: 37.3s\tremaining: 39.6s\n970:\tlearn: 23.2344645\ttotal: 37.4s\tremaining: 39.6s\n971:\tlearn: 23.2236933\ttotal: 37.4s\tremaining: 39.6s\n972:\tlearn: 23.2158844\ttotal: 37.4s\tremaining: 39.5s\n973:\tlearn: 23.2003396\ttotal: 37.5s\tremaining: 39.5s\n974:\tlearn: 23.1897408\ttotal: 37.5s\tremaining: 39.5s\n975:\tlearn: 23.1748304\ttotal: 37.6s\tremaining: 39.4s\n976:\tlearn: 23.1676069\ttotal: 37.6s\tremaining: 39.4s\n977:\tlearn: 23.1548606\ttotal: 37.6s\tremaining: 39.3s\n978:\tlearn: 23.1446785\ttotal: 37.7s\tremaining: 39.3s\n979:\tlearn: 23.1374319\ttotal: 37.7s\tremaining: 39.3s\n980:\tlearn: 23.1206386\ttotal: 37.8s\tremaining: 39.2s\n981:\tlearn: 23.1080684\ttotal: 37.8s\tremaining: 39.2s\n982:\tlearn: 23.0922259\ttotal: 37.8s\tremaining: 39.1s\n983:\tlearn: 23.0866396\ttotal: 37.9s\tremaining: 39.1s\n984:\tlearn: 23.0653084\ttotal: 37.9s\tremaining: 39.1s\n985:\tlearn: 23.0512740\ttotal: 37.9s\tremaining: 39s\n986:\tlearn: 23.0406088\ttotal: 38s\tremaining: 39s\n987:\tlearn: 23.0319376\ttotal: 38s\tremaining: 38.9s\n988:\tlearn: 23.0190137\ttotal: 38.1s\tremaining: 38.9s\n989:\tlearn: 23.0102210\ttotal: 38.1s\tremaining: 38.9s\n990:\tlearn: 22.9950237\ttotal: 38.2s\tremaining: 38.9s\n991:\tlearn: 22.9787579\ttotal: 38.2s\tremaining: 38.9s\n992:\tlearn: 22.9672005\ttotal: 38.3s\tremaining: 38.8s\n993:\tlearn: 22.9604387\ttotal: 38.3s\tremaining: 38.8s\n994:\tlearn: 22.9492473\ttotal: 38.4s\tremaining: 38.8s\n995:\tlearn: 22.9227205\ttotal: 38.4s\tremaining: 38.8s\n996:\tlearn: 22.9079649\ttotal: 38.5s\tremaining: 38.7s\n997:\tlearn: 22.8913377\ttotal: 38.5s\tremaining: 38.7s\n998:\tlearn: 22.8834520\ttotal: 38.6s\tremaining: 38.7s\n999:\tlearn: 22.8634018\ttotal: 38.7s\tremaining: 38.7s\n1000:\tlearn: 22.8505733\ttotal: 38.7s\tremaining: 38.6s\n1001:\tlearn: 22.8423002\ttotal: 38.8s\tremaining: 38.6s\n1002:\tlearn: 22.8323610\ttotal: 38.8s\tremaining: 38.6s\n1003:\tlearn: 22.8239029\ttotal: 38.9s\tremaining: 38.6s\n1004:\tlearn: 22.8083158\ttotal: 38.9s\tremaining: 38.5s\n1005:\tlearn: 22.7960183\ttotal: 39s\tremaining: 38.5s\n1006:\tlearn: 22.7797384\ttotal: 39s\tremaining: 38.5s\n1007:\tlearn: 22.7738779\ttotal: 39s\tremaining: 38.4s\n1008:\tlearn: 22.7641153\ttotal: 39.1s\tremaining: 38.4s\n1009:\tlearn: 22.7567952\ttotal: 39.1s\tremaining: 38.4s\n1010:\tlearn: 22.7466449\ttotal: 39.2s\tremaining: 38.3s\n1011:\tlearn: 22.7337283\ttotal: 39.2s\tremaining: 38.3s\n1012:\tlearn: 22.7159837\ttotal: 39.3s\tremaining: 38.3s\n1013:\tlearn: 22.7027917\ttotal: 39.3s\tremaining: 38.3s\n1014:\tlearn: 22.6879869\ttotal: 39.4s\tremaining: 38.2s\n1015:\tlearn: 22.6766388\ttotal: 39.4s\tremaining: 38.2s\n1016:\tlearn: 22.6644151\ttotal: 39.5s\tremaining: 38.1s\n1017:\tlearn: 22.6476394\ttotal: 39.5s\tremaining: 38.1s\n1018:\tlearn: 22.6399788\ttotal: 39.5s\tremaining: 38.1s\n1019:\tlearn: 22.6342381\ttotal: 39.6s\tremaining: 38s\n1020:\tlearn: 22.6263412\ttotal: 39.6s\tremaining: 38s\n1021:\tlearn: 22.6172164\ttotal: 39.7s\tremaining: 37.9s\n1022:\tlearn: 22.6079738\ttotal: 39.7s\tremaining: 37.9s\n1023:\tlearn: 22.6003167\ttotal: 39.7s\tremaining: 37.9s\n1024:\tlearn: 22.5901690\ttotal: 39.8s\tremaining: 37.8s\n1025:\tlearn: 22.5846534\ttotal: 39.8s\tremaining: 37.8s\n1026:\tlearn: 22.5693401\ttotal: 39.8s\tremaining: 37.7s\n1027:\tlearn: 22.5622432\ttotal: 39.9s\tremaining: 37.7s\n1028:\tlearn: 22.5508302\ttotal: 39.9s\tremaining: 37.7s\n1029:\tlearn: 22.5399184\ttotal: 39.9s\tremaining: 37.6s\n1030:\tlearn: 22.5256909\ttotal: 40s\tremaining: 37.6s\n1031:\tlearn: 22.5150266\ttotal: 40s\tremaining: 37.5s\n1032:\tlearn: 22.5039667\ttotal: 40.1s\tremaining: 37.5s\n1033:\tlearn: 22.4937660\ttotal: 40.1s\tremaining: 37.5s\n1034:\tlearn: 22.4837284\ttotal: 40.1s\tremaining: 37.4s\n1035:\tlearn: 22.4740068\ttotal: 40.2s\tremaining: 37.4s\n1036:\tlearn: 22.4643849\ttotal: 40.2s\tremaining: 37.3s\n1037:\tlearn: 22.4533753\ttotal: 40.2s\tremaining: 37.3s\n1038:\tlearn: 22.4437996\ttotal: 40.3s\tremaining: 37.3s\n1039:\tlearn: 22.4355759\ttotal: 40.3s\tremaining: 37.2s\n1040:\tlearn: 22.4261659\ttotal: 40.4s\tremaining: 37.2s\n1041:\tlearn: 22.4065315\ttotal: 40.4s\tremaining: 37.1s\n1042:\tlearn: 22.3937407\ttotal: 40.4s\tremaining: 37.1s\n1043:\tlearn: 22.3836143\ttotal: 40.5s\tremaining: 37.1s\n1044:\tlearn: 22.3695270\ttotal: 40.5s\tremaining: 37s\n1045:\tlearn: 22.3573301\ttotal: 40.5s\tremaining: 37s\n1046:\tlearn: 22.3434970\ttotal: 40.6s\tremaining: 36.9s\n1047:\tlearn: 22.3328380\ttotal: 40.6s\tremaining: 36.9s\n1048:\tlearn: 22.3237900\ttotal: 40.7s\tremaining: 36.9s\n1049:\tlearn: 22.3135721\ttotal: 40.7s\tremaining: 36.8s\n1050:\tlearn: 22.3043183\ttotal: 40.7s\tremaining: 36.8s\n1051:\tlearn: 22.2908571\ttotal: 40.8s\tremaining: 36.7s\n1052:\tlearn: 22.2769131\ttotal: 40.8s\tremaining: 36.7s\n1053:\tlearn: 22.2680093\ttotal: 40.9s\tremaining: 36.7s\n1054:\tlearn: 22.2599728\ttotal: 40.9s\tremaining: 36.6s\n1055:\tlearn: 22.2416710\ttotal: 40.9s\tremaining: 36.6s\n1056:\tlearn: 22.2340264\ttotal: 41s\tremaining: 36.6s\n1057:\tlearn: 22.2188801\ttotal: 41s\tremaining: 36.5s\n1058:\tlearn: 22.1980707\ttotal: 41.1s\tremaining: 36.5s\n1059:\tlearn: 22.1856913\ttotal: 41.1s\tremaining: 36.4s\n1060:\tlearn: 22.1742379\ttotal: 41.1s\tremaining: 36.4s\n1061:\tlearn: 22.1609562\ttotal: 41.2s\tremaining: 36.4s\n1062:\tlearn: 22.1515741\ttotal: 41.2s\tremaining: 36.3s\n1063:\tlearn: 22.1414194\ttotal: 41.2s\tremaining: 36.3s\n1064:\tlearn: 22.1348807\ttotal: 41.3s\tremaining: 36.2s\n1065:\tlearn: 22.1296935\ttotal: 41.3s\tremaining: 36.2s\n1066:\tlearn: 22.1165536\ttotal: 41.4s\tremaining: 36.2s\n1067:\tlearn: 22.1058349\ttotal: 41.4s\tremaining: 36.1s\n1068:\tlearn: 22.0981066\ttotal: 41.4s\tremaining: 36.1s\n1069:\tlearn: 22.0893575\ttotal: 41.5s\tremaining: 36s\n1070:\tlearn: 22.0795932\ttotal: 41.5s\tremaining: 36s\n1071:\tlearn: 22.0695824\ttotal: 41.5s\tremaining: 36s\n1072:\tlearn: 22.0534536\ttotal: 41.6s\tremaining: 35.9s\n1073:\tlearn: 22.0415534\ttotal: 41.6s\tremaining: 35.9s\n1074:\tlearn: 22.0338932\ttotal: 41.7s\tremaining: 35.8s\n1075:\tlearn: 22.0265401\ttotal: 41.7s\tremaining: 35.8s\n1076:\tlearn: 22.0207195\ttotal: 41.7s\tremaining: 35.8s\n1077:\tlearn: 22.0137734\ttotal: 41.8s\tremaining: 35.7s\n1078:\tlearn: 22.0016903\ttotal: 41.8s\tremaining: 35.7s\n1079:\tlearn: 21.9961106\ttotal: 41.8s\tremaining: 35.6s\n1080:\tlearn: 21.9838280\ttotal: 41.9s\tremaining: 35.6s\n1081:\tlearn: 21.9681329\ttotal: 41.9s\tremaining: 35.6s\n1082:\tlearn: 21.9487592\ttotal: 42s\tremaining: 35.5s\n1083:\tlearn: 21.9375233\ttotal: 42s\tremaining: 35.5s\n1084:\tlearn: 21.9258657\ttotal: 42s\tremaining: 35.5s\n1085:\tlearn: 21.9149860\ttotal: 42.1s\tremaining: 35.4s\n1086:\tlearn: 21.9055596\ttotal: 42.1s\tremaining: 35.4s\n1087:\tlearn: 21.8998976\ttotal: 42.1s\tremaining: 35.3s\n1088:\tlearn: 21.8794418\ttotal: 42.2s\tremaining: 35.3s\n1089:\tlearn: 21.8664388\ttotal: 42.2s\tremaining: 35.3s\n1090:\tlearn: 21.8534545\ttotal: 42.3s\tremaining: 35.2s\n1091:\tlearn: 21.8402594\ttotal: 42.3s\tremaining: 35.2s\n1092:\tlearn: 21.8296821\ttotal: 42.3s\tremaining: 35.1s\n1093:\tlearn: 21.8111245\ttotal: 42.4s\tremaining: 35.1s\n1094:\tlearn: 21.8040709\ttotal: 42.4s\tremaining: 35.1s\n1095:\tlearn: 21.7887776\ttotal: 42.5s\tremaining: 35s\n1096:\tlearn: 21.7803660\ttotal: 42.5s\tremaining: 35s\n1097:\tlearn: 21.7758545\ttotal: 42.5s\tremaining: 34.9s\n1098:\tlearn: 21.7635633\ttotal: 42.6s\tremaining: 34.9s\n1099:\tlearn: 21.7542706\ttotal: 42.6s\tremaining: 34.9s\n1100:\tlearn: 21.7396827\ttotal: 42.6s\tremaining: 34.8s\n1101:\tlearn: 21.7293118\ttotal: 42.7s\tremaining: 34.8s\n1102:\tlearn: 21.7189868\ttotal: 42.7s\tremaining: 34.7s\n1103:\tlearn: 21.7124251\ttotal: 42.8s\tremaining: 34.7s\n1104:\tlearn: 21.7010980\ttotal: 42.8s\tremaining: 34.7s\n1105:\tlearn: 21.6891495\ttotal: 42.8s\tremaining: 34.6s\n1106:\tlearn: 21.6723071\ttotal: 42.9s\tremaining: 34.6s\n1107:\tlearn: 21.6612111\ttotal: 42.9s\tremaining: 34.6s\n1108:\tlearn: 21.6542467\ttotal: 43s\tremaining: 34.5s\n1109:\tlearn: 21.6429843\ttotal: 43s\tremaining: 34.5s\n1110:\tlearn: 21.6303934\ttotal: 43s\tremaining: 34.4s\n1111:\tlearn: 21.6206314\ttotal: 43.1s\tremaining: 34.4s\n1112:\tlearn: 21.6103616\ttotal: 43.1s\tremaining: 34.4s\n1113:\tlearn: 21.5905900\ttotal: 43.2s\tremaining: 34.3s\n1114:\tlearn: 21.5744357\ttotal: 43.2s\tremaining: 34.3s\n1115:\tlearn: 21.5618667\ttotal: 43.2s\tremaining: 34.3s\n1116:\tlearn: 21.5568608\ttotal: 43.3s\tremaining: 34.2s\n1117:\tlearn: 21.5423409\ttotal: 43.3s\tremaining: 34.2s\n1118:\tlearn: 21.5367236\ttotal: 43.4s\tremaining: 34.1s\n1119:\tlearn: 21.5246636\ttotal: 43.4s\tremaining: 34.1s\n1120:\tlearn: 21.5172452\ttotal: 43.4s\tremaining: 34s\n1121:\tlearn: 21.5087779\ttotal: 43.5s\tremaining: 34s\n1122:\tlearn: 21.5008852\ttotal: 43.5s\tremaining: 34s\n1123:\tlearn: 21.4918307\ttotal: 43.5s\tremaining: 33.9s\n1124:\tlearn: 21.4870360\ttotal: 43.6s\tremaining: 33.9s\n1125:\tlearn: 21.4796414\ttotal: 43.6s\tremaining: 33.8s\n1126:\tlearn: 21.4714260\ttotal: 43.6s\tremaining: 33.8s\n1127:\tlearn: 21.4623146\ttotal: 43.7s\tremaining: 33.8s\n1128:\tlearn: 21.4545289\ttotal: 43.7s\tremaining: 33.7s\n1129:\tlearn: 21.4435445\ttotal: 43.8s\tremaining: 33.7s\n1130:\tlearn: 21.4295534\ttotal: 43.8s\tremaining: 33.7s\n1131:\tlearn: 21.4232802\ttotal: 43.8s\tremaining: 33.6s\n1132:\tlearn: 21.4135385\ttotal: 43.9s\tremaining: 33.6s\n1133:\tlearn: 21.4071845\ttotal: 43.9s\tremaining: 33.5s\n1134:\tlearn: 21.3984442\ttotal: 43.9s\tremaining: 33.5s\n1135:\tlearn: 21.3862553\ttotal: 44s\tremaining: 33.5s\n1136:\tlearn: 21.3744827\ttotal: 44s\tremaining: 33.4s\n1137:\tlearn: 21.3564604\ttotal: 44.1s\tremaining: 33.4s\n1138:\tlearn: 21.3460155\ttotal: 44.1s\tremaining: 33.3s\n1139:\tlearn: 21.3358038\ttotal: 44.1s\tremaining: 33.3s\n1140:\tlearn: 21.3249846\ttotal: 44.2s\tremaining: 33.3s\n1141:\tlearn: 21.3179498\ttotal: 44.2s\tremaining: 33.2s\n1142:\tlearn: 21.3116779\ttotal: 44.3s\tremaining: 33.2s\n1143:\tlearn: 21.3040985\ttotal: 44.3s\tremaining: 33.1s\n1144:\tlearn: 21.2910601\ttotal: 44.3s\tremaining: 33.1s\n1145:\tlearn: 21.2781410\ttotal: 44.4s\tremaining: 33.1s\n1146:\tlearn: 21.2668915\ttotal: 44.4s\tremaining: 33s\n1147:\tlearn: 21.2547898\ttotal: 44.4s\tremaining: 33s\n1148:\tlearn: 21.2434732\ttotal: 44.5s\tremaining: 32.9s\n1149:\tlearn: 21.2350799\ttotal: 44.5s\tremaining: 32.9s\n1150:\tlearn: 21.2209761\ttotal: 44.6s\tremaining: 32.9s\n1151:\tlearn: 21.2117273\ttotal: 44.6s\tremaining: 32.8s\n1152:\tlearn: 21.2029500\ttotal: 44.6s\tremaining: 32.8s\n1153:\tlearn: 21.1988138\ttotal: 44.7s\tremaining: 32.8s\n1154:\tlearn: 21.1879296\ttotal: 44.7s\tremaining: 32.7s\n1155:\tlearn: 21.1783445\ttotal: 44.8s\tremaining: 32.7s\n1156:\tlearn: 21.1712349\ttotal: 44.8s\tremaining: 32.6s\n1157:\tlearn: 21.1622369\ttotal: 44.8s\tremaining: 32.6s\n1158:\tlearn: 21.1512539\ttotal: 44.9s\tremaining: 32.6s\n1159:\tlearn: 21.1391804\ttotal: 44.9s\tremaining: 32.5s\n1160:\tlearn: 21.1292935\ttotal: 44.9s\tremaining: 32.5s\n1161:\tlearn: 21.1205782\ttotal: 45s\tremaining: 32.4s\n1162:\tlearn: 21.1148004\ttotal: 45s\tremaining: 32.4s\n1163:\tlearn: 21.1076249\ttotal: 45s\tremaining: 32.4s\n1164:\tlearn: 21.1015745\ttotal: 45.1s\tremaining: 32.3s\n1165:\tlearn: 21.0944277\ttotal: 45.1s\tremaining: 32.3s\n1166:\tlearn: 21.0877496\ttotal: 45.2s\tremaining: 32.2s\n1167:\tlearn: 21.0809734\ttotal: 45.2s\tremaining: 32.2s\n1168:\tlearn: 21.0749188\ttotal: 45.2s\tremaining: 32.2s\n1169:\tlearn: 21.0646201\ttotal: 45.3s\tremaining: 32.1s\n1170:\tlearn: 21.0600016\ttotal: 45.3s\tremaining: 32.1s\n1171:\tlearn: 21.0522483\ttotal: 45.3s\tremaining: 32s\n1172:\tlearn: 21.0421993\ttotal: 45.4s\tremaining: 32s\n1173:\tlearn: 21.0368479\ttotal: 45.4s\tremaining: 32s\n1174:\tlearn: 21.0221954\ttotal: 45.5s\tremaining: 31.9s\n1175:\tlearn: 21.0122560\ttotal: 45.5s\tremaining: 31.9s\n1176:\tlearn: 21.0009536\ttotal: 45.5s\tremaining: 31.8s\n1177:\tlearn: 20.9913866\ttotal: 45.6s\tremaining: 31.8s\n1178:\tlearn: 20.9784967\ttotal: 45.6s\tremaining: 31.8s\n1179:\tlearn: 20.9668982\ttotal: 45.7s\tremaining: 31.7s\n1180:\tlearn: 20.9602017\ttotal: 45.7s\tremaining: 31.7s\n1181:\tlearn: 20.9497435\ttotal: 45.7s\tremaining: 31.6s\n1182:\tlearn: 20.9412576\ttotal: 45.8s\tremaining: 31.6s\n1183:\tlearn: 20.9327414\ttotal: 45.8s\tremaining: 31.6s\n1184:\tlearn: 20.9174500\ttotal: 45.8s\tremaining: 31.5s\n1185:\tlearn: 20.9120745\ttotal: 45.9s\tremaining: 31.5s\n1186:\tlearn: 20.9043792\ttotal: 45.9s\tremaining: 31.5s\n1187:\tlearn: 20.8989417\ttotal: 46s\tremaining: 31.4s\n1188:\tlearn: 20.8911085\ttotal: 46s\tremaining: 31.4s\n1189:\tlearn: 20.8838322\ttotal: 46s\tremaining: 31.3s\n1190:\tlearn: 20.8681659\ttotal: 46.1s\tremaining: 31.3s\n1191:\tlearn: 20.8633875\ttotal: 46.1s\tremaining: 31.3s\n1192:\tlearn: 20.8548529\ttotal: 46.2s\tremaining: 31.2s\n1193:\tlearn: 20.8447610\ttotal: 46.2s\tremaining: 31.2s\n1194:\tlearn: 20.8348127\ttotal: 46.3s\tremaining: 31.2s\n1195:\tlearn: 20.8269368\ttotal: 46.3s\tremaining: 31.1s\n1196:\tlearn: 20.8186795\ttotal: 46.3s\tremaining: 31.1s\n1197:\tlearn: 20.8125786\ttotal: 46.4s\tremaining: 31s\n1198:\tlearn: 20.8034594\ttotal: 46.4s\tremaining: 31s\n1199:\tlearn: 20.7901833\ttotal: 46.4s\tremaining: 31s\n1200:\tlearn: 20.7741035\ttotal: 46.5s\tremaining: 30.9s\n1201:\tlearn: 20.7618057\ttotal: 46.5s\tremaining: 30.9s\n1202:\tlearn: 20.7522974\ttotal: 46.6s\tremaining: 30.8s\n1203:\tlearn: 20.7443505\ttotal: 46.6s\tremaining: 30.8s\n1204:\tlearn: 20.7386938\ttotal: 46.6s\tremaining: 30.8s\n1205:\tlearn: 20.7343585\ttotal: 46.7s\tremaining: 30.7s\n1206:\tlearn: 20.7270708\ttotal: 46.7s\tremaining: 30.7s\n1207:\tlearn: 20.7185744\ttotal: 46.7s\tremaining: 30.6s\n1208:\tlearn: 20.7115816\ttotal: 46.8s\tremaining: 30.6s\n1209:\tlearn: 20.7051164\ttotal: 46.8s\tremaining: 30.6s\n1210:\tlearn: 20.7011223\ttotal: 46.9s\tremaining: 30.5s\n1211:\tlearn: 20.6933037\ttotal: 46.9s\tremaining: 30.5s\n1212:\tlearn: 20.6861145\ttotal: 46.9s\tremaining: 30.4s\n1213:\tlearn: 20.6799188\ttotal: 47s\tremaining: 30.4s\n1214:\tlearn: 20.6729959\ttotal: 47s\tremaining: 30.4s\n1215:\tlearn: 20.6643828\ttotal: 47s\tremaining: 30.3s\n1216:\tlearn: 20.6539400\ttotal: 47.1s\tremaining: 30.3s\n1217:\tlearn: 20.6479821\ttotal: 47.1s\tremaining: 30.3s\n1218:\tlearn: 20.6422332\ttotal: 47.2s\tremaining: 30.2s\n1219:\tlearn: 20.6355888\ttotal: 47.2s\tremaining: 30.2s\n1220:\tlearn: 20.6226350\ttotal: 47.2s\tremaining: 30.1s\n1221:\tlearn: 20.6175529\ttotal: 47.3s\tremaining: 30.1s\n1222:\tlearn: 20.6088869\ttotal: 47.3s\tremaining: 30.1s\n1223:\tlearn: 20.5979518\ttotal: 47.3s\tremaining: 30s\n1224:\tlearn: 20.5847846\ttotal: 47.4s\tremaining: 30s\n1225:\tlearn: 20.5757950\ttotal: 47.4s\tremaining: 29.9s\n1226:\tlearn: 20.5612515\ttotal: 47.5s\tremaining: 29.9s\n1227:\tlearn: 20.5556892\ttotal: 47.5s\tremaining: 29.9s\n1228:\tlearn: 20.5466494\ttotal: 47.5s\tremaining: 29.8s\n1229:\tlearn: 20.5348633\ttotal: 47.6s\tremaining: 29.8s\n1230:\tlearn: 20.5283048\ttotal: 47.6s\tremaining: 29.7s\n1231:\tlearn: 20.5175363\ttotal: 47.6s\tremaining: 29.7s\n1232:\tlearn: 20.5110496\ttotal: 47.7s\tremaining: 29.7s\n1233:\tlearn: 20.5004106\ttotal: 47.7s\tremaining: 29.6s\n1234:\tlearn: 20.4788303\ttotal: 47.8s\tremaining: 29.6s\n1235:\tlearn: 20.4708241\ttotal: 47.8s\tremaining: 29.5s\n1236:\tlearn: 20.4511606\ttotal: 47.8s\tremaining: 29.5s\n1237:\tlearn: 20.4407568\ttotal: 47.9s\tremaining: 29.5s\n1238:\tlearn: 20.4293848\ttotal: 47.9s\tremaining: 29.4s\n1239:\tlearn: 20.4191631\ttotal: 48s\tremaining: 29.4s\n1240:\tlearn: 20.4100553\ttotal: 48s\tremaining: 29.4s\n1241:\tlearn: 20.3984771\ttotal: 48s\tremaining: 29.3s\n1242:\tlearn: 20.3881425\ttotal: 48.1s\tremaining: 29.3s\n1243:\tlearn: 20.3762379\ttotal: 48.1s\tremaining: 29.2s\n1244:\tlearn: 20.3659789\ttotal: 48.2s\tremaining: 29.2s\n1245:\tlearn: 20.3575515\ttotal: 48.2s\tremaining: 29.2s\n1246:\tlearn: 20.3496263\ttotal: 48.2s\tremaining: 29.1s\n1247:\tlearn: 20.3406130\ttotal: 48.3s\tremaining: 29.1s\n1248:\tlearn: 20.3305706\ttotal: 48.3s\tremaining: 29s\n1249:\tlearn: 20.3234250\ttotal: 48.3s\tremaining: 29s\n1250:\tlearn: 20.3131741\ttotal: 48.4s\tremaining: 29s\n1251:\tlearn: 20.3057549\ttotal: 48.4s\tremaining: 28.9s\n1252:\tlearn: 20.2969544\ttotal: 48.5s\tremaining: 28.9s\n1253:\tlearn: 20.2881987\ttotal: 48.5s\tremaining: 28.9s\n1254:\tlearn: 20.2776490\ttotal: 48.5s\tremaining: 28.8s\n1255:\tlearn: 20.2680305\ttotal: 48.6s\tremaining: 28.8s\n1256:\tlearn: 20.2523537\ttotal: 48.6s\tremaining: 28.7s\n1257:\tlearn: 20.2403921\ttotal: 48.7s\tremaining: 28.7s\n1258:\tlearn: 20.2352381\ttotal: 48.7s\tremaining: 28.7s\n1259:\tlearn: 20.2292629\ttotal: 48.7s\tremaining: 28.6s\n1260:\tlearn: 20.2177056\ttotal: 48.8s\tremaining: 28.6s\n1261:\tlearn: 20.2042402\ttotal: 48.8s\tremaining: 28.5s\n1262:\tlearn: 20.1929149\ttotal: 48.9s\tremaining: 28.5s\n1263:\tlearn: 20.1754906\ttotal: 48.9s\tremaining: 28.5s\n1264:\tlearn: 20.1665371\ttotal: 48.9s\tremaining: 28.4s\n1265:\tlearn: 20.1594415\ttotal: 49s\tremaining: 28.4s\n1266:\tlearn: 20.1469560\ttotal: 49s\tremaining: 28.4s\n1267:\tlearn: 20.1361972\ttotal: 49s\tremaining: 28.3s\n1268:\tlearn: 20.1234422\ttotal: 49.1s\tremaining: 28.3s\n1269:\tlearn: 20.1160697\ttotal: 49.1s\tremaining: 28.2s\n1270:\tlearn: 20.1070293\ttotal: 49.2s\tremaining: 28.2s\n1271:\tlearn: 20.0978345\ttotal: 49.2s\tremaining: 28.2s\n1272:\tlearn: 20.0875849\ttotal: 49.3s\tremaining: 28.1s\n1273:\tlearn: 20.0791691\ttotal: 49.3s\tremaining: 28.1s\n1274:\tlearn: 20.0722261\ttotal: 49.3s\tremaining: 28s\n1275:\tlearn: 20.0599003\ttotal: 49.4s\tremaining: 28s\n1276:\tlearn: 20.0471843\ttotal: 49.4s\tremaining: 28s\n1277:\tlearn: 20.0386575\ttotal: 49.4s\tremaining: 27.9s\n1278:\tlearn: 20.0274951\ttotal: 49.5s\tremaining: 27.9s\n1279:\tlearn: 20.0152112\ttotal: 49.5s\tremaining: 27.9s\n1280:\tlearn: 20.0035181\ttotal: 49.6s\tremaining: 27.8s\n1281:\tlearn: 19.9919515\ttotal: 49.6s\tremaining: 27.8s\n1282:\tlearn: 19.9786719\ttotal: 49.6s\tremaining: 27.7s\n1283:\tlearn: 19.9687880\ttotal: 49.7s\tremaining: 27.7s\n1284:\tlearn: 19.9591833\ttotal: 49.7s\tremaining: 27.7s\n1285:\tlearn: 19.9500899\ttotal: 49.7s\tremaining: 27.6s\n1286:\tlearn: 19.9401455\ttotal: 49.8s\tremaining: 27.6s\n1287:\tlearn: 19.9360784\ttotal: 49.8s\tremaining: 27.5s\n1288:\tlearn: 19.9307947\ttotal: 49.9s\tremaining: 27.5s\n1289:\tlearn: 19.9215475\ttotal: 49.9s\tremaining: 27.5s\n1290:\tlearn: 19.9113672\ttotal: 49.9s\tremaining: 27.4s\n1291:\tlearn: 19.9032015\ttotal: 50s\tremaining: 27.4s\n1292:\tlearn: 19.8942189\ttotal: 50s\tremaining: 27.3s\n1293:\tlearn: 19.8822293\ttotal: 50.1s\tremaining: 27.3s\n1294:\tlearn: 19.8727597\ttotal: 50.1s\tremaining: 27.3s\n1295:\tlearn: 19.8636165\ttotal: 50.1s\tremaining: 27.2s\n1296:\tlearn: 19.8556000\ttotal: 50.2s\tremaining: 27.2s\n1297:\tlearn: 19.8432615\ttotal: 50.2s\tremaining: 27.2s\n1298:\tlearn: 19.8371772\ttotal: 50.2s\tremaining: 27.1s\n1299:\tlearn: 19.8273193\ttotal: 50.3s\tremaining: 27.1s\n1300:\tlearn: 19.8204597\ttotal: 50.3s\tremaining: 27s\n1301:\tlearn: 19.8146006\ttotal: 50.4s\tremaining: 27s\n1302:\tlearn: 19.8069637\ttotal: 50.4s\tremaining: 27s\n1303:\tlearn: 19.7969547\ttotal: 50.4s\tremaining: 26.9s\n1304:\tlearn: 19.7913058\ttotal: 50.5s\tremaining: 26.9s\n1305:\tlearn: 19.7849335\ttotal: 50.5s\tremaining: 26.8s\n1306:\tlearn: 19.7812762\ttotal: 50.5s\tremaining: 26.8s\n1307:\tlearn: 19.7715948\ttotal: 50.6s\tremaining: 26.8s\n1308:\tlearn: 19.7607307\ttotal: 50.6s\tremaining: 26.7s\n1309:\tlearn: 19.7520480\ttotal: 50.7s\tremaining: 26.7s\n1310:\tlearn: 19.7423520\ttotal: 50.7s\tremaining: 26.6s\n1311:\tlearn: 19.7361298\ttotal: 50.7s\tremaining: 26.6s\n1312:\tlearn: 19.7276089\ttotal: 50.8s\tremaining: 26.6s\n1313:\tlearn: 19.7182294\ttotal: 50.8s\tremaining: 26.5s\n1314:\tlearn: 19.7128680\ttotal: 50.8s\tremaining: 26.5s\n1315:\tlearn: 19.7069736\ttotal: 50.9s\tremaining: 26.4s\n1316:\tlearn: 19.6957216\ttotal: 50.9s\tremaining: 26.4s\n1317:\tlearn: 19.6858758\ttotal: 51s\tremaining: 26.4s\n1318:\tlearn: 19.6780500\ttotal: 51s\tremaining: 26.3s\n1319:\tlearn: 19.6719962\ttotal: 51s\tremaining: 26.3s\n1320:\tlearn: 19.6653103\ttotal: 51.1s\tremaining: 26.3s\n1321:\tlearn: 19.6566923\ttotal: 51.1s\tremaining: 26.2s\n1322:\tlearn: 19.6497771\ttotal: 51.1s\tremaining: 26.2s\n1323:\tlearn: 19.6403065\ttotal: 51.2s\tremaining: 26.1s\n1324:\tlearn: 19.6294485\ttotal: 51.2s\tremaining: 26.1s\n1325:\tlearn: 19.6225635\ttotal: 51.3s\tremaining: 26.1s\n1326:\tlearn: 19.6143385\ttotal: 51.3s\tremaining: 26s\n1327:\tlearn: 19.6079160\ttotal: 51.3s\tremaining: 26s\n1328:\tlearn: 19.6001602\ttotal: 51.4s\tremaining: 25.9s\n1329:\tlearn: 19.5963168\ttotal: 51.4s\tremaining: 25.9s\n1330:\tlearn: 19.5898958\ttotal: 51.4s\tremaining: 25.9s\n1331:\tlearn: 19.5866522\ttotal: 51.5s\tremaining: 25.8s\n1332:\tlearn: 19.5800346\ttotal: 51.5s\tremaining: 25.8s\n1333:\tlearn: 19.5704082\ttotal: 51.6s\tremaining: 25.7s\n1334:\tlearn: 19.5634117\ttotal: 51.6s\tremaining: 25.7s\n1335:\tlearn: 19.5550784\ttotal: 51.6s\tremaining: 25.7s\n1336:\tlearn: 19.5485325\ttotal: 51.7s\tremaining: 25.6s\n1337:\tlearn: 19.5312576\ttotal: 51.7s\tremaining: 25.6s\n1338:\tlearn: 19.5212092\ttotal: 51.7s\tremaining: 25.5s\n1339:\tlearn: 19.5094993\ttotal: 51.8s\tremaining: 25.5s\n1340:\tlearn: 19.5002993\ttotal: 51.8s\tremaining: 25.5s\n1341:\tlearn: 19.4901895\ttotal: 51.9s\tremaining: 25.4s\n1342:\tlearn: 19.4829528\ttotal: 51.9s\tremaining: 25.4s\n1343:\tlearn: 19.4743168\ttotal: 51.9s\tremaining: 25.3s\n1344:\tlearn: 19.4665175\ttotal: 52s\tremaining: 25.3s\n1345:\tlearn: 19.4578037\ttotal: 52s\tremaining: 25.3s\n1346:\tlearn: 19.4482502\ttotal: 52s\tremaining: 25.2s\n1347:\tlearn: 19.4361642\ttotal: 52.1s\tremaining: 25.2s\n1348:\tlearn: 19.4270663\ttotal: 52.1s\tremaining: 25.2s\n1349:\tlearn: 19.4143988\ttotal: 52.2s\tremaining: 25.1s\n1350:\tlearn: 19.4069913\ttotal: 52.2s\tremaining: 25.1s\n1351:\tlearn: 19.4024487\ttotal: 52.2s\tremaining: 25s\n1352:\tlearn: 19.3973145\ttotal: 52.3s\tremaining: 25s\n1353:\tlearn: 19.3893115\ttotal: 52.3s\tremaining: 25s\n1354:\tlearn: 19.3803052\ttotal: 52.3s\tremaining: 24.9s\n1355:\tlearn: 19.3684879\ttotal: 52.4s\tremaining: 24.9s\n1356:\tlearn: 19.3631298\ttotal: 52.4s\tremaining: 24.8s\n1357:\tlearn: 19.3564702\ttotal: 52.5s\tremaining: 24.8s\n1358:\tlearn: 19.3513727\ttotal: 52.5s\tremaining: 24.8s\n1359:\tlearn: 19.3475382\ttotal: 52.5s\tremaining: 24.7s\n1360:\tlearn: 19.3378458\ttotal: 52.6s\tremaining: 24.7s\n1361:\tlearn: 19.3247459\ttotal: 52.6s\tremaining: 24.6s\n1362:\tlearn: 19.3171060\ttotal: 52.6s\tremaining: 24.6s\n1363:\tlearn: 19.3118553\ttotal: 52.7s\tremaining: 24.6s\n1364:\tlearn: 19.3062086\ttotal: 52.7s\tremaining: 24.5s\n1365:\tlearn: 19.2946564\ttotal: 52.8s\tremaining: 24.5s\n1366:\tlearn: 19.2884016\ttotal: 52.8s\tremaining: 24.4s\n1367:\tlearn: 19.2831594\ttotal: 52.8s\tremaining: 24.4s\n1368:\tlearn: 19.2765132\ttotal: 52.9s\tremaining: 24.4s\n1369:\tlearn: 19.2593300\ttotal: 52.9s\tremaining: 24.3s\n1370:\tlearn: 19.2498686\ttotal: 52.9s\tremaining: 24.3s\n1371:\tlearn: 19.2399731\ttotal: 53s\tremaining: 24.3s\n1372:\tlearn: 19.2293887\ttotal: 53s\tremaining: 24.2s\n1373:\tlearn: 19.2238327\ttotal: 53.1s\tremaining: 24.2s\n1374:\tlearn: 19.2186726\ttotal: 53.1s\tremaining: 24.1s\n1375:\tlearn: 19.2118932\ttotal: 53.1s\tremaining: 24.1s\n1376:\tlearn: 19.2027203\ttotal: 53.2s\tremaining: 24.1s\n1377:\tlearn: 19.1930239\ttotal: 53.2s\tremaining: 24s\n1378:\tlearn: 19.1853797\ttotal: 53.2s\tremaining: 24s\n1379:\tlearn: 19.1767874\ttotal: 53.3s\tremaining: 23.9s\n1380:\tlearn: 19.1688424\ttotal: 53.3s\tremaining: 23.9s\n1381:\tlearn: 19.1628181\ttotal: 53.4s\tremaining: 23.9s\n1382:\tlearn: 19.1589981\ttotal: 53.4s\tremaining: 23.8s\n1383:\tlearn: 19.1518954\ttotal: 53.4s\tremaining: 23.8s\n1384:\tlearn: 19.1395053\ttotal: 53.5s\tremaining: 23.7s\n1385:\tlearn: 19.1217729\ttotal: 53.5s\tremaining: 23.7s\n1386:\tlearn: 19.1171864\ttotal: 53.6s\tremaining: 23.7s\n1387:\tlearn: 19.1118771\ttotal: 53.6s\tremaining: 23.6s\n1388:\tlearn: 19.1026997\ttotal: 53.6s\tremaining: 23.6s\n1389:\tlearn: 19.0962106\ttotal: 53.7s\tremaining: 23.5s\n1390:\tlearn: 19.0857126\ttotal: 53.7s\tremaining: 23.5s\n1391:\tlearn: 19.0808792\ttotal: 53.7s\tremaining: 23.5s\n1392:\tlearn: 19.0729251\ttotal: 53.8s\tremaining: 23.4s\n1393:\tlearn: 19.0686450\ttotal: 53.8s\tremaining: 23.4s\n1394:\tlearn: 19.0639431\ttotal: 53.8s\tremaining: 23.4s\n1395:\tlearn: 19.0503716\ttotal: 53.9s\tremaining: 23.3s\n1396:\tlearn: 19.0434680\ttotal: 53.9s\tremaining: 23.3s\n1397:\tlearn: 19.0370248\ttotal: 54s\tremaining: 23.2s\n1398:\tlearn: 19.0293378\ttotal: 54s\tremaining: 23.2s\n1399:\tlearn: 19.0220059\ttotal: 54s\tremaining: 23.2s\n1400:\tlearn: 19.0110305\ttotal: 54.1s\tremaining: 23.1s\n1401:\tlearn: 19.0039489\ttotal: 54.1s\tremaining: 23.1s\n1402:\tlearn: 18.9957967\ttotal: 54.1s\tremaining: 23s\n1403:\tlearn: 18.9839870\ttotal: 54.2s\tremaining: 23s\n1404:\tlearn: 18.9769725\ttotal: 54.2s\tremaining: 23s\n1405:\tlearn: 18.9681441\ttotal: 54.3s\tremaining: 22.9s\n1406:\tlearn: 18.9573648\ttotal: 54.3s\tremaining: 22.9s\n1407:\tlearn: 18.9476742\ttotal: 54.3s\tremaining: 22.8s\n1408:\tlearn: 18.9408941\ttotal: 54.4s\tremaining: 22.8s\n1409:\tlearn: 18.9267319\ttotal: 54.4s\tremaining: 22.8s\n1410:\tlearn: 18.9220064\ttotal: 54.5s\tremaining: 22.7s\n1411:\tlearn: 18.9135347\ttotal: 54.5s\tremaining: 22.7s\n1412:\tlearn: 18.9026123\ttotal: 54.5s\tremaining: 22.7s\n1413:\tlearn: 18.8934560\ttotal: 54.6s\tremaining: 22.6s\n1414:\tlearn: 18.8882225\ttotal: 54.6s\tremaining: 22.6s\n1415:\tlearn: 18.8797013\ttotal: 54.7s\tremaining: 22.5s\n1416:\tlearn: 18.8728011\ttotal: 54.7s\tremaining: 22.5s\n1417:\tlearn: 18.8647185\ttotal: 54.7s\tremaining: 22.5s\n1418:\tlearn: 18.8563544\ttotal: 54.8s\tremaining: 22.4s\n1419:\tlearn: 18.8438718\ttotal: 54.8s\tremaining: 22.4s\n1420:\tlearn: 18.8370567\ttotal: 54.9s\tremaining: 22.3s\n1421:\tlearn: 18.8329804\ttotal: 54.9s\tremaining: 22.3s\n1422:\tlearn: 18.8237283\ttotal: 54.9s\tremaining: 22.3s\n1423:\tlearn: 18.8154571\ttotal: 55s\tremaining: 22.2s\n1424:\tlearn: 18.8037117\ttotal: 55s\tremaining: 22.2s\n1425:\tlearn: 18.7916768\ttotal: 55s\tremaining: 22.2s\n1426:\tlearn: 18.7827233\ttotal: 55.1s\tremaining: 22.1s\n1427:\tlearn: 18.7763503\ttotal: 55.1s\tremaining: 22.1s\n1428:\tlearn: 18.7730524\ttotal: 55.2s\tremaining: 22s\n1429:\tlearn: 18.7623675\ttotal: 55.2s\tremaining: 22s\n1430:\tlearn: 18.7569398\ttotal: 55.2s\tremaining: 22s\n1431:\tlearn: 18.7429785\ttotal: 55.3s\tremaining: 21.9s\n1432:\tlearn: 18.7284702\ttotal: 55.3s\tremaining: 21.9s\n1433:\tlearn: 18.7210190\ttotal: 55.3s\tremaining: 21.8s\n1434:\tlearn: 18.7089375\ttotal: 55.4s\tremaining: 21.8s\n1435:\tlearn: 18.7031458\ttotal: 55.4s\tremaining: 21.8s\n1436:\tlearn: 18.6955531\ttotal: 55.5s\tremaining: 21.7s\n1437:\tlearn: 18.6874463\ttotal: 55.5s\tremaining: 21.7s\n1438:\tlearn: 18.6836149\ttotal: 55.5s\tremaining: 21.6s\n1439:\tlearn: 18.6748307\ttotal: 55.6s\tremaining: 21.6s\n1440:\tlearn: 18.6669904\ttotal: 55.6s\tremaining: 21.6s\n1441:\tlearn: 18.6613866\ttotal: 55.6s\tremaining: 21.5s\n1442:\tlearn: 18.6547414\ttotal: 55.7s\tremaining: 21.5s\n1443:\tlearn: 18.6504949\ttotal: 55.7s\tremaining: 21.5s\n1444:\tlearn: 18.6439289\ttotal: 55.8s\tremaining: 21.4s\n1445:\tlearn: 18.6370540\ttotal: 55.8s\tremaining: 21.4s\n1446:\tlearn: 18.6324408\ttotal: 55.8s\tremaining: 21.3s\n1447:\tlearn: 18.6268704\ttotal: 55.9s\tremaining: 21.3s\n1448:\tlearn: 18.6202382\ttotal: 55.9s\tremaining: 21.3s\n1449:\tlearn: 18.6057577\ttotal: 55.9s\tremaining: 21.2s\n1450:\tlearn: 18.5994149\ttotal: 56s\tremaining: 21.2s\n1451:\tlearn: 18.5968095\ttotal: 56s\tremaining: 21.1s\n1452:\tlearn: 18.5926451\ttotal: 56.1s\tremaining: 21.1s\n1453:\tlearn: 18.5876841\ttotal: 56.1s\tremaining: 21.1s\n1454:\tlearn: 18.5830251\ttotal: 56.1s\tremaining: 21s\n1455:\tlearn: 18.5770996\ttotal: 56.2s\tremaining: 21s\n1456:\tlearn: 18.5705671\ttotal: 56.2s\tremaining: 20.9s\n1457:\tlearn: 18.5607935\ttotal: 56.3s\tremaining: 20.9s\n1458:\tlearn: 18.5571831\ttotal: 56.3s\tremaining: 20.9s\n1459:\tlearn: 18.5491136\ttotal: 56.3s\tremaining: 20.8s\n1460:\tlearn: 18.5428031\ttotal: 56.4s\tremaining: 20.8s\n1461:\tlearn: 18.5325451\ttotal: 56.4s\tremaining: 20.8s\n1462:\tlearn: 18.5209167\ttotal: 56.4s\tremaining: 20.7s\n1463:\tlearn: 18.5103987\ttotal: 56.5s\tremaining: 20.7s\n1464:\tlearn: 18.5059415\ttotal: 56.5s\tremaining: 20.6s\n1465:\tlearn: 18.4990390\ttotal: 56.6s\tremaining: 20.6s\n1466:\tlearn: 18.4933968\ttotal: 56.6s\tremaining: 20.6s\n1467:\tlearn: 18.4846285\ttotal: 56.6s\tremaining: 20.5s\n1468:\tlearn: 18.4764718\ttotal: 56.7s\tremaining: 20.5s\n1469:\tlearn: 18.4725758\ttotal: 56.7s\tremaining: 20.4s\n1470:\tlearn: 18.4640255\ttotal: 56.7s\tremaining: 20.4s\n1471:\tlearn: 18.4610858\ttotal: 56.8s\tremaining: 20.4s\n1472:\tlearn: 18.4554369\ttotal: 56.8s\tremaining: 20.3s\n1473:\tlearn: 18.4501760\ttotal: 56.8s\tremaining: 20.3s\n1474:\tlearn: 18.4458767\ttotal: 56.9s\tremaining: 20.2s\n1475:\tlearn: 18.4369614\ttotal: 56.9s\tremaining: 20.2s\n1476:\tlearn: 18.4238261\ttotal: 57s\tremaining: 20.2s\n1477:\tlearn: 18.4168681\ttotal: 57s\tremaining: 20.1s\n1478:\tlearn: 18.4071116\ttotal: 57.1s\tremaining: 20.1s\n1479:\tlearn: 18.4029551\ttotal: 57.1s\tremaining: 20.1s\n1480:\tlearn: 18.3981654\ttotal: 57.2s\tremaining: 20s\n1481:\tlearn: 18.3872750\ttotal: 57.2s\tremaining: 20s\n1482:\tlearn: 18.3824793\ttotal: 57.2s\tremaining: 20s\n1483:\tlearn: 18.3677260\ttotal: 57.3s\tremaining: 19.9s\n1484:\tlearn: 18.3615687\ttotal: 57.3s\tremaining: 19.9s\n1485:\tlearn: 18.3570034\ttotal: 57.4s\tremaining: 19.8s\n1486:\tlearn: 18.3489200\ttotal: 57.4s\tremaining: 19.8s\n1487:\tlearn: 18.3370869\ttotal: 57.5s\tremaining: 19.8s\n1488:\tlearn: 18.3336649\ttotal: 57.5s\tremaining: 19.7s\n1489:\tlearn: 18.3291548\ttotal: 57.5s\tremaining: 19.7s\n1490:\tlearn: 18.3197731\ttotal: 57.6s\tremaining: 19.7s\n1491:\tlearn: 18.3070505\ttotal: 57.6s\tremaining: 19.6s\n1492:\tlearn: 18.3021328\ttotal: 57.6s\tremaining: 19.6s\n1493:\tlearn: 18.2977097\ttotal: 57.7s\tremaining: 19.5s\n1494:\tlearn: 18.2926350\ttotal: 57.7s\tremaining: 19.5s\n1495:\tlearn: 18.2870184\ttotal: 57.8s\tremaining: 19.5s\n1496:\tlearn: 18.2809044\ttotal: 57.8s\tremaining: 19.4s\n1497:\tlearn: 18.2730334\ttotal: 57.8s\tremaining: 19.4s\n1498:\tlearn: 18.2663862\ttotal: 57.9s\tremaining: 19.3s\n1499:\tlearn: 18.2602589\ttotal: 57.9s\tremaining: 19.3s\n1500:\tlearn: 18.2532375\ttotal: 57.9s\tremaining: 19.3s\n1501:\tlearn: 18.2422832\ttotal: 58s\tremaining: 19.2s\n1502:\tlearn: 18.2380665\ttotal: 58s\tremaining: 19.2s\n1503:\tlearn: 18.2354354\ttotal: 58.1s\tremaining: 19.1s\n1504:\tlearn: 18.2253717\ttotal: 58.1s\tremaining: 19.1s\n1505:\tlearn: 18.2184348\ttotal: 58.1s\tremaining: 19.1s\n1506:\tlearn: 18.2118529\ttotal: 58.2s\tremaining: 19s\n1507:\tlearn: 18.2064698\ttotal: 58.2s\tremaining: 19s\n1508:\tlearn: 18.1951083\ttotal: 58.2s\tremaining: 19s\n1509:\tlearn: 18.1895013\ttotal: 58.3s\tremaining: 18.9s\n1510:\tlearn: 18.1769824\ttotal: 58.3s\tremaining: 18.9s\n1511:\tlearn: 18.1710315\ttotal: 58.4s\tremaining: 18.8s\n1512:\tlearn: 18.1618267\ttotal: 58.4s\tremaining: 18.8s\n1513:\tlearn: 18.1542346\ttotal: 58.4s\tremaining: 18.8s\n1514:\tlearn: 18.1498133\ttotal: 58.5s\tremaining: 18.7s\n1515:\tlearn: 18.1446643\ttotal: 58.5s\tremaining: 18.7s\n1516:\tlearn: 18.1291718\ttotal: 58.6s\tremaining: 18.6s\n1517:\tlearn: 18.1219906\ttotal: 58.6s\tremaining: 18.6s\n1518:\tlearn: 18.1196347\ttotal: 58.6s\tremaining: 18.6s\n1519:\tlearn: 18.1127840\ttotal: 58.7s\tremaining: 18.5s\n1520:\tlearn: 18.1023098\ttotal: 58.7s\tremaining: 18.5s\n1521:\tlearn: 18.0947866\ttotal: 58.8s\tremaining: 18.5s\n1522:\tlearn: 18.0823875\ttotal: 58.8s\tremaining: 18.4s\n1523:\tlearn: 18.0782309\ttotal: 58.8s\tremaining: 18.4s\n1524:\tlearn: 18.0690178\ttotal: 58.9s\tremaining: 18.3s\n1525:\tlearn: 18.0617779\ttotal: 58.9s\tremaining: 18.3s\n1526:\tlearn: 18.0581570\ttotal: 59s\tremaining: 18.3s\n1527:\tlearn: 18.0552022\ttotal: 59s\tremaining: 18.2s\n1528:\tlearn: 18.0475284\ttotal: 59s\tremaining: 18.2s\n1529:\tlearn: 18.0396423\ttotal: 59.1s\tremaining: 18.1s\n1530:\tlearn: 18.0332096\ttotal: 59.1s\tremaining: 18.1s\n1531:\tlearn: 18.0290381\ttotal: 59.2s\tremaining: 18.1s\n1532:\tlearn: 18.0210058\ttotal: 59.2s\tremaining: 18s\n1533:\tlearn: 18.0147843\ttotal: 59.2s\tremaining: 18s\n1534:\tlearn: 18.0077732\ttotal: 59.3s\tremaining: 18s\n1535:\tlearn: 18.0005438\ttotal: 59.3s\tremaining: 17.9s\n1536:\tlearn: 17.9928876\ttotal: 59.3s\tremaining: 17.9s\n1537:\tlearn: 17.9858171\ttotal: 59.4s\tremaining: 17.8s\n1538:\tlearn: 17.9827967\ttotal: 59.4s\tremaining: 17.8s\n1539:\tlearn: 17.9795040\ttotal: 59.5s\tremaining: 17.8s\n1540:\tlearn: 17.9742341\ttotal: 59.5s\tremaining: 17.7s\n1541:\tlearn: 17.9674341\ttotal: 59.5s\tremaining: 17.7s\n1542:\tlearn: 17.9600605\ttotal: 59.6s\tremaining: 17.6s\n1543:\tlearn: 17.9560270\ttotal: 59.6s\tremaining: 17.6s\n1544:\tlearn: 17.9477190\ttotal: 59.6s\tremaining: 17.6s\n1545:\tlearn: 17.9403837\ttotal: 59.7s\tremaining: 17.5s\n1546:\tlearn: 17.9360002\ttotal: 59.7s\tremaining: 17.5s\n1547:\tlearn: 17.9319959\ttotal: 59.8s\tremaining: 17.4s\n1548:\tlearn: 17.9255057\ttotal: 59.8s\tremaining: 17.4s\n1549:\tlearn: 17.9210049\ttotal: 59.8s\tremaining: 17.4s\n1550:\tlearn: 17.9154938\ttotal: 59.9s\tremaining: 17.3s\n1551:\tlearn: 17.9108633\ttotal: 59.9s\tremaining: 17.3s\n1552:\tlearn: 17.9011590\ttotal: 59.9s\tremaining: 17.3s\n1553:\tlearn: 17.8935311\ttotal: 60s\tremaining: 17.2s\n1554:\tlearn: 17.8867488\ttotal: 1m\tremaining: 17.2s\n1555:\tlearn: 17.8829755\ttotal: 1m\tremaining: 17.1s\n1556:\tlearn: 17.8716854\ttotal: 1m\tremaining: 17.1s\n1557:\tlearn: 17.8627655\ttotal: 1m\tremaining: 17.1s\n1558:\tlearn: 17.8566313\ttotal: 1m\tremaining: 17s\n1559:\tlearn: 17.8506973\ttotal: 1m\tremaining: 17s\n1560:\tlearn: 17.8396738\ttotal: 1m\tremaining: 16.9s\n1561:\tlearn: 17.8321312\ttotal: 1m\tremaining: 16.9s\n1562:\tlearn: 17.8259414\ttotal: 1m\tremaining: 16.9s\n1563:\tlearn: 17.8218873\ttotal: 1m\tremaining: 16.8s\n1564:\tlearn: 17.8184160\ttotal: 1m\tremaining: 16.8s\n1565:\tlearn: 17.8112311\ttotal: 1m\tremaining: 16.8s\n1566:\tlearn: 17.8048243\ttotal: 1m\tremaining: 16.7s\n1567:\tlearn: 17.7970259\ttotal: 1m\tremaining: 16.7s\n1568:\tlearn: 17.7916866\ttotal: 1m\tremaining: 16.6s\n1569:\tlearn: 17.7847692\ttotal: 1m\tremaining: 16.6s\n1570:\tlearn: 17.7684383\ttotal: 1m\tremaining: 16.6s\n1571:\tlearn: 17.7652661\ttotal: 1m\tremaining: 16.5s\n1572:\tlearn: 17.7524892\ttotal: 1m\tremaining: 16.5s\n1573:\tlearn: 17.7466535\ttotal: 1m\tremaining: 16.4s\n1574:\tlearn: 17.7386879\ttotal: 1m\tremaining: 16.4s\n1575:\tlearn: 17.7246439\ttotal: 1m\tremaining: 16.4s\n1576:\tlearn: 17.7216592\ttotal: 1m\tremaining: 16.3s\n1577:\tlearn: 17.7144469\ttotal: 1m\tremaining: 16.3s\n1578:\tlearn: 17.7025555\ttotal: 1m\tremaining: 16.3s\n1579:\tlearn: 17.6984758\ttotal: 1m\tremaining: 16.2s\n1580:\tlearn: 17.6950072\ttotal: 1m 1s\tremaining: 16.2s\n1581:\tlearn: 17.6845435\ttotal: 1m 1s\tremaining: 16.1s\n1582:\tlearn: 17.6772810\ttotal: 1m 1s\tremaining: 16.1s\n1583:\tlearn: 17.6695575\ttotal: 1m 1s\tremaining: 16.1s\n1584:\tlearn: 17.6667619\ttotal: 1m 1s\tremaining: 16s\n1585:\tlearn: 17.6616163\ttotal: 1m 1s\tremaining: 16s\n1586:\tlearn: 17.6534485\ttotal: 1m 1s\tremaining: 15.9s\n1587:\tlearn: 17.6465752\ttotal: 1m 1s\tremaining: 15.9s\n1588:\tlearn: 17.6409781\ttotal: 1m 1s\tremaining: 15.9s\n1589:\tlearn: 17.6310443\ttotal: 1m 1s\tremaining: 15.8s\n1590:\tlearn: 17.6248207\ttotal: 1m 1s\tremaining: 15.8s\n1591:\tlearn: 17.6204075\ttotal: 1m 1s\tremaining: 15.7s\n1592:\tlearn: 17.6155652\ttotal: 1m 1s\tremaining: 15.7s\n1593:\tlearn: 17.6130225\ttotal: 1m 1s\tremaining: 15.7s\n1594:\tlearn: 17.6086885\ttotal: 1m 1s\tremaining: 15.6s\n1595:\tlearn: 17.6038341\ttotal: 1m 1s\tremaining: 15.6s\n1596:\tlearn: 17.5965062\ttotal: 1m 1s\tremaining: 15.6s\n1597:\tlearn: 17.5895269\ttotal: 1m 1s\tremaining: 15.5s\n1598:\tlearn: 17.5835574\ttotal: 1m 1s\tremaining: 15.5s\n1599:\tlearn: 17.5772519\ttotal: 1m 1s\tremaining: 15.4s\n1600:\tlearn: 17.5650258\ttotal: 1m 1s\tremaining: 15.4s\n1601:\tlearn: 17.5588590\ttotal: 1m 1s\tremaining: 15.4s\n1602:\tlearn: 17.5514269\ttotal: 1m 1s\tremaining: 15.3s\n1603:\tlearn: 17.5459093\ttotal: 1m 1s\tremaining: 15.3s\n1604:\tlearn: 17.5387573\ttotal: 1m 1s\tremaining: 15.2s\n1605:\tlearn: 17.5335416\ttotal: 1m 1s\tremaining: 15.2s\n1606:\tlearn: 17.5298785\ttotal: 1m 2s\tremaining: 15.2s\n1607:\tlearn: 17.5239207\ttotal: 1m 2s\tremaining: 15.1s\n1608:\tlearn: 17.5181433\ttotal: 1m 2s\tremaining: 15.1s\n1609:\tlearn: 17.5131475\ttotal: 1m 2s\tremaining: 15.1s\n1610:\tlearn: 17.5084196\ttotal: 1m 2s\tremaining: 15s\n1611:\tlearn: 17.4980754\ttotal: 1m 2s\tremaining: 15s\n1612:\tlearn: 17.4931361\ttotal: 1m 2s\tremaining: 14.9s\n1613:\tlearn: 17.4820692\ttotal: 1m 2s\tremaining: 14.9s\n1614:\tlearn: 17.4778861\ttotal: 1m 2s\tremaining: 14.9s\n1615:\tlearn: 17.4729874\ttotal: 1m 2s\tremaining: 14.8s\n1616:\tlearn: 17.4633967\ttotal: 1m 2s\tremaining: 14.8s\n1617:\tlearn: 17.4583216\ttotal: 1m 2s\tremaining: 14.7s\n1618:\tlearn: 17.4470218\ttotal: 1m 2s\tremaining: 14.7s\n1619:\tlearn: 17.4379702\ttotal: 1m 2s\tremaining: 14.7s\n1620:\tlearn: 17.4267691\ttotal: 1m 2s\tremaining: 14.6s\n1621:\tlearn: 17.4174689\ttotal: 1m 2s\tremaining: 14.6s\n1622:\tlearn: 17.4083800\ttotal: 1m 2s\tremaining: 14.5s\n1623:\tlearn: 17.4034155\ttotal: 1m 2s\tremaining: 14.5s\n1624:\tlearn: 17.3970673\ttotal: 1m 2s\tremaining: 14.5s\n1625:\tlearn: 17.3902958\ttotal: 1m 2s\tremaining: 14.4s\n1626:\tlearn: 17.3820513\ttotal: 1m 2s\tremaining: 14.4s\n1627:\tlearn: 17.3749855\ttotal: 1m 2s\tremaining: 14.4s\n1628:\tlearn: 17.3705781\ttotal: 1m 2s\tremaining: 14.3s\n1629:\tlearn: 17.3680034\ttotal: 1m 2s\tremaining: 14.3s\n1630:\tlearn: 17.3624806\ttotal: 1m 2s\tremaining: 14.2s\n1631:\tlearn: 17.3570952\ttotal: 1m 2s\tremaining: 14.2s\n1632:\tlearn: 17.3449315\ttotal: 1m 3s\tremaining: 14.2s\n1633:\tlearn: 17.3406926\ttotal: 1m 3s\tremaining: 14.1s\n1634:\tlearn: 17.3334947\ttotal: 1m 3s\tremaining: 14.1s\n1635:\tlearn: 17.3283235\ttotal: 1m 3s\tremaining: 14s\n1636:\tlearn: 17.3225102\ttotal: 1m 3s\tremaining: 14s\n1637:\tlearn: 17.3063207\ttotal: 1m 3s\tremaining: 14s\n1638:\tlearn: 17.2985535\ttotal: 1m 3s\tremaining: 13.9s\n1639:\tlearn: 17.2955184\ttotal: 1m 3s\tremaining: 13.9s\n1640:\tlearn: 17.2900925\ttotal: 1m 3s\tremaining: 13.9s\n1641:\tlearn: 17.2841322\ttotal: 1m 3s\tremaining: 13.8s\n1642:\tlearn: 17.2744238\ttotal: 1m 3s\tremaining: 13.8s\n1643:\tlearn: 17.2669913\ttotal: 1m 3s\tremaining: 13.7s\n1644:\tlearn: 17.2614145\ttotal: 1m 3s\tremaining: 13.7s\n1645:\tlearn: 17.2556120\ttotal: 1m 3s\tremaining: 13.7s\n1646:\tlearn: 17.2506578\ttotal: 1m 3s\tremaining: 13.6s\n1647:\tlearn: 17.2409814\ttotal: 1m 3s\tremaining: 13.6s\n1648:\tlearn: 17.2332000\ttotal: 1m 3s\tremaining: 13.5s\n1649:\tlearn: 17.2281444\ttotal: 1m 3s\tremaining: 13.5s\n1650:\tlearn: 17.2224881\ttotal: 1m 3s\tremaining: 13.5s\n1651:\tlearn: 17.2153865\ttotal: 1m 3s\tremaining: 13.4s\n1652:\tlearn: 17.2093372\ttotal: 1m 3s\tremaining: 13.4s\n1653:\tlearn: 17.2031436\ttotal: 1m 3s\tremaining: 13.4s\n1654:\tlearn: 17.1958019\ttotal: 1m 3s\tremaining: 13.3s\n1655:\tlearn: 17.1895130\ttotal: 1m 3s\tremaining: 13.3s\n1656:\tlearn: 17.1852701\ttotal: 1m 3s\tremaining: 13.2s\n1657:\tlearn: 17.1766960\ttotal: 1m 3s\tremaining: 13.2s\n1658:\tlearn: 17.1721128\ttotal: 1m 4s\tremaining: 13.2s\n1659:\tlearn: 17.1665540\ttotal: 1m 4s\tremaining: 13.1s\n1660:\tlearn: 17.1591666\ttotal: 1m 4s\tremaining: 13.1s\n1661:\tlearn: 17.1535280\ttotal: 1m 4s\tremaining: 13s\n1662:\tlearn: 17.1485061\ttotal: 1m 4s\tremaining: 13s\n1663:\tlearn: 17.1461439\ttotal: 1m 4s\tremaining: 13s\n1664:\tlearn: 17.1414388\ttotal: 1m 4s\tremaining: 12.9s\n1665:\tlearn: 17.1319614\ttotal: 1m 4s\tremaining: 12.9s\n1666:\tlearn: 17.1275415\ttotal: 1m 4s\tremaining: 12.8s\n1667:\tlearn: 17.1240498\ttotal: 1m 4s\tremaining: 12.8s\n1668:\tlearn: 17.1163058\ttotal: 1m 4s\tremaining: 12.8s\n1669:\tlearn: 17.1086293\ttotal: 1m 4s\tremaining: 12.7s\n1670:\tlearn: 17.1020141\ttotal: 1m 4s\tremaining: 12.7s\n1671:\tlearn: 17.0969906\ttotal: 1m 4s\tremaining: 12.7s\n1672:\tlearn: 17.0918255\ttotal: 1m 4s\tremaining: 12.6s\n1673:\tlearn: 17.0866137\ttotal: 1m 4s\tremaining: 12.6s\n1674:\tlearn: 17.0794311\ttotal: 1m 4s\tremaining: 12.5s\n1675:\tlearn: 17.0743398\ttotal: 1m 4s\tremaining: 12.5s\n1676:\tlearn: 17.0667597\ttotal: 1m 4s\tremaining: 12.5s\n1677:\tlearn: 17.0618068\ttotal: 1m 4s\tremaining: 12.4s\n1678:\tlearn: 17.0548451\ttotal: 1m 4s\tremaining: 12.4s\n1679:\tlearn: 17.0488346\ttotal: 1m 4s\tremaining: 12.3s\n1680:\tlearn: 17.0428622\ttotal: 1m 4s\tremaining: 12.3s\n1681:\tlearn: 17.0360968\ttotal: 1m 4s\tremaining: 12.3s\n1682:\tlearn: 17.0309225\ttotal: 1m 4s\tremaining: 12.2s\n1683:\tlearn: 17.0278463\ttotal: 1m 4s\tremaining: 12.2s\n1684:\tlearn: 17.0247678\ttotal: 1m 4s\tremaining: 12.1s\n1685:\tlearn: 17.0166655\ttotal: 1m 5s\tremaining: 12.1s\n1686:\tlearn: 17.0105576\ttotal: 1m 5s\tremaining: 12.1s\n1687:\tlearn: 17.0042289\ttotal: 1m 5s\tremaining: 12s\n1688:\tlearn: 16.9969252\ttotal: 1m 5s\tremaining: 12s\n1689:\tlearn: 16.9907989\ttotal: 1m 5s\tremaining: 12s\n1690:\tlearn: 16.9878390\ttotal: 1m 5s\tremaining: 11.9s\n1691:\tlearn: 16.9806868\ttotal: 1m 5s\tremaining: 11.9s\n1692:\tlearn: 16.9745438\ttotal: 1m 5s\tremaining: 11.8s\n1693:\tlearn: 16.9671199\ttotal: 1m 5s\tremaining: 11.8s\n1694:\tlearn: 16.9604480\ttotal: 1m 5s\tremaining: 11.8s\n1695:\tlearn: 16.9500241\ttotal: 1m 5s\tremaining: 11.7s\n1696:\tlearn: 16.9443768\ttotal: 1m 5s\tremaining: 11.7s\n1697:\tlearn: 16.9373245\ttotal: 1m 5s\tremaining: 11.6s\n1698:\tlearn: 16.9332683\ttotal: 1m 5s\tremaining: 11.6s\n1699:\tlearn: 16.9284663\ttotal: 1m 5s\tremaining: 11.6s\n1700:\tlearn: 16.9221106\ttotal: 1m 5s\tremaining: 11.5s\n1701:\tlearn: 16.9170077\ttotal: 1m 5s\tremaining: 11.5s\n1702:\tlearn: 16.9126757\ttotal: 1m 5s\tremaining: 11.5s\n1703:\tlearn: 16.9076814\ttotal: 1m 5s\tremaining: 11.4s\n1704:\tlearn: 16.9009827\ttotal: 1m 5s\tremaining: 11.4s\n1705:\tlearn: 16.8962273\ttotal: 1m 5s\tremaining: 11.3s\n1706:\tlearn: 16.8899935\ttotal: 1m 5s\tremaining: 11.3s\n1707:\tlearn: 16.8866345\ttotal: 1m 5s\tremaining: 11.3s\n1708:\tlearn: 16.8780349\ttotal: 1m 5s\tremaining: 11.2s\n1709:\tlearn: 16.8709164\ttotal: 1m 5s\tremaining: 11.2s\n1710:\tlearn: 16.8661523\ttotal: 1m 5s\tremaining: 11.1s\n1711:\tlearn: 16.8557445\ttotal: 1m 6s\tremaining: 11.1s\n1712:\tlearn: 16.8499605\ttotal: 1m 6s\tremaining: 11.1s\n1713:\tlearn: 16.8408533\ttotal: 1m 6s\tremaining: 11s\n1714:\tlearn: 16.8347270\ttotal: 1m 6s\tremaining: 11s\n1715:\tlearn: 16.8282417\ttotal: 1m 6s\tremaining: 11s\n1716:\tlearn: 16.8203263\ttotal: 1m 6s\tremaining: 10.9s\n1717:\tlearn: 16.8165599\ttotal: 1m 6s\tremaining: 10.9s\n1718:\tlearn: 16.8139127\ttotal: 1m 6s\tremaining: 10.8s\n1719:\tlearn: 16.8105403\ttotal: 1m 6s\tremaining: 10.8s\n1720:\tlearn: 16.8024751\ttotal: 1m 6s\tremaining: 10.8s\n1721:\tlearn: 16.7961262\ttotal: 1m 6s\tremaining: 10.7s\n1722:\tlearn: 16.7898724\ttotal: 1m 6s\tremaining: 10.7s\n1723:\tlearn: 16.7851415\ttotal: 1m 6s\tremaining: 10.6s\n1724:\tlearn: 16.7805806\ttotal: 1m 6s\tremaining: 10.6s\n1725:\tlearn: 16.7696645\ttotal: 1m 6s\tremaining: 10.6s\n1726:\tlearn: 16.7638592\ttotal: 1m 6s\tremaining: 10.5s\n1727:\tlearn: 16.7554620\ttotal: 1m 6s\tremaining: 10.5s\n1728:\tlearn: 16.7498658\ttotal: 1m 6s\tremaining: 10.5s\n1729:\tlearn: 16.7459538\ttotal: 1m 6s\tremaining: 10.4s\n1730:\tlearn: 16.7403392\ttotal: 1m 6s\tremaining: 10.4s\n1731:\tlearn: 16.7310220\ttotal: 1m 6s\tremaining: 10.3s\n1732:\tlearn: 16.7230128\ttotal: 1m 6s\tremaining: 10.3s\n1733:\tlearn: 16.7168379\ttotal: 1m 6s\tremaining: 10.3s\n1734:\tlearn: 16.7097648\ttotal: 1m 6s\tremaining: 10.2s\n1735:\tlearn: 16.7024554\ttotal: 1m 6s\tremaining: 10.2s\n1736:\tlearn: 16.6953513\ttotal: 1m 7s\tremaining: 10.1s\n1737:\tlearn: 16.6919144\ttotal: 1m 7s\tremaining: 10.1s\n1738:\tlearn: 16.6837288\ttotal: 1m 7s\tremaining: 10.1s\n1739:\tlearn: 16.6785624\ttotal: 1m 7s\tremaining: 10s\n1740:\tlearn: 16.6748219\ttotal: 1m 7s\tremaining: 9.99s\n1741:\tlearn: 16.6704341\ttotal: 1m 7s\tremaining: 9.95s\n1742:\tlearn: 16.6639076\ttotal: 1m 7s\tremaining: 9.91s\n1743:\tlearn: 16.6585423\ttotal: 1m 7s\tremaining: 9.88s\n1744:\tlearn: 16.6530008\ttotal: 1m 7s\tremaining: 9.84s\n1745:\tlearn: 16.6445943\ttotal: 1m 7s\tremaining: 9.8s\n1746:\tlearn: 16.6405785\ttotal: 1m 7s\tremaining: 9.76s\n1747:\tlearn: 16.6350815\ttotal: 1m 7s\tremaining: 9.72s\n1748:\tlearn: 16.6288854\ttotal: 1m 7s\tremaining: 9.68s\n1749:\tlearn: 16.6234926\ttotal: 1m 7s\tremaining: 9.64s\n1750:\tlearn: 16.6176214\ttotal: 1m 7s\tremaining: 9.61s\n1751:\tlearn: 16.6146895\ttotal: 1m 7s\tremaining: 9.57s\n1752:\tlearn: 16.6098912\ttotal: 1m 7s\tremaining: 9.53s\n1753:\tlearn: 16.6063888\ttotal: 1m 7s\tremaining: 9.49s\n1754:\tlearn: 16.6018501\ttotal: 1m 7s\tremaining: 9.45s\n1755:\tlearn: 16.5990059\ttotal: 1m 7s\tremaining: 9.41s\n1756:\tlearn: 16.5929238\ttotal: 1m 7s\tremaining: 9.37s\n1757:\tlearn: 16.5841164\ttotal: 1m 7s\tremaining: 9.33s\n1758:\tlearn: 16.5776312\ttotal: 1m 7s\tremaining: 9.3s\n1759:\tlearn: 16.5719948\ttotal: 1m 7s\tremaining: 9.26s\n1760:\tlearn: 16.5672940\ttotal: 1m 7s\tremaining: 9.22s\n1761:\tlearn: 16.5626867\ttotal: 1m 7s\tremaining: 9.18s\n1762:\tlearn: 16.5559842\ttotal: 1m 8s\tremaining: 9.14s\n1763:\tlearn: 16.5506166\ttotal: 1m 8s\tremaining: 9.11s\n1764:\tlearn: 16.5479544\ttotal: 1m 8s\tremaining: 9.07s\n1765:\tlearn: 16.5417327\ttotal: 1m 8s\tremaining: 9.03s\n1766:\tlearn: 16.5353560\ttotal: 1m 8s\tremaining: 8.99s\n1767:\tlearn: 16.5314600\ttotal: 1m 8s\tremaining: 8.95s\n1768:\tlearn: 16.5253407\ttotal: 1m 8s\tremaining: 8.91s\n1769:\tlearn: 16.5126828\ttotal: 1m 8s\tremaining: 8.88s\n1770:\tlearn: 16.5070915\ttotal: 1m 8s\tremaining: 8.84s\n1771:\tlearn: 16.4993242\ttotal: 1m 8s\tremaining: 8.8s\n1772:\tlearn: 16.4941424\ttotal: 1m 8s\tremaining: 8.76s\n1773:\tlearn: 16.4921328\ttotal: 1m 8s\tremaining: 8.72s\n1774:\tlearn: 16.4884157\ttotal: 1m 8s\tremaining: 8.68s\n1775:\tlearn: 16.4837834\ttotal: 1m 8s\tremaining: 8.64s\n1776:\tlearn: 16.4781094\ttotal: 1m 8s\tremaining: 8.61s\n1777:\tlearn: 16.4710712\ttotal: 1m 8s\tremaining: 8.57s\n1778:\tlearn: 16.4661825\ttotal: 1m 8s\tremaining: 8.53s\n1779:\tlearn: 16.4566701\ttotal: 1m 8s\tremaining: 8.49s\n1780:\tlearn: 16.4516752\ttotal: 1m 8s\tremaining: 8.45s\n1781:\tlearn: 16.4450718\ttotal: 1m 8s\tremaining: 8.41s\n1782:\tlearn: 16.4401761\ttotal: 1m 8s\tremaining: 8.37s\n1783:\tlearn: 16.4332441\ttotal: 1m 8s\tremaining: 8.34s\n1784:\tlearn: 16.4232394\ttotal: 1m 8s\tremaining: 8.3s\n1785:\tlearn: 16.4208124\ttotal: 1m 8s\tremaining: 8.26s\n1786:\tlearn: 16.4152826\ttotal: 1m 8s\tremaining: 8.22s\n1787:\tlearn: 16.4090791\ttotal: 1m 9s\tremaining: 8.18s\n1788:\tlearn: 16.4033247\ttotal: 1m 9s\tremaining: 8.14s\n1789:\tlearn: 16.3933878\ttotal: 1m 9s\tremaining: 8.11s\n1790:\tlearn: 16.3890713\ttotal: 1m 9s\tremaining: 8.07s\n1791:\tlearn: 16.3809935\ttotal: 1m 9s\tremaining: 8.03s\n1792:\tlearn: 16.3777871\ttotal: 1m 9s\tremaining: 7.99s\n1793:\tlearn: 16.3702564\ttotal: 1m 9s\tremaining: 7.95s\n1794:\tlearn: 16.3667799\ttotal: 1m 9s\tremaining: 7.91s\n1795:\tlearn: 16.3573916\ttotal: 1m 9s\tremaining: 7.87s\n1796:\tlearn: 16.3520565\ttotal: 1m 9s\tremaining: 7.83s\n1797:\tlearn: 16.3451837\ttotal: 1m 9s\tremaining: 7.8s\n1798:\tlearn: 16.3393929\ttotal: 1m 9s\tremaining: 7.76s\n1799:\tlearn: 16.3351954\ttotal: 1m 9s\tremaining: 7.72s\n1800:\tlearn: 16.3285041\ttotal: 1m 9s\tremaining: 7.68s\n1801:\tlearn: 16.3177623\ttotal: 1m 9s\tremaining: 7.64s\n1802:\tlearn: 16.3121983\ttotal: 1m 9s\tremaining: 7.61s\n1803:\tlearn: 16.3032580\ttotal: 1m 9s\tremaining: 7.57s\n1804:\tlearn: 16.2976665\ttotal: 1m 9s\tremaining: 7.53s\n1805:\tlearn: 16.2903944\ttotal: 1m 9s\tremaining: 7.49s\n1806:\tlearn: 16.2867121\ttotal: 1m 9s\tremaining: 7.46s\n1807:\tlearn: 16.2803726\ttotal: 1m 9s\tremaining: 7.42s\n1808:\tlearn: 16.2748042\ttotal: 1m 9s\tremaining: 7.38s\n1809:\tlearn: 16.2701473\ttotal: 1m 9s\tremaining: 7.35s\n1810:\tlearn: 16.2658894\ttotal: 1m 10s\tremaining: 7.31s\n1811:\tlearn: 16.2552601\ttotal: 1m 10s\tremaining: 7.27s\n1812:\tlearn: 16.2494431\ttotal: 1m 10s\tremaining: 7.24s\n1813:\tlearn: 16.2454004\ttotal: 1m 10s\tremaining: 7.2s\n1814:\tlearn: 16.2357958\ttotal: 1m 10s\tremaining: 7.16s\n1815:\tlearn: 16.2303491\ttotal: 1m 10s\tremaining: 7.12s\n1816:\tlearn: 16.2253213\ttotal: 1m 10s\tremaining: 7.08s\n1817:\tlearn: 16.2195129\ttotal: 1m 10s\tremaining: 7.05s\n1818:\tlearn: 16.2115054\ttotal: 1m 10s\tremaining: 7.01s\n1819:\tlearn: 16.2065141\ttotal: 1m 10s\tremaining: 6.97s\n1820:\tlearn: 16.2034389\ttotal: 1m 10s\tremaining: 6.93s\n1821:\tlearn: 16.1992640\ttotal: 1m 10s\tremaining: 6.9s\n1822:\tlearn: 16.1901270\ttotal: 1m 10s\tremaining: 6.86s\n1823:\tlearn: 16.1834117\ttotal: 1m 10s\tremaining: 6.82s\n1824:\tlearn: 16.1799173\ttotal: 1m 10s\tremaining: 6.79s\n1825:\tlearn: 16.1754385\ttotal: 1m 10s\tremaining: 6.75s\n1826:\tlearn: 16.1653342\ttotal: 1m 10s\tremaining: 6.71s\n1827:\tlearn: 16.1598474\ttotal: 1m 10s\tremaining: 6.67s\n1828:\tlearn: 16.1535313\ttotal: 1m 10s\tremaining: 6.63s\n1829:\tlearn: 16.1486697\ttotal: 1m 10s\tremaining: 6.59s\n1830:\tlearn: 16.1423299\ttotal: 1m 11s\tremaining: 6.56s\n1831:\tlearn: 16.1366421\ttotal: 1m 11s\tremaining: 6.52s\n1832:\tlearn: 16.1298756\ttotal: 1m 11s\tremaining: 6.48s\n1833:\tlearn: 16.1253759\ttotal: 1m 11s\tremaining: 6.44s\n1834:\tlearn: 16.1228172\ttotal: 1m 11s\tremaining: 6.4s\n1835:\tlearn: 16.1155279\ttotal: 1m 11s\tremaining: 6.36s\n1836:\tlearn: 16.1101097\ttotal: 1m 11s\tremaining: 6.32s\n1837:\tlearn: 16.1072544\ttotal: 1m 11s\tremaining: 6.29s\n1838:\tlearn: 16.1006067\ttotal: 1m 11s\tremaining: 6.25s\n1839:\tlearn: 16.0918793\ttotal: 1m 11s\tremaining: 6.21s\n1840:\tlearn: 16.0868317\ttotal: 1m 11s\tremaining: 6.17s\n1841:\tlearn: 16.0834710\ttotal: 1m 11s\tremaining: 6.13s\n1842:\tlearn: 16.0779699\ttotal: 1m 11s\tremaining: 6.09s\n1843:\tlearn: 16.0700386\ttotal: 1m 11s\tremaining: 6.05s\n1844:\tlearn: 16.0666877\ttotal: 1m 11s\tremaining: 6.01s\n1845:\tlearn: 16.0633052\ttotal: 1m 11s\tremaining: 5.97s\n1846:\tlearn: 16.0579475\ttotal: 1m 11s\tremaining: 5.93s\n1847:\tlearn: 16.0536659\ttotal: 1m 11s\tremaining: 5.89s\n1848:\tlearn: 16.0478662\ttotal: 1m 11s\tremaining: 5.86s\n1849:\tlearn: 16.0437057\ttotal: 1m 11s\tremaining: 5.82s\n1850:\tlearn: 16.0379019\ttotal: 1m 11s\tremaining: 5.78s\n1851:\tlearn: 16.0330972\ttotal: 1m 11s\tremaining: 5.74s\n1852:\tlearn: 16.0284209\ttotal: 1m 11s\tremaining: 5.7s\n1853:\tlearn: 16.0202780\ttotal: 1m 11s\tremaining: 5.66s\n1854:\tlearn: 16.0120044\ttotal: 1m 11s\tremaining: 5.62s\n1855:\tlearn: 16.0083065\ttotal: 1m 11s\tremaining: 5.58s\n1856:\tlearn: 16.0023948\ttotal: 1m 12s\tremaining: 5.55s\n1857:\tlearn: 15.9982164\ttotal: 1m 12s\tremaining: 5.51s\n1858:\tlearn: 15.9918819\ttotal: 1m 12s\tremaining: 5.47s\n1859:\tlearn: 15.9871411\ttotal: 1m 12s\tremaining: 5.43s\n1860:\tlearn: 15.9814809\ttotal: 1m 12s\tremaining: 5.39s\n1861:\tlearn: 15.9766631\ttotal: 1m 12s\tremaining: 5.35s\n1862:\tlearn: 15.9730562\ttotal: 1m 12s\tremaining: 5.31s\n1863:\tlearn: 15.9676034\ttotal: 1m 12s\tremaining: 5.27s\n1864:\tlearn: 15.9615967\ttotal: 1m 12s\tremaining: 5.24s\n1865:\tlearn: 15.9552136\ttotal: 1m 12s\tremaining: 5.2s\n1866:\tlearn: 15.9501398\ttotal: 1m 12s\tremaining: 5.16s\n1867:\tlearn: 15.9439627\ttotal: 1m 12s\tremaining: 5.12s\n1868:\tlearn: 15.9399779\ttotal: 1m 12s\tremaining: 5.08s\n1869:\tlearn: 15.9347756\ttotal: 1m 12s\tremaining: 5.04s\n1870:\tlearn: 15.9294278\ttotal: 1m 12s\tremaining: 5s\n1871:\tlearn: 15.9246305\ttotal: 1m 12s\tremaining: 4.96s\n1872:\tlearn: 15.9173795\ttotal: 1m 12s\tremaining: 4.92s\n1873:\tlearn: 15.9100080\ttotal: 1m 12s\tremaining: 4.89s\n1874:\tlearn: 15.9030553\ttotal: 1m 12s\tremaining: 4.85s\n1875:\tlearn: 15.8965137\ttotal: 1m 12s\tremaining: 4.81s\n1876:\tlearn: 15.8920934\ttotal: 1m 12s\tremaining: 4.77s\n1877:\tlearn: 15.8869156\ttotal: 1m 12s\tremaining: 4.73s\n1878:\tlearn: 15.8795648\ttotal: 1m 12s\tremaining: 4.69s\n1879:\tlearn: 15.8686417\ttotal: 1m 12s\tremaining: 4.65s\n1880:\tlearn: 15.8634598\ttotal: 1m 12s\tremaining: 4.61s\n1881:\tlearn: 15.8565475\ttotal: 1m 12s\tremaining: 4.58s\n1882:\tlearn: 15.8503438\ttotal: 1m 13s\tremaining: 4.54s\n1883:\tlearn: 15.8433252\ttotal: 1m 13s\tremaining: 4.5s\n1884:\tlearn: 15.8359158\ttotal: 1m 13s\tremaining: 4.46s\n1885:\tlearn: 15.8325877\ttotal: 1m 13s\tremaining: 4.42s\n1886:\tlearn: 15.8285786\ttotal: 1m 13s\tremaining: 4.38s\n1887:\tlearn: 15.8234870\ttotal: 1m 13s\tremaining: 4.34s\n1888:\tlearn: 15.8162668\ttotal: 1m 13s\tremaining: 4.3s\n1889:\tlearn: 15.8138446\ttotal: 1m 13s\tremaining: 4.26s\n1890:\tlearn: 15.8095721\ttotal: 1m 13s\tremaining: 4.23s\n1891:\tlearn: 15.8053082\ttotal: 1m 13s\tremaining: 4.19s\n1892:\tlearn: 15.8009290\ttotal: 1m 13s\tremaining: 4.15s\n1893:\tlearn: 15.7981436\ttotal: 1m 13s\tremaining: 4.11s\n1894:\tlearn: 15.7944732\ttotal: 1m 13s\tremaining: 4.07s\n1895:\tlearn: 15.7903813\ttotal: 1m 13s\tremaining: 4.03s\n1896:\tlearn: 15.7862581\ttotal: 1m 13s\tremaining: 3.99s\n1897:\tlearn: 15.7738518\ttotal: 1m 13s\tremaining: 3.95s\n1898:\tlearn: 15.7664547\ttotal: 1m 13s\tremaining: 3.92s\n1899:\tlearn: 15.7630037\ttotal: 1m 13s\tremaining: 3.88s\n1900:\tlearn: 15.7594733\ttotal: 1m 13s\tremaining: 3.84s\n1901:\tlearn: 15.7515353\ttotal: 1m 13s\tremaining: 3.8s\n1902:\tlearn: 15.7483447\ttotal: 1m 13s\tremaining: 3.76s\n1903:\tlearn: 15.7435032\ttotal: 1m 13s\tremaining: 3.72s\n1904:\tlearn: 15.7393796\ttotal: 1m 13s\tremaining: 3.68s\n1905:\tlearn: 15.7333570\ttotal: 1m 13s\tremaining: 3.64s\n1906:\tlearn: 15.7301397\ttotal: 1m 13s\tremaining: 3.6s\n1907:\tlearn: 15.7251207\ttotal: 1m 13s\tremaining: 3.57s\n1908:\tlearn: 15.7217672\ttotal: 1m 14s\tremaining: 3.53s\n1909:\tlearn: 15.7180740\ttotal: 1m 14s\tremaining: 3.49s\n1910:\tlearn: 15.7126254\ttotal: 1m 14s\tremaining: 3.45s\n1911:\tlearn: 15.7088079\ttotal: 1m 14s\tremaining: 3.41s\n1912:\tlearn: 15.7032145\ttotal: 1m 14s\tremaining: 3.37s\n1913:\tlearn: 15.6943766\ttotal: 1m 14s\tremaining: 3.33s\n1914:\tlearn: 15.6883417\ttotal: 1m 14s\tremaining: 3.29s\n1915:\tlearn: 15.6830688\ttotal: 1m 14s\tremaining: 3.26s\n1916:\tlearn: 15.6766729\ttotal: 1m 14s\tremaining: 3.22s\n1917:\tlearn: 15.6710864\ttotal: 1m 14s\tremaining: 3.18s\n1918:\tlearn: 15.6651595\ttotal: 1m 14s\tremaining: 3.14s\n1919:\tlearn: 15.6611390\ttotal: 1m 14s\tremaining: 3.1s\n1920:\tlearn: 15.6578070\ttotal: 1m 14s\tremaining: 3.06s\n1921:\tlearn: 15.6512187\ttotal: 1m 14s\tremaining: 3.02s\n1922:\tlearn: 15.6478936\ttotal: 1m 14s\tremaining: 2.98s\n1923:\tlearn: 15.6421065\ttotal: 1m 14s\tremaining: 2.94s\n1924:\tlearn: 15.6384905\ttotal: 1m 14s\tremaining: 2.91s\n1925:\tlearn: 15.6339906\ttotal: 1m 14s\tremaining: 2.87s\n1926:\tlearn: 15.6284578\ttotal: 1m 14s\tremaining: 2.83s\n1927:\tlearn: 15.6222659\ttotal: 1m 14s\tremaining: 2.79s\n1928:\tlearn: 15.6158153\ttotal: 1m 14s\tremaining: 2.75s\n1929:\tlearn: 15.6106486\ttotal: 1m 14s\tremaining: 2.71s\n1930:\tlearn: 15.6063125\ttotal: 1m 14s\tremaining: 2.67s\n1931:\tlearn: 15.5978648\ttotal: 1m 14s\tremaining: 2.63s\n1932:\tlearn: 15.5910206\ttotal: 1m 14s\tremaining: 2.6s\n1933:\tlearn: 15.5861518\ttotal: 1m 14s\tremaining: 2.56s\n1934:\tlearn: 15.5822624\ttotal: 1m 14s\tremaining: 2.52s\n1935:\tlearn: 15.5757478\ttotal: 1m 15s\tremaining: 2.48s\n1936:\tlearn: 15.5714341\ttotal: 1m 15s\tremaining: 2.44s\n1937:\tlearn: 15.5654010\ttotal: 1m 15s\tremaining: 2.4s\n1938:\tlearn: 15.5580483\ttotal: 1m 15s\tremaining: 2.36s\n1939:\tlearn: 15.5484516\ttotal: 1m 15s\tremaining: 2.33s\n1940:\tlearn: 15.5433597\ttotal: 1m 15s\tremaining: 2.29s\n1941:\tlearn: 15.5368485\ttotal: 1m 15s\tremaining: 2.25s\n1942:\tlearn: 15.5321259\ttotal: 1m 15s\tremaining: 2.21s\n1943:\tlearn: 15.5243487\ttotal: 1m 15s\tremaining: 2.17s\n1944:\tlearn: 15.5210127\ttotal: 1m 15s\tremaining: 2.13s\n1945:\tlearn: 15.5189116\ttotal: 1m 15s\tremaining: 2.09s\n1946:\tlearn: 15.5131132\ttotal: 1m 15s\tremaining: 2.05s\n1947:\tlearn: 15.5072155\ttotal: 1m 15s\tremaining: 2.02s\n1948:\tlearn: 15.5035039\ttotal: 1m 15s\tremaining: 1.98s\n1949:\tlearn: 15.4999362\ttotal: 1m 15s\tremaining: 1.94s\n1950:\tlearn: 15.4973258\ttotal: 1m 15s\tremaining: 1.9s\n1951:\tlearn: 15.4915409\ttotal: 1m 15s\tremaining: 1.86s\n1952:\tlearn: 15.4855218\ttotal: 1m 15s\tremaining: 1.82s\n1953:\tlearn: 15.4818771\ttotal: 1m 15s\tremaining: 1.78s\n1954:\tlearn: 15.4757243\ttotal: 1m 15s\tremaining: 1.74s\n1955:\tlearn: 15.4714791\ttotal: 1m 15s\tremaining: 1.71s\n1956:\tlearn: 15.4636180\ttotal: 1m 15s\tremaining: 1.67s\n1957:\tlearn: 15.4569756\ttotal: 1m 15s\tremaining: 1.63s\n1958:\tlearn: 15.4511468\ttotal: 1m 15s\tremaining: 1.59s\n1959:\tlearn: 15.4463394\ttotal: 1m 15s\tremaining: 1.55s\n1960:\tlearn: 15.4401979\ttotal: 1m 16s\tremaining: 1.51s\n1961:\tlearn: 15.4338667\ttotal: 1m 16s\tremaining: 1.47s\n1962:\tlearn: 15.4303414\ttotal: 1m 16s\tremaining: 1.43s\n1963:\tlearn: 15.4187563\ttotal: 1m 16s\tremaining: 1.4s\n1964:\tlearn: 15.4142767\ttotal: 1m 16s\tremaining: 1.36s\n1965:\tlearn: 15.4089751\ttotal: 1m 16s\tremaining: 1.32s\n1966:\tlearn: 15.4041761\ttotal: 1m 16s\tremaining: 1.28s\n1967:\tlearn: 15.3966643\ttotal: 1m 16s\tremaining: 1.24s\n1968:\tlearn: 15.3887921\ttotal: 1m 16s\tremaining: 1.2s\n1969:\tlearn: 15.3829946\ttotal: 1m 16s\tremaining: 1.16s\n1970:\tlearn: 15.3758546\ttotal: 1m 16s\tremaining: 1.12s\n1971:\tlearn: 15.3687833\ttotal: 1m 16s\tremaining: 1.08s\n1972:\tlearn: 15.3635711\ttotal: 1m 16s\tremaining: 1.05s\n1973:\tlearn: 15.3589152\ttotal: 1m 16s\tremaining: 1.01s\n1974:\tlearn: 15.3565730\ttotal: 1m 16s\tremaining: 969ms\n1975:\tlearn: 15.3501092\ttotal: 1m 16s\tremaining: 930ms\n1976:\tlearn: 15.3441604\ttotal: 1m 16s\tremaining: 891ms\n1977:\tlearn: 15.3399656\ttotal: 1m 16s\tremaining: 853ms\n1978:\tlearn: 15.3342374\ttotal: 1m 16s\tremaining: 814ms\n1979:\tlearn: 15.3296433\ttotal: 1m 16s\tremaining: 775ms\n1980:\tlearn: 15.3268517\ttotal: 1m 16s\tremaining: 736ms\n1981:\tlearn: 15.3233062\ttotal: 1m 16s\tremaining: 698ms\n1982:\tlearn: 15.3135410\ttotal: 1m 16s\tremaining: 659ms\n1983:\tlearn: 15.3097090\ttotal: 1m 16s\tremaining: 620ms\n1984:\tlearn: 15.3056537\ttotal: 1m 16s\tremaining: 581ms\n1985:\tlearn: 15.3017565\ttotal: 1m 16s\tremaining: 543ms\n1986:\tlearn: 15.2944053\ttotal: 1m 17s\tremaining: 504ms\n1987:\tlearn: 15.2903385\ttotal: 1m 17s\tremaining: 465ms\n1988:\tlearn: 15.2862204\ttotal: 1m 17s\tremaining: 426ms\n1989:\tlearn: 15.2793365\ttotal: 1m 17s\tremaining: 388ms\n1990:\tlearn: 15.2750347\ttotal: 1m 17s\tremaining: 349ms\n1991:\tlearn: 15.2706868\ttotal: 1m 17s\tremaining: 310ms\n1992:\tlearn: 15.2636704\ttotal: 1m 17s\tremaining: 271ms\n1993:\tlearn: 15.2598660\ttotal: 1m 17s\tremaining: 233ms\n1994:\tlearn: 15.2563219\ttotal: 1m 17s\tremaining: 194ms\n1995:\tlearn: 15.2532941\ttotal: 1m 17s\tremaining: 155ms\n1996:\tlearn: 15.2486431\ttotal: 1m 17s\tremaining: 116ms\n1997:\tlearn: 15.2425316\ttotal: 1m 17s\tremaining: 77.5ms\n1998:\tlearn: 15.2382343\ttotal: 1m 17s\tremaining: 38.8ms\n1999:\tlearn: 15.2326755\ttotal: 1m 17s\tremaining: 0us\n",
          "output_type": "stream"
        },
        {
          "execution_count": 61,
          "output_type": "execute_result",
          "data": {
            "text/plain": "<catboost.core.CatBoostRegressor at 0x75ff54aac350>"
          },
          "metadata": {}
        }
      ]
    },
    {
      "cell_type": "code",
      "source": [
        "y_val_pred = nn_model.predict(X_val)"
      ],
      "metadata": {
        "execution": {
          "iopub.status.busy": "2023-04-05T18:32:49.504899Z",
          "iopub.execute_input": "2023-04-05T18:32:49.505234Z",
          "iopub.status.idle": "2023-04-05T18:32:49.523378Z",
          "shell.execute_reply.started": "2023-04-05T18:32:49.505199Z",
          "shell.execute_reply": "2023-04-05T18:32:49.522390Z"
        },
        "trusted": true,
        "id": "PNtC4bgpWRXm"
      },
      "execution_count": null,
      "outputs": []
    },
    {
      "cell_type": "code",
      "source": [
        "X_test = df1\n",
        "X_test = X_test[X_train.columns]"
      ],
      "metadata": {
        "papermill": {
          "duration": 0.031896,
          "end_time": "2023-03-29T11:04:30.652093",
          "exception": false,
          "start_time": "2023-03-29T11:04:30.620197",
          "status": "completed"
        },
        "tags": [],
        "execution": {
          "iopub.status.busy": "2023-04-05T18:32:49.524856Z",
          "iopub.execute_input": "2023-04-05T18:32:49.525260Z",
          "iopub.status.idle": "2023-04-05T18:32:49.540466Z",
          "shell.execute_reply.started": "2023-04-05T18:32:49.525200Z",
          "shell.execute_reply": "2023-04-05T18:32:49.539529Z"
        },
        "trusted": true,
        "id": "6MP37KlBWRXm"
      },
      "execution_count": null,
      "outputs": []
    },
    {
      "cell_type": "code",
      "source": [],
      "metadata": {
        "papermill": {
          "duration": 0.060406,
          "end_time": "2023-03-29T11:04:30.563901",
          "exception": false,
          "start_time": "2023-03-29T11:04:30.503495",
          "status": "completed"
        },
        "tags": [],
        "trusted": true,
        "id": "TVeywJMqWRXm"
      },
      "execution_count": null,
      "outputs": []
    },
    {
      "cell_type": "code",
      "source": [
        "rmse = np.sqrt(mean_squared_error(y_val, y_val_pred))\n",
        "print(f\"Root Mean Squared Error: {rmse}\")"
      ],
      "metadata": {
        "papermill": {
          "duration": 0.028647,
          "end_time": "2023-03-29T11:04:30.606135",
          "exception": false,
          "start_time": "2023-03-29T11:04:30.577488",
          "status": "completed"
        },
        "tags": [],
        "execution": {
          "iopub.status.busy": "2023-04-05T18:32:49.542085Z",
          "iopub.execute_input": "2023-04-05T18:32:49.542532Z",
          "iopub.status.idle": "2023-04-05T18:32:49.551586Z",
          "shell.execute_reply.started": "2023-04-05T18:32:49.542488Z",
          "shell.execute_reply": "2023-04-05T18:32:49.550101Z"
        },
        "trusted": true,
        "id": "9dS9K3iqWRXn",
        "outputId": "47a5f2bf-1fc5-4819-8361-45fc89b0c298"
      },
      "execution_count": null,
      "outputs": [
        {
          "name": "stdout",
          "text": "Root Mean Squared Error: 24.583502191518598\n",
          "output_type": "stream"
        }
      ]
    },
    {
      "cell_type": "code",
      "source": [
        "y_pred = nn_model.predict(X_test)\n",
        "X_test.info()\n",
        "y_pred"
      ],
      "metadata": {
        "papermill": {
          "duration": 0.177174,
          "end_time": "2023-03-29T11:04:30.844099",
          "exception": false,
          "start_time": "2023-03-29T11:04:30.666925",
          "status": "completed"
        },
        "tags": [],
        "execution": {
          "iopub.status.busy": "2023-04-05T18:32:49.554229Z",
          "iopub.execute_input": "2023-04-05T18:32:49.555581Z",
          "iopub.status.idle": "2023-04-05T18:32:49.885445Z",
          "shell.execute_reply.started": "2023-04-05T18:32:49.555523Z",
          "shell.execute_reply": "2023-04-05T18:32:49.884287Z"
        },
        "trusted": true,
        "id": "aQFFLJI9WRXn",
        "outputId": "8d5f9c12-3a8a-4e01-9470-add6e753ee5a"
      },
      "execution_count": null,
      "outputs": [
        {
          "name": "stdout",
          "text": "<class 'pandas.core.frame.DataFrame'>\nRangeIndex: 72158 entries, 0 to 72157\nData columns (total 36 columns):\n #   Column                          Non-Null Count  Dtype  \n---  ------                          --------------  -----  \n 0   route_schedule_uuid             72158 non-null  float64\n 1   route_type                      72158 non-null  float64\n 2   trip_uuid                       72158 non-null  float64\n 3   source_center                   72158 non-null  float64\n 4   source_name                     72158 non-null  float64\n 5   destination_center              72158 non-null  float64\n 6   destination_name                72158 non-null  float64\n 7   start_scan_to_end_scan          72158 non-null  float64\n 8   is_cutoff                       72158 non-null  float64\n 9   cutoff_factor                   72158 non-null  float64\n 10  cutoff_timestamp                72158 non-null  float64\n 11  actual_distance_to_destination  72158 non-null  float64\n 12  osrm_time                       72158 non-null  float64\n 13  osrm_distance                   72158 non-null  float64\n 14  factor                          72158 non-null  float64\n 15  segment_actual_time             72158 non-null  float64\n 16  segment_osrm_time               72158 non-null  float64\n 17  segment_osrm_distance           72158 non-null  float64\n 18  segment_factor                  72158 non-null  float64\n 19  od_start_time1                  72158 non-null  float64\n 20  od_end_time1                    72158 non-null  float64\n 21  trip_creation_time1             72158 non-null  float64\n 22  segment_key                     72158 non-null  float64\n 23  segment_actual_time_sum         72158 non-null  float64\n 24  segment_osrm_distance_sum       72158 non-null  float64\n 25  segment_osrm_time_sum           72158 non-null  float64\n 26  od_time_diff_hour               72158 non-null  float64\n 27  destination_state               72158 non-null  float64\n 28  destination_city                72158 non-null  float64\n 29  destination_place               72158 non-null  float64\n 30  destination_code                72158 non-null  float64\n 31  trip_year                       72158 non-null  float64\n 32  trip_month                      72158 non-null  float64\n 33  trip_hour                       72158 non-null  float64\n 34  trip_day                        72158 non-null  float64\n 35  trip_dayofweek                  72158 non-null  float64\ndtypes: float64(36)\nmemory usage: 19.8 MB\n",
          "output_type": "stream"
        },
        {
          "execution_count": 65,
          "output_type": "execute_result",
          "data": {
            "text/plain": "array([ 44.59740702,  66.60135933,  16.45121222, ...,  62.92381936,\n        94.48307534, 138.53718148])"
          },
          "metadata": {}
        }
      ]
    },
    {
      "cell_type": "code",
      "source": [
        "output_df = pd.read_csv('/kaggle/input/cassandra23-ps-2/dataset/sample_submissions.csv')\n",
        "submissions = pd.DataFrame({'UID': output_df['UID'], 'actual_time': (y_pred).astype(float)})"
      ],
      "metadata": {
        "papermill": {
          "duration": 0.090067,
          "end_time": "2023-03-29T11:04:30.948264",
          "exception": false,
          "start_time": "2023-03-29T11:04:30.858197",
          "status": "completed"
        },
        "tags": [],
        "execution": {
          "iopub.status.busy": "2023-04-05T18:32:49.886827Z",
          "iopub.execute_input": "2023-04-05T18:32:49.887132Z",
          "iopub.status.idle": "2023-04-05T18:32:49.949643Z",
          "shell.execute_reply.started": "2023-04-05T18:32:49.887103Z",
          "shell.execute_reply": "2023-04-05T18:32:49.948634Z"
        },
        "trusted": true,
        "id": "Dx2VdrBXWRXn"
      },
      "execution_count": null,
      "outputs": []
    },
    {
      "cell_type": "code",
      "source": [
        "submissions.to_csv('submissions.csv', index=False)"
      ],
      "metadata": {
        "papermill": {
          "duration": 0.197098,
          "end_time": "2023-03-29T11:04:31.159385",
          "exception": false,
          "start_time": "2023-03-29T11:04:30.962287",
          "status": "completed"
        },
        "tags": [],
        "execution": {
          "iopub.status.busy": "2023-04-05T18:32:49.950836Z",
          "iopub.execute_input": "2023-04-05T18:32:49.951172Z",
          "iopub.status.idle": "2023-04-05T18:32:50.121450Z",
          "shell.execute_reply.started": "2023-04-05T18:32:49.951140Z",
          "shell.execute_reply": "2023-04-05T18:32:50.120529Z"
        },
        "trusted": true,
        "id": "F9sfPo6OWRXn"
      },
      "execution_count": null,
      "outputs": []
    },
    {
      "cell_type": "code",
      "source": [
        "submissions"
      ],
      "metadata": {
        "papermill": {
          "duration": 0.033728,
          "end_time": "2023-03-29T11:04:31.208034",
          "exception": false,
          "start_time": "2023-03-29T11:04:31.174306",
          "status": "completed"
        },
        "tags": [],
        "execution": {
          "iopub.status.busy": "2023-04-05T18:32:50.122812Z",
          "iopub.execute_input": "2023-04-05T18:32:50.123551Z",
          "iopub.status.idle": "2023-04-05T18:32:50.137835Z",
          "shell.execute_reply.started": "2023-04-05T18:32:50.123516Z",
          "shell.execute_reply": "2023-04-05T18:32:50.136368Z"
        },
        "trusted": true,
        "id": "A1Wt2DinWRXn",
        "outputId": "0c6385d8-4310-480b-9c85-fe1edcc472d5"
      },
      "execution_count": null,
      "outputs": [
        {
          "execution_count": 68,
          "output_type": "execute_result",
          "data": {
            "text/plain": "              UID  actual_time\n0      XMsT9clviB    44.597407\n1      1iUuyRUZ2Y    66.601359\n2      wancwiAIU3    16.451212\n3      1tIt8EwJjB    64.836852\n4      W2vL6bJrjt    36.065873\n...           ...          ...\n72153  L5IrEpNBFb    43.132605\n72154  s5TDXjnN3s    49.785971\n72155  0croXy5yK5    62.923819\n72156  P0okvBa2Ik    94.483075\n72157  OVi46puumU   138.537181\n\n[72158 rows x 2 columns]",
            "text/html": "<div>\n<style scoped>\n    .dataframe tbody tr th:only-of-type {\n        vertical-align: middle;\n    }\n\n    .dataframe tbody tr th {\n        vertical-align: top;\n    }\n\n    .dataframe thead th {\n        text-align: right;\n    }\n</style>\n<table border=\"1\" class=\"dataframe\">\n  <thead>\n    <tr style=\"text-align: right;\">\n      <th></th>\n      <th>UID</th>\n      <th>actual_time</th>\n    </tr>\n  </thead>\n  <tbody>\n    <tr>\n      <th>0</th>\n      <td>XMsT9clviB</td>\n      <td>44.597407</td>\n    </tr>\n    <tr>\n      <th>1</th>\n      <td>1iUuyRUZ2Y</td>\n      <td>66.601359</td>\n    </tr>\n    <tr>\n      <th>2</th>\n      <td>wancwiAIU3</td>\n      <td>16.451212</td>\n    </tr>\n    <tr>\n      <th>3</th>\n      <td>1tIt8EwJjB</td>\n      <td>64.836852</td>\n    </tr>\n    <tr>\n      <th>4</th>\n      <td>W2vL6bJrjt</td>\n      <td>36.065873</td>\n    </tr>\n    <tr>\n      <th>...</th>\n      <td>...</td>\n      <td>...</td>\n    </tr>\n    <tr>\n      <th>72153</th>\n      <td>L5IrEpNBFb</td>\n      <td>43.132605</td>\n    </tr>\n    <tr>\n      <th>72154</th>\n      <td>s5TDXjnN3s</td>\n      <td>49.785971</td>\n    </tr>\n    <tr>\n      <th>72155</th>\n      <td>0croXy5yK5</td>\n      <td>62.923819</td>\n    </tr>\n    <tr>\n      <th>72156</th>\n      <td>P0okvBa2Ik</td>\n      <td>94.483075</td>\n    </tr>\n    <tr>\n      <th>72157</th>\n      <td>OVi46puumU</td>\n      <td>138.537181</td>\n    </tr>\n  </tbody>\n</table>\n<p>72158 rows × 2 columns</p>\n</div>"
          },
          "metadata": {}
        }
      ]
    }
  ]
}